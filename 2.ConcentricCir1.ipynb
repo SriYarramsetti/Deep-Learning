{
 "cells": [
  {
   "cell_type": "markdown",
   "id": "34b0c40d",
   "metadata": {},
   "source": [
    "## Problem-2(ConcentricCircle1)"
   ]
  },
  {
   "cell_type": "code",
   "execution_count": 1,
   "id": "85036b82",
   "metadata": {},
   "outputs": [],
   "source": [
    "import numpy as np\n",
    "import pandas as pd"
   ]
  },
  {
   "cell_type": "code",
   "execution_count": 2,
   "id": "0271e659",
   "metadata": {},
   "outputs": [],
   "source": [
    "data2=pd.read_csv(r\"C:\\Users\\harsh\\Downloads\\data (1)\\demo_data\\2.concerticcir1.csv\",header=None)"
   ]
  },
  {
   "cell_type": "code",
   "execution_count": 3,
   "id": "de38f48f",
   "metadata": {},
   "outputs": [
    {
     "data": {
      "text/html": [
       "<div>\n",
       "<style scoped>\n",
       "    .dataframe tbody tr th:only-of-type {\n",
       "        vertical-align: middle;\n",
       "    }\n",
       "\n",
       "    .dataframe tbody tr th {\n",
       "        vertical-align: top;\n",
       "    }\n",
       "\n",
       "    .dataframe thead th {\n",
       "        text-align: right;\n",
       "    }\n",
       "</style>\n",
       "<table border=\"1\" class=\"dataframe\">\n",
       "  <thead>\n",
       "    <tr style=\"text-align: right;\">\n",
       "      <th></th>\n",
       "      <th>0</th>\n",
       "      <th>1</th>\n",
       "      <th>2</th>\n",
       "    </tr>\n",
       "  </thead>\n",
       "  <tbody>\n",
       "    <tr>\n",
       "      <th>0</th>\n",
       "      <td>-0.382891</td>\n",
       "      <td>-0.090840</td>\n",
       "      <td>1.0</td>\n",
       "    </tr>\n",
       "    <tr>\n",
       "      <th>1</th>\n",
       "      <td>-0.020962</td>\n",
       "      <td>-0.477874</td>\n",
       "      <td>1.0</td>\n",
       "    </tr>\n",
       "    <tr>\n",
       "      <th>2</th>\n",
       "      <td>-0.396116</td>\n",
       "      <td>-1.289427</td>\n",
       "      <td>0.0</td>\n",
       "    </tr>\n",
       "    <tr>\n",
       "      <th>3</th>\n",
       "      <td>-0.618130</td>\n",
       "      <td>-0.063837</td>\n",
       "      <td>1.0</td>\n",
       "    </tr>\n",
       "    <tr>\n",
       "      <th>4</th>\n",
       "      <td>0.703478</td>\n",
       "      <td>-0.187038</td>\n",
       "      <td>1.0</td>\n",
       "    </tr>\n",
       "  </tbody>\n",
       "</table>\n",
       "</div>"
      ],
      "text/plain": [
       "          0         1    2\n",
       "0 -0.382891 -0.090840  1.0\n",
       "1 -0.020962 -0.477874  1.0\n",
       "2 -0.396116 -1.289427  0.0\n",
       "3 -0.618130 -0.063837  1.0\n",
       "4  0.703478 -0.187038  1.0"
      ]
     },
     "execution_count": 3,
     "metadata": {},
     "output_type": "execute_result"
    }
   ],
   "source": [
    "data2.head(5)"
   ]
  },
  {
   "cell_type": "code",
   "execution_count": 4,
   "id": "acd64d3e",
   "metadata": {},
   "outputs": [
    {
     "data": {
      "text/plain": [
       "1.0    50\n",
       "0.0    50\n",
       "Name: 2, dtype: int64"
      ]
     },
     "execution_count": 4,
     "metadata": {},
     "output_type": "execute_result"
    }
   ],
   "source": [
    "data2[2].value_counts()"
   ]
  },
  {
   "cell_type": "code",
   "execution_count": 5,
   "id": "0562a68b",
   "metadata": {},
   "outputs": [],
   "source": [
    "import seaborn as sns"
   ]
  },
  {
   "cell_type": "code",
   "execution_count": 6,
   "id": "5e0b2dd4",
   "metadata": {},
   "outputs": [
    {
     "data": {
      "text/plain": [
       "<AxesSubplot:xlabel='0', ylabel='1'>"
      ]
     },
     "execution_count": 6,
     "metadata": {},
     "output_type": "execute_result"
    },
    {
     "data": {
      "image/png": "[encoded data removed]",
      "text/plain": [
       "<Figure size 432x288 with 1 Axes>"
      ]
     },
     "metadata": {
      "needs_background": "light"
     },
     "output_type": "display_data"
    }
   ],
   "source": [
    "sns.scatterplot(x=data2[0],y=data2[1],hue=data2[2])"
   ]
  },
  {
   "cell_type": "code",
   "execution_count": 7,
   "id": "e867c934",
   "metadata": {},
   "outputs": [],
   "source": [
    "from sklearn.model_selection import train_test_split\n",
    "X_train,X_test,y_train,y_test=train_test_split(data2[[0,1]],data2[2],test_size=0.1)"
   ]
  },
  {
   "cell_type": "code",
   "execution_count": 8,
   "id": "8f5a3630",
   "metadata": {},
   "outputs": [
    {
     "data": {
      "text/html": [
       "<div>\n",
       "<style scoped>\n",
       "    .dataframe tbody tr th:only-of-type {\n",
       "        vertical-align: middle;\n",
       "    }\n",
       "\n",
       "    .dataframe tbody tr th {\n",
       "        vertical-align: top;\n",
       "    }\n",
       "\n",
       "    .dataframe thead th {\n",
       "        text-align: right;\n",
       "    }\n",
       "</style>\n",
       "<table border=\"1\" class=\"dataframe\">\n",
       "  <thead>\n",
       "    <tr style=\"text-align: right;\">\n",
       "      <th></th>\n",
       "      <th>0</th>\n",
       "      <th>1</th>\n",
       "    </tr>\n",
       "  </thead>\n",
       "  <tbody>\n",
       "    <tr>\n",
       "      <th>22</th>\n",
       "      <td>0.470255</td>\n",
       "      <td>-0.312287</td>\n",
       "    </tr>\n",
       "    <tr>\n",
       "      <th>75</th>\n",
       "      <td>0.299762</td>\n",
       "      <td>-0.079430</td>\n",
       "    </tr>\n",
       "    <tr>\n",
       "      <th>52</th>\n",
       "      <td>-1.131298</td>\n",
       "      <td>0.481061</td>\n",
       "    </tr>\n",
       "    <tr>\n",
       "      <th>96</th>\n",
       "      <td>0.126272</td>\n",
       "      <td>0.869784</td>\n",
       "    </tr>\n",
       "    <tr>\n",
       "      <th>34</th>\n",
       "      <td>0.138647</td>\n",
       "      <td>-0.239056</td>\n",
       "    </tr>\n",
       "    <tr>\n",
       "      <th>...</th>\n",
       "      <td>...</td>\n",
       "      <td>...</td>\n",
       "    </tr>\n",
       "    <tr>\n",
       "      <th>83</th>\n",
       "      <td>-0.694538</td>\n",
       "      <td>0.530141</td>\n",
       "    </tr>\n",
       "    <tr>\n",
       "      <th>30</th>\n",
       "      <td>-0.112146</td>\n",
       "      <td>0.721970</td>\n",
       "    </tr>\n",
       "    <tr>\n",
       "      <th>37</th>\n",
       "      <td>-0.058379</td>\n",
       "      <td>0.284870</td>\n",
       "    </tr>\n",
       "    <tr>\n",
       "      <th>74</th>\n",
       "      <td>0.846955</td>\n",
       "      <td>0.814358</td>\n",
       "    </tr>\n",
       "    <tr>\n",
       "      <th>35</th>\n",
       "      <td>0.327853</td>\n",
       "      <td>-1.007690</td>\n",
       "    </tr>\n",
       "  </tbody>\n",
       "</table>\n",
       "<p>90 rows × 2 columns</p>\n",
       "</div>"
      ],
      "text/plain": [
       "           0         1\n",
       "22  0.470255 -0.312287\n",
       "75  0.299762 -0.079430\n",
       "52 -1.131298  0.481061\n",
       "96  0.126272  0.869784\n",
       "34  0.138647 -0.239056\n",
       "..       ...       ...\n",
       "83 -0.694538  0.530141\n",
       "30 -0.112146  0.721970\n",
       "37 -0.058379  0.284870\n",
       "74  0.846955  0.814358\n",
       "35  0.327853 -1.007690\n",
       "\n",
       "[90 rows x 2 columns]"
      ]
     },
     "execution_count": 8,
     "metadata": {},
     "output_type": "execute_result"
    }
   ],
   "source": [
    "X_train"
   ]
  },
  {
   "cell_type": "code",
   "execution_count": 9,
   "id": "497afc80",
   "metadata": {},
   "outputs": [
    {
     "data": {
      "text/plain": [
       "22    1.0\n",
       "75    1.0\n",
       "52    0.0\n",
       "96    0.0\n",
       "34    1.0\n",
       "     ... \n",
       "83    0.0\n",
       "30    1.0\n",
       "37    1.0\n",
       "74    0.0\n",
       "35    0.0\n",
       "Name: 2, Length: 90, dtype: float64"
      ]
     },
     "execution_count": 9,
     "metadata": {},
     "output_type": "execute_result"
    }
   ],
   "source": [
    "y_train"
   ]
  },
  {
   "cell_type": "code",
   "execution_count": 15,
   "id": "3fd65674",
   "metadata": {},
   "outputs": [
    {
     "name": "stderr",
     "output_type": "stream",
     "text": [
      "C:\\Users\\harsh\\anaconda3\\lib\\site-packages\\seaborn\\_decorators.py:36: FutureWarning: Pass the following variable as a keyword arg: x. From version 0.12, the only valid positional argument will be `data`, and passing other arguments without an explicit keyword will result in an error or misinterpretation.\n",
      "  warnings.warn(\n"
     ]
    },
    {
     "data": {
      "text/plain": [
       "<AxesSubplot:xlabel='0'>"
      ]
     },
     "execution_count": 15,
     "metadata": {},
     "output_type": "execute_result"
    },
    {
     "data": {
      "image/png": "[encoded data removed]",
      "text/plain": [
       "<Figure size 432x288 with 1 Axes>"
      ]
     },
     "metadata": {
      "needs_background": "light"
     },
     "output_type": "display_data"
    }
   ],
   "source": [
    "sns.boxplot(data2[0])"
   ]
  },
  {
   "cell_type": "code",
   "execution_count": 16,
   "id": "c2802a7e",
   "metadata": {},
   "outputs": [
    {
     "name": "stderr",
     "output_type": "stream",
     "text": [
      "C:\\Users\\harsh\\anaconda3\\lib\\site-packages\\seaborn\\_decorators.py:36: FutureWarning: Pass the following variable as a keyword arg: x. From version 0.12, the only valid positional argument will be `data`, and passing other arguments without an explicit keyword will result in an error or misinterpretation.\n",
      "  warnings.warn(\n"
     ]
    },
    {
     "data": {
      "text/plain": [
       "<AxesSubplot:xlabel='1'>"
      ]
     },
     "execution_count": 16,
     "metadata": {},
     "output_type": "execute_result"
    },
    {
     "data": {
      "image/png": "[encoded data removed]",
      "text/plain": [
       "<Figure size 432x288 with 1 Axes>"
      ]
     },
     "metadata": {
      "needs_background": "light"
     },
     "output_type": "display_data"
    }
   ],
   "source": [
    "sns.boxplot(data2[1])"
   ]
  },
  {
   "cell_type": "code",
   "execution_count": 10,
   "id": "e9d85c98",
   "metadata": {},
   "outputs": [],
   "source": [
    "from sklearn.preprocessing import StandardScaler\n",
    "scaler2=StandardScaler()"
   ]
  },
  {
   "cell_type": "code",
   "execution_count": 11,
   "id": "78c7b375",
   "metadata": {},
   "outputs": [],
   "source": [
    "data_rescaled=scaler2.fit_transform(X_train)"
   ]
  },
  {
   "cell_type": "code",
   "execution_count": 50,
   "id": "165d43fc",
   "metadata": {},
   "outputs": [],
   "source": [
    "import tensorflow\n",
    "import tensorflow.keras\n",
    "from tensorflow.keras import Sequential\n",
    "from tensorflow.keras.layers import Dense\n",
    "model2=Sequential()"
   ]
  },
  {
   "cell_type": "code",
   "execution_count": 51,
   "id": "c2933cc0",
   "metadata": {},
   "outputs": [],
   "source": [
    "model2.add(Dense(7,activation=\"sigmoid\",input_dim=2))\n",
    "model2.add(Dense(5,activation=\"sigmoid\"))\n",
    "model2.add(Dense(4,activation=\"sigmoid\"))\n",
    "model2.add(Dense(3,activation=\"sigmoid\"))\n",
    "model2.add(Dense(1,activation=\"sigmoid\"))"
   ]
  },
  {
   "cell_type": "code",
   "execution_count": 52,
   "id": "0ee6f7fd",
   "metadata": {},
   "outputs": [
    {
     "name": "stdout",
     "output_type": "stream",
     "text": [
      "Model: \"sequential_5\"\n",
      "_________________________________________________________________\n",
      " Layer (type)                Output Shape              Param #   \n",
      "=================================================================\n",
      " dense_25 (Dense)            (None, 7)                 21        \n",
      "                                                                 \n",
      " dense_26 (Dense)            (None, 5)                 40        \n",
      "                                                                 \n",
      " dense_27 (Dense)            (None, 4)                 24        \n",
      "                                                                 \n",
      " dense_28 (Dense)            (None, 3)                 15        \n",
      "                                                                 \n",
      " dense_29 (Dense)            (None, 1)                 4         \n",
      "                                                                 \n",
      "=================================================================\n",
      "Total params: 104\n",
      "Trainable params: 104\n",
      "Non-trainable params: 0\n",
      "_________________________________________________________________\n"
     ]
    }
   ],
   "source": [
    "model2.summary()"
   ]
  },
  {
   "cell_type": "code",
   "execution_count": 55,
   "id": "e9d30f48",
   "metadata": {},
   "outputs": [],
   "source": [
    "model2.compile(optimizer=\"rmsprop\",loss=\"binary_crossentropy\")"
   ]
  },
  {
   "cell_type": "code",
   "execution_count": 56,
   "id": "0bdd13ea",
   "metadata": {},
   "outputs": [
    {
     "name": "stdout",
     "output_type": "stream",
     "text": [
      "Epoch 1/300\n",
      "9/9 [==============================] - 0s 990us/step - loss: 0.6936\n",
      "Epoch 2/300\n",
      "9/9 [==============================] - 0s 2ms/step - loss: 0.6931\n",
      "Epoch 3/300\n",
      "9/9 [==============================] - 0s 1000us/step - loss: 0.6933\n",
      "Epoch 4/300\n",
      "9/9 [==============================] - 0s 1ms/step - loss: 0.6931\n",
      "Epoch 5/300\n",
      "9/9 [==============================] - 0s 999us/step - loss: 0.6932\n",
      "Epoch 6/300\n",
      "9/9 [==============================] - 0s 1ms/step - loss: 0.6929\n",
      "Epoch 7/300\n",
      "9/9 [==============================] - 0s 2ms/step - loss: 0.6933\n",
      "Epoch 8/300\n",
      "9/9 [==============================] - 0s 2ms/step - loss: 0.6929\n",
      "Epoch 9/300\n",
      "9/9 [==============================] - 0s 1ms/step - loss: 0.6932\n",
      "Epoch 10/300\n",
      "9/9 [==============================] - 0s 1ms/step - loss: 0.6933\n",
      "Epoch 11/300\n",
      "9/9 [==============================] - 0s 1ms/step - loss: 0.6932\n",
      "Epoch 12/300\n",
      "9/9 [==============================] - 0s 1ms/step - loss: 0.6929\n",
      "Epoch 13/300\n",
      "9/9 [==============================] - 0s 2ms/step - loss: 0.6931\n",
      "Epoch 14/300\n",
      "9/9 [==============================] - 0s 1ms/step - loss: 0.6932\n",
      "Epoch 15/300\n",
      "9/9 [==============================] - 0s 2ms/step - loss: 0.6933\n",
      "Epoch 16/300\n",
      "9/9 [==============================] - 0s 1ms/step - loss: 0.6930\n",
      "Epoch 17/300\n",
      "9/9 [==============================] - 0s 1ms/step - loss: 0.6933\n",
      "Epoch 18/300\n",
      "9/9 [==============================] - 0s 1ms/step - loss: 0.6930\n",
      "Epoch 19/300\n",
      "9/9 [==============================] - 0s 813us/step - loss: 0.6930\n",
      "Epoch 20/300\n",
      "9/9 [==============================] - 0s 1ms/step - loss: 0.6930\n",
      "Epoch 21/300\n",
      "9/9 [==============================] - 0s 1ms/step - loss: 0.6932\n",
      "Epoch 22/300\n",
      "9/9 [==============================] - 0s 1ms/step - loss: 0.6930\n",
      "Epoch 23/300\n",
      "9/9 [==============================] - 0s 1ms/step - loss: 0.6932\n",
      "Epoch 24/300\n",
      "9/9 [==============================] - 0s 1ms/step - loss: 0.6933\n",
      "Epoch 25/300\n",
      "9/9 [==============================] - 0s 1ms/step - loss: 0.6930\n",
      "Epoch 26/300\n",
      "9/9 [==============================] - 0s 2ms/step - loss: 0.6931\n",
      "Epoch 27/300\n",
      "9/9 [==============================] - 0s 500us/step - loss: 0.6931\n",
      "Epoch 28/300\n",
      "9/9 [==============================] - 0s 1ms/step - loss: 0.6932\n",
      "Epoch 29/300\n",
      "9/9 [==============================] - 0s 1ms/step - loss: 0.6930\n",
      "Epoch 30/300\n",
      "9/9 [==============================] - 0s 1ms/step - loss: 0.6930\n",
      "Epoch 31/300\n",
      "9/9 [==============================] - 0s 1ms/step - loss: 0.6930\n",
      "Epoch 32/300\n",
      "9/9 [==============================] - 0s 1ms/step - loss: 0.6929\n",
      "Epoch 33/300\n",
      "9/9 [==============================] - 0s 1ms/step - loss: 0.6931\n",
      "Epoch 34/300\n",
      "9/9 [==============================] - 0s 1ms/step - loss: 0.6930\n",
      "Epoch 35/300\n",
      "9/9 [==============================] - 0s 252us/step - loss: 0.6930\n",
      "Epoch 36/300\n",
      "9/9 [==============================] - 0s 1ms/step - loss: 0.6929\n",
      "Epoch 37/300\n",
      "9/9 [==============================] - 0s 1ms/step - loss: 0.6931\n",
      "Epoch 38/300\n",
      "9/9 [==============================] - 0s 1ms/step - loss: 0.6929\n",
      "Epoch 39/300\n",
      "9/9 [==============================] - 0s 1ms/step - loss: 0.6931\n",
      "Epoch 40/300\n",
      "9/9 [==============================] - 0s 1ms/step - loss: 0.6930\n",
      "Epoch 41/300\n",
      "9/9 [==============================] - 0s 2ms/step - loss: 0.6932\n",
      "Epoch 42/300\n",
      "9/9 [==============================] - 0s 1ms/step - loss: 0.6932\n",
      "Epoch 43/300\n",
      "9/9 [==============================] - 0s 1ms/step - loss: 0.6930\n",
      "Epoch 44/300\n",
      "9/9 [==============================] - 0s 2ms/step - loss: 0.6930\n",
      "Epoch 45/300\n",
      "9/9 [==============================] - 0s 1ms/step - loss: 0.6930\n",
      "Epoch 46/300\n",
      "9/9 [==============================] - 0s 1ms/step - loss: 0.6933\n",
      "Epoch 47/300\n",
      "9/9 [==============================] - 0s 1ms/step - loss: 0.6932\n",
      "Epoch 48/300\n",
      "9/9 [==============================] - 0s 1ms/step - loss: 0.6931\n",
      "Epoch 49/300\n",
      "9/9 [==============================] - 0s 1ms/step - loss: 0.6931\n",
      "Epoch 50/300\n",
      "9/9 [==============================] - 0s 1ms/step - loss: 0.6932\n",
      "Epoch 51/300\n",
      "9/9 [==============================] - 0s 1ms/step - loss: 0.6929\n",
      "Epoch 52/300\n",
      "9/9 [==============================] - 0s 1ms/step - loss: 0.6931\n",
      "Epoch 53/300\n",
      "9/9 [==============================] - 0s 1ms/step - loss: 0.6929\n",
      "Epoch 54/300\n",
      "9/9 [==============================] - 0s 1ms/step - loss: 0.6931\n",
      "Epoch 55/300\n",
      "9/9 [==============================] - 0s 1ms/step - loss: 0.6930\n",
      "Epoch 56/300\n",
      "9/9 [==============================] - 0s 1ms/step - loss: 0.6931\n",
      "Epoch 57/300\n",
      "9/9 [==============================] - 0s 1ms/step - loss: 0.6930\n",
      "Epoch 58/300\n",
      "9/9 [==============================] - 0s 1ms/step - loss: 0.6933\n",
      "Epoch 59/300\n",
      "9/9 [==============================] - 0s 376us/step - loss: 0.6932\n",
      "Epoch 60/300\n",
      "9/9 [==============================] - 0s 1ms/step - loss: 0.6932\n",
      "Epoch 61/300\n",
      "9/9 [==============================] - 0s 0s/step - loss: 0.6931\n",
      "Epoch 62/300\n",
      "9/9 [==============================] - 0s 1ms/step - loss: 0.6931\n",
      "Epoch 63/300\n",
      "9/9 [==============================] - 0s 1ms/step - loss: 0.6931\n",
      "Epoch 64/300\n",
      "9/9 [==============================] - 0s 1ms/step - loss: 0.6932\n",
      "Epoch 65/300\n",
      "9/9 [==============================] - 0s 1ms/step - loss: 0.6933\n",
      "Epoch 66/300\n",
      "9/9 [==============================] - 0s 1ms/step - loss: 0.6931\n",
      "Epoch 67/300\n",
      "9/9 [==============================] - 0s 1ms/step - loss: 0.6930\n",
      "Epoch 68/300\n",
      "9/9 [==============================] - 0s 1ms/step - loss: 0.6933\n",
      "Epoch 69/300\n",
      "9/9 [==============================] - 0s 1ms/step - loss: 0.6932\n",
      "Epoch 70/300\n",
      "9/9 [==============================] - 0s 1ms/step - loss: 0.6931\n",
      "Epoch 71/300\n",
      "9/9 [==============================] - 0s 1ms/step - loss: 0.6932\n",
      "Epoch 72/300\n",
      "9/9 [==============================] - 0s 1ms/step - loss: 0.6930\n",
      "Epoch 73/300\n",
      "9/9 [==============================] - 0s 1ms/step - loss: 0.6931\n",
      "Epoch 74/300\n",
      "9/9 [==============================] - 0s 1ms/step - loss: 0.6931\n",
      "Epoch 75/300\n",
      "9/9 [==============================] - 0s 1ms/step - loss: 0.6930\n",
      "Epoch 76/300\n",
      "9/9 [==============================] - 0s 1ms/step - loss: 0.6929\n",
      "Epoch 77/300\n",
      "9/9 [==============================] - 0s 1ms/step - loss: 0.6931\n",
      "Epoch 78/300\n",
      "9/9 [==============================] - 0s 1ms/step - loss: 0.6930\n",
      "Epoch 79/300\n",
      "9/9 [==============================] - 0s 877us/step - loss: 0.6930\n",
      "Epoch 80/300\n",
      "9/9 [==============================] - 0s 0s/step - loss: 0.6931\n",
      "Epoch 81/300\n",
      "9/9 [==============================] - 0s 1ms/step - loss: 0.6932\n",
      "Epoch 82/300\n",
      "9/9 [==============================] - 0s 1ms/step - loss: 0.6930\n",
      "Epoch 83/300\n",
      "9/9 [==============================] - 0s 0s/step - loss: 0.6930\n",
      "Epoch 84/300\n",
      "9/9 [==============================] - 0s 1ms/step - loss: 0.6933\n",
      "Epoch 85/300\n",
      "9/9 [==============================] - 0s 1ms/step - loss: 0.6930\n",
      "Epoch 86/300\n",
      "9/9 [==============================] - 0s 1ms/step - loss: 0.6932\n",
      "Epoch 87/300\n",
      "9/9 [==============================] - 0s 1ms/step - loss: 0.6930\n",
      "Epoch 88/300\n",
      "9/9 [==============================] - 0s 1ms/step - loss: 0.6931\n",
      "Epoch 89/300\n",
      "9/9 [==============================] - 0s 1ms/step - loss: 0.6930\n",
      "Epoch 90/300\n",
      "9/9 [==============================] - 0s 1ms/step - loss: 0.6930\n",
      "Epoch 91/300\n",
      "9/9 [==============================] - 0s 1ms/step - loss: 0.6930\n",
      "Epoch 92/300\n",
      "9/9 [==============================] - 0s 1ms/step - loss: 0.6930\n",
      "Epoch 93/300\n",
      "9/9 [==============================] - 0s 1ms/step - loss: 0.6932\n",
      "Epoch 94/300\n",
      "9/9 [==============================] - 0s 1ms/step - loss: 0.6931\n",
      "Epoch 95/300\n",
      "9/9 [==============================] - 0s 1ms/step - loss: 0.6932\n",
      "Epoch 96/300\n",
      "9/9 [==============================] - 0s 1ms/step - loss: 0.6929\n",
      "Epoch 97/300\n",
      "9/9 [==============================] - 0s 2ms/step - loss: 0.6933\n",
      "Epoch 98/300\n",
      "9/9 [==============================] - 0s 1ms/step - loss: 0.6931\n",
      "Epoch 99/300\n",
      "9/9 [==============================] - 0s 1ms/step - loss: 0.6929\n",
      "Epoch 100/300\n",
      "9/9 [==============================] - 0s 2ms/step - loss: 0.6932\n",
      "Epoch 101/300\n",
      "9/9 [==============================] - 0s 1ms/step - loss: 0.6929\n",
      "Epoch 102/300\n",
      "9/9 [==============================] - 0s 1ms/step - loss: 0.6931\n",
      "Epoch 103/300\n",
      "9/9 [==============================] - 0s 1ms/step - loss: 0.6930\n",
      "Epoch 104/300\n",
      "9/9 [==============================] - 0s 1ms/step - loss: 0.6931\n",
      "Epoch 105/300\n",
      "9/9 [==============================] - 0s 2ms/step - loss: 0.6930\n",
      "Epoch 106/300\n",
      "9/9 [==============================] - 0s 938us/step - loss: 0.6931\n",
      "Epoch 107/300\n",
      "9/9 [==============================] - 0s 1ms/step - loss: 0.6930\n",
      "Epoch 108/300\n",
      "9/9 [==============================] - 0s 1ms/step - loss: 0.6929\n",
      "Epoch 109/300\n",
      "9/9 [==============================] - 0s 1ms/step - loss: 0.6930\n",
      "Epoch 110/300\n",
      "9/9 [==============================] - 0s 1ms/step - loss: 0.6932\n",
      "Epoch 111/300\n",
      "9/9 [==============================] - 0s 1ms/step - loss: 0.6929\n",
      "Epoch 112/300\n",
      "9/9 [==============================] - 0s 1ms/step - loss: 0.6930\n",
      "Epoch 113/300\n",
      "9/9 [==============================] - 0s 1ms/step - loss: 0.6932\n",
      "Epoch 114/300\n",
      "9/9 [==============================] - 0s 1ms/step - loss: 0.6931\n",
      "Epoch 115/300\n",
      "9/9 [==============================] - 0s 1ms/step - loss: 0.6930\n",
      "Epoch 116/300\n",
      "9/9 [==============================] - 0s 1ms/step - loss: 0.6929\n",
      "Epoch 117/300\n",
      "9/9 [==============================] - 0s 1ms/step - loss: 0.6929\n",
      "Epoch 118/300\n",
      "9/9 [==============================] - 0s 1ms/step - loss: 0.6934\n",
      "Epoch 119/300\n",
      "9/9 [==============================] - 0s 1ms/step - loss: 0.6934\n",
      "Epoch 120/300\n",
      "9/9 [==============================] - 0s 1ms/step - loss: 0.6928\n",
      "Epoch 121/300\n",
      "9/9 [==============================] - 0s 0s/step - loss: 0.6931\n",
      "Epoch 122/300\n",
      "9/9 [==============================] - 0s 1ms/step - loss: 0.6930\n",
      "Epoch 123/300\n",
      "9/9 [==============================] - 0s 1ms/step - loss: 0.6933\n",
      "Epoch 124/300\n",
      "9/9 [==============================] - 0s 2ms/step - loss: 0.6930\n",
      "Epoch 125/300\n",
      "9/9 [==============================] - 0s 375us/step - loss: 0.6929\n",
      "Epoch 126/300\n",
      "9/9 [==============================] - 0s 1ms/step - loss: 0.6929\n",
      "Epoch 127/300\n",
      "9/9 [==============================] - 0s 1ms/step - loss: 0.6929\n",
      "Epoch 128/300\n",
      "9/9 [==============================] - 0s 1ms/step - loss: 0.6930\n",
      "Epoch 129/300\n",
      "9/9 [==============================] - 0s 1ms/step - loss: 0.6929\n",
      "Epoch 130/300\n",
      "9/9 [==============================] - 0s 1ms/step - loss: 0.6933\n",
      "Epoch 131/300\n",
      "9/9 [==============================] - 0s 0s/step - loss: 0.6931\n",
      "Epoch 132/300\n",
      "9/9 [==============================] - 0s 1ms/step - loss: 0.6929\n",
      "Epoch 133/300\n",
      "9/9 [==============================] - 0s 1ms/step - loss: 0.6931\n",
      "Epoch 134/300\n",
      "9/9 [==============================] - 0s 1ms/step - loss: 0.6929\n",
      "Epoch 135/300\n",
      "9/9 [==============================] - 0s 1ms/step - loss: 0.6929\n",
      "Epoch 136/300\n",
      "9/9 [==============================] - 0s 0s/step - loss: 0.6932\n",
      "Epoch 137/300\n",
      "9/9 [==============================] - 0s 1ms/step - loss: 0.6929\n",
      "Epoch 138/300\n",
      "9/9 [==============================] - 0s 1ms/step - loss: 0.6937\n",
      "Epoch 139/300\n",
      "9/9 [==============================] - 0s 1ms/step - loss: 0.6928\n",
      "Epoch 140/300\n",
      "9/9 [==============================] - 0s 1ms/step - loss: 0.6928\n",
      "Epoch 141/300\n",
      "9/9 [==============================] - 0s 1ms/step - loss: 0.6930\n",
      "Epoch 142/300\n",
      "9/9 [==============================] - 0s 1ms/step - loss: 0.6932\n",
      "Epoch 143/300\n",
      "9/9 [==============================] - 0s 1ms/step - loss: 0.6932\n",
      "Epoch 144/300\n",
      "9/9 [==============================] - 0s 1ms/step - loss: 0.6931\n",
      "Epoch 145/300\n",
      "9/9 [==============================] - 0s 938us/step - loss: 0.6932\n",
      "Epoch 146/300\n",
      "9/9 [==============================] - 0s 1ms/step - loss: 0.6928\n",
      "Epoch 147/300\n",
      "9/9 [==============================] - 0s 2ms/step - loss: 0.6931\n",
      "Epoch 148/300\n",
      "9/9 [==============================] - 0s 1ms/step - loss: 0.6930\n",
      "Epoch 149/300\n",
      "9/9 [==============================] - 0s 1ms/step - loss: 0.6932\n",
      "Epoch 150/300\n",
      "9/9 [==============================] - 0s 1ms/step - loss: 0.6929\n",
      "Epoch 151/300\n",
      "9/9 [==============================] - 0s 0s/step - loss: 0.6930\n",
      "Epoch 152/300\n",
      "9/9 [==============================] - 0s 1ms/step - loss: 0.6931\n",
      "Epoch 153/300\n",
      "9/9 [==============================] - 0s 1ms/step - loss: 0.6930\n",
      "Epoch 154/300\n",
      "9/9 [==============================] - 0s 1ms/step - loss: 0.6929\n",
      "Epoch 155/300\n",
      "9/9 [==============================] - 0s 1ms/step - loss: 0.6929\n",
      "Epoch 156/300\n",
      "9/9 [==============================] - 0s 2ms/step - loss: 0.6933\n",
      "Epoch 157/300\n",
      "9/9 [==============================] - 0s 1ms/step - loss: 0.6930\n",
      "Epoch 158/300\n",
      "9/9 [==============================] - 0s 2ms/step - loss: 0.6929\n",
      "Epoch 159/300\n",
      "9/9 [==============================] - 0s 1ms/step - loss: 0.6931\n",
      "Epoch 160/300\n",
      "9/9 [==============================] - 0s 1ms/step - loss: 0.6929\n",
      "Epoch 161/300\n",
      "9/9 [==============================] - 0s 1ms/step - loss: 0.6927\n",
      "Epoch 162/300\n",
      "9/9 [==============================] - 0s 1ms/step - loss: 0.6930\n",
      "Epoch 163/300\n",
      "9/9 [==============================] - 0s 1ms/step - loss: 0.6933\n",
      "Epoch 164/300\n",
      "9/9 [==============================] - 0s 2ms/step - loss: 0.6930\n",
      "Epoch 165/300\n",
      "9/9 [==============================] - 0s 1ms/step - loss: 0.6930\n",
      "Epoch 166/300\n",
      "9/9 [==============================] - 0s 1ms/step - loss: 0.6929\n",
      "Epoch 167/300\n",
      "9/9 [==============================] - 0s 1ms/step - loss: 0.6930\n",
      "Epoch 168/300\n",
      "9/9 [==============================] - 0s 1ms/step - loss: 0.6929\n",
      "Epoch 169/300\n",
      "9/9 [==============================] - 0s 1ms/step - loss: 0.6931\n",
      "Epoch 170/300\n",
      "9/9 [==============================] - 0s 1ms/step - loss: 0.6930\n",
      "Epoch 171/300\n",
      "9/9 [==============================] - 0s 1ms/step - loss: 0.6930\n",
      "Epoch 172/300\n",
      "9/9 [==============================] - 0s 938us/step - loss: 0.6930\n",
      "Epoch 173/300\n",
      "9/9 [==============================] - 0s 1ms/step - loss: 0.6928\n",
      "Epoch 174/300\n",
      "9/9 [==============================] - 0s 1ms/step - loss: 0.6929\n",
      "Epoch 175/300\n",
      "9/9 [==============================] - 0s 1ms/step - loss: 0.6931\n",
      "Epoch 176/300\n",
      "9/9 [==============================] - 0s 1ms/step - loss: 0.6928\n",
      "Epoch 177/300\n",
      "9/9 [==============================] - 0s 1ms/step - loss: 0.6930\n",
      "Epoch 178/300\n",
      "9/9 [==============================] - 0s 1ms/step - loss: 0.6929\n",
      "Epoch 179/300\n",
      "9/9 [==============================] - 0s 1ms/step - loss: 0.6931\n",
      "Epoch 180/300\n",
      "9/9 [==============================] - 0s 1ms/step - loss: 0.6930\n",
      "Epoch 181/300\n",
      "9/9 [==============================] - 0s 1ms/step - loss: 0.6929\n",
      "Epoch 182/300\n",
      "9/9 [==============================] - 0s 689us/step - loss: 0.6930\n",
      "Epoch 183/300\n",
      "9/9 [==============================] - 0s 1ms/step - loss: 0.6933\n",
      "Epoch 184/300\n",
      "9/9 [==============================] - 0s 1ms/step - loss: 0.6928\n",
      "Epoch 185/300\n",
      "9/9 [==============================] - 0s 1ms/step - loss: 0.6929\n",
      "Epoch 186/300\n",
      "9/9 [==============================] - 0s 1ms/step - loss: 0.6929\n",
      "Epoch 187/300\n",
      "9/9 [==============================] - 0s 1ms/step - loss: 0.6929\n",
      "Epoch 188/300\n",
      "9/9 [==============================] - 0s 1ms/step - loss: 0.6928\n",
      "Epoch 189/300\n",
      "9/9 [==============================] - 0s 1ms/step - loss: 0.6932\n",
      "Epoch 190/300\n",
      "9/9 [==============================] - 0s 1ms/step - loss: 0.6928\n",
      "Epoch 191/300\n",
      "9/9 [==============================] - 0s 376us/step - loss: 0.6929\n",
      "Epoch 192/300\n",
      "9/9 [==============================] - 0s 1ms/step - loss: 0.6933\n",
      "Epoch 193/300\n",
      "9/9 [==============================] - 0s 1ms/step - loss: 0.6928\n",
      "Epoch 194/300\n",
      "9/9 [==============================] - 0s 1ms/step - loss: 0.6931\n",
      "Epoch 195/300\n",
      "9/9 [==============================] - 0s 1ms/step - loss: 0.6929\n",
      "Epoch 196/300\n",
      "9/9 [==============================] - 0s 1ms/step - loss: 0.6930\n",
      "Epoch 197/300\n",
      "9/9 [==============================] - 0s 1ms/step - loss: 0.6930\n",
      "Epoch 198/300\n",
      "9/9 [==============================] - 0s 1ms/step - loss: 0.6930\n",
      "Epoch 199/300\n",
      "9/9 [==============================] - 0s 1ms/step - loss: 0.6930\n",
      "Epoch 200/300\n",
      "9/9 [==============================] - 0s 1ms/step - loss: 0.6929\n",
      "Epoch 201/300\n",
      "9/9 [==============================] - 0s 1ms/step - loss: 0.6927\n",
      "Epoch 202/300\n",
      "9/9 [==============================] - 0s 1ms/step - loss: 0.6930\n",
      "Epoch 203/300\n",
      "9/9 [==============================] - 0s 1ms/step - loss: 0.6930\n",
      "Epoch 204/300\n",
      "9/9 [==============================] - 0s 0s/step - loss: 0.6930\n",
      "Epoch 205/300\n",
      "9/9 [==============================] - 0s 1ms/step - loss: 0.6929\n",
      "Epoch 206/300\n"
     ]
    },
    {
     "name": "stdout",
     "output_type": "stream",
     "text": [
      "9/9 [==============================] - 0s 1ms/step - loss: 0.6929\n",
      "Epoch 207/300\n",
      "9/9 [==============================] - 0s 1ms/step - loss: 0.6930\n",
      "Epoch 208/300\n",
      "9/9 [==============================] - 0s 750us/step - loss: 0.6930\n",
      "Epoch 209/300\n",
      "9/9 [==============================] - 0s 0s/step - loss: 0.6930\n",
      "Epoch 210/300\n",
      "9/9 [==============================] - 0s 1ms/step - loss: 0.6929\n",
      "Epoch 211/300\n",
      "9/9 [==============================] - 0s 1ms/step - loss: 0.6929\n",
      "Epoch 212/300\n",
      "9/9 [==============================] - 0s 1ms/step - loss: 0.6929\n",
      "Epoch 213/300\n",
      "9/9 [==============================] - 0s 1ms/step - loss: 0.6931\n",
      "Epoch 214/300\n",
      "9/9 [==============================] - 0s 1ms/step - loss: 0.6928\n",
      "Epoch 215/300\n",
      "9/9 [==============================] - 0s 1ms/step - loss: 0.6929\n",
      "Epoch 216/300\n",
      "9/9 [==============================] - 0s 1ms/step - loss: 0.6929\n",
      "Epoch 217/300\n",
      "9/9 [==============================] - 0s 2ms/step - loss: 0.6928\n",
      "Epoch 218/300\n",
      "9/9 [==============================] - 0s 1ms/step - loss: 0.6930\n",
      "Epoch 219/300\n",
      "9/9 [==============================] - 0s 1ms/step - loss: 0.6929\n",
      "Epoch 220/300\n",
      "9/9 [==============================] - 0s 1ms/step - loss: 0.6931\n",
      "Epoch 221/300\n",
      "9/9 [==============================] - 0s 1ms/step - loss: 0.6929\n",
      "Epoch 222/300\n",
      "9/9 [==============================] - 0s 0s/step - loss: 0.6930\n",
      "Epoch 223/300\n",
      "9/9 [==============================] - 0s 1ms/step - loss: 0.6929\n",
      "Epoch 224/300\n",
      "9/9 [==============================] - 0s 1ms/step - loss: 0.6928\n",
      "Epoch 225/300\n",
      "9/9 [==============================] - 0s 1ms/step - loss: 0.6930\n",
      "Epoch 226/300\n",
      "9/9 [==============================] - 0s 1ms/step - loss: 0.6928\n",
      "Epoch 227/300\n",
      "9/9 [==============================] - 0s 1ms/step - loss: 0.6928\n",
      "Epoch 228/300\n",
      "9/9 [==============================] - 0s 1ms/step - loss: 0.6930\n",
      "Epoch 229/300\n",
      "9/9 [==============================] - 0s 1ms/step - loss: 0.6929\n",
      "Epoch 230/300\n",
      "9/9 [==============================] - 0s 1ms/step - loss: 0.6929\n",
      "Epoch 231/300\n",
      "9/9 [==============================] - 0s 1ms/step - loss: 0.6930\n",
      "Epoch 232/300\n",
      "9/9 [==============================] - 0s 2ms/step - loss: 0.6928\n",
      "Epoch 233/300\n",
      "9/9 [==============================] - 0s 1ms/step - loss: 0.6928\n",
      "Epoch 234/300\n",
      "9/9 [==============================] - 0s 1ms/step - loss: 0.6929\n",
      "Epoch 235/300\n",
      "9/9 [==============================] - 0s 1ms/step - loss: 0.6929\n",
      "Epoch 236/300\n",
      "9/9 [==============================] - 0s 1ms/step - loss: 0.6927\n",
      "Epoch 237/300\n",
      "9/9 [==============================] - 0s 1ms/step - loss: 0.6929\n",
      "Epoch 238/300\n",
      "9/9 [==============================] - 0s 1ms/step - loss: 0.6932\n",
      "Epoch 239/300\n",
      "9/9 [==============================] - 0s 0s/step - loss: 0.6928\n",
      "Epoch 240/300\n",
      "9/9 [==============================] - 0s 1ms/step - loss: 0.6927\n",
      "Epoch 241/300\n",
      "9/9 [==============================] - 0s 1ms/step - loss: 0.6933\n",
      "Epoch 242/300\n",
      "9/9 [==============================] - 0s 1ms/step - loss: 0.6929\n",
      "Epoch 243/300\n",
      "9/9 [==============================] - 0s 1ms/step - loss: 0.6926\n",
      "Epoch 244/300\n",
      "9/9 [==============================] - 0s 1ms/step - loss: 0.6928\n",
      "Epoch 245/300\n",
      "9/9 [==============================] - 0s 2ms/step - loss: 0.6931\n",
      "Epoch 246/300\n",
      "9/9 [==============================] - 0s 1ms/step - loss: 0.6929\n",
      "Epoch 247/300\n",
      "9/9 [==============================] - 0s 1ms/step - loss: 0.6929\n",
      "Epoch 248/300\n",
      "9/9 [==============================] - 0s 1ms/step - loss: 0.6927\n",
      "Epoch 249/300\n",
      "9/9 [==============================] - 0s 1ms/step - loss: 0.6931\n",
      "Epoch 250/300\n",
      "9/9 [==============================] - 0s 2ms/step - loss: 0.6928\n",
      "Epoch 251/300\n",
      "9/9 [==============================] - 0s 1ms/step - loss: 0.6927\n",
      "Epoch 252/300\n",
      "9/9 [==============================] - 0s 1ms/step - loss: 0.6929\n",
      "Epoch 253/300\n",
      "9/9 [==============================] - 0s 1ms/step - loss: 0.6927\n",
      "Epoch 254/300\n",
      "9/9 [==============================] - 0s 938us/step - loss: 0.6926\n",
      "Epoch 255/300\n",
      "9/9 [==============================] - 0s 1ms/step - loss: 0.6934\n",
      "Epoch 256/300\n",
      "9/9 [==============================] - 0s 1ms/step - loss: 0.6929\n",
      "Epoch 257/300\n",
      "9/9 [==============================] - 0s 1ms/step - loss: 0.6929\n",
      "Epoch 258/300\n",
      "9/9 [==============================] - 0s 1ms/step - loss: 0.6928\n",
      "Epoch 259/300\n",
      "9/9 [==============================] - 0s 1ms/step - loss: 0.6927\n",
      "Epoch 260/300\n",
      "9/9 [==============================] - 0s 1ms/step - loss: 0.6928\n",
      "Epoch 261/300\n",
      "9/9 [==============================] - 0s 1ms/step - loss: 0.6927\n",
      "Epoch 262/300\n",
      "9/9 [==============================] - 0s 1ms/step - loss: 0.6927\n",
      "Epoch 263/300\n",
      "9/9 [==============================] - 0s 1ms/step - loss: 0.6929\n",
      "Epoch 264/300\n",
      "9/9 [==============================] - 0s 1ms/step - loss: 0.6929\n",
      "Epoch 265/300\n",
      "9/9 [==============================] - 0s 1ms/step - loss: 0.6928\n",
      "Epoch 266/300\n",
      "9/9 [==============================] - 0s 1ms/step - loss: 0.6927\n",
      "Epoch 267/300\n",
      "9/9 [==============================] - 0s 1ms/step - loss: 0.6926\n",
      "Epoch 268/300\n",
      "9/9 [==============================] - 0s 1ms/step - loss: 0.6931\n",
      "Epoch 269/300\n",
      "9/9 [==============================] - 0s 1ms/step - loss: 0.6928\n",
      "Epoch 270/300\n",
      "9/9 [==============================] - 0s 1ms/step - loss: 0.6927\n",
      "Epoch 271/300\n",
      "9/9 [==============================] - 0s 2ms/step - loss: 0.6929\n",
      "Epoch 272/300\n",
      "9/9 [==============================] - 0s 1ms/step - loss: 0.6928\n",
      "Epoch 273/300\n",
      "9/9 [==============================] - 0s 1ms/step - loss: 0.6928\n",
      "Epoch 274/300\n",
      "9/9 [==============================] - 0s 251us/step - loss: 0.6927\n",
      "Epoch 275/300\n",
      "9/9 [==============================] - 0s 1ms/step - loss: 0.6927\n",
      "Epoch 276/300\n",
      "9/9 [==============================] - 0s 1ms/step - loss: 0.6928\n",
      "Epoch 277/300\n",
      "9/9 [==============================] - 0s 1ms/step - loss: 0.6925\n",
      "Epoch 278/300\n",
      "9/9 [==============================] - 0s 1ms/step - loss: 0.6926\n",
      "Epoch 279/300\n",
      "9/9 [==============================] - 0s 1ms/step - loss: 0.6928\n",
      "Epoch 280/300\n",
      "9/9 [==============================] - 0s 1ms/step - loss: 0.6929\n",
      "Epoch 281/300\n",
      "9/9 [==============================] - 0s 1ms/step - loss: 0.6926\n",
      "Epoch 282/300\n",
      "9/9 [==============================] - 0s 1ms/step - loss: 0.6926\n",
      "Epoch 283/300\n",
      "9/9 [==============================] - 0s 1ms/step - loss: 0.6927\n",
      "Epoch 284/300\n",
      "9/9 [==============================] - 0s 1ms/step - loss: 0.6927\n",
      "Epoch 285/300\n",
      "9/9 [==============================] - 0s 1ms/step - loss: 0.6927\n",
      "Epoch 286/300\n",
      "9/9 [==============================] - 0s 1ms/step - loss: 0.6927\n",
      "Epoch 287/300\n",
      "9/9 [==============================] - 0s 1ms/step - loss: 0.6926\n",
      "Epoch 288/300\n",
      "9/9 [==============================] - 0s 0s/step - loss: 0.6931\n",
      "Epoch 289/300\n",
      "9/9 [==============================] - 0s 1ms/step - loss: 0.6928\n",
      "Epoch 290/300\n",
      "9/9 [==============================] - 0s 1ms/step - loss: 0.6926\n",
      "Epoch 291/300\n",
      "9/9 [==============================] - 0s 1ms/step - loss: 0.6928\n",
      "Epoch 292/300\n",
      "9/9 [==============================] - 0s 1ms/step - loss: 0.6927\n",
      "Epoch 293/300\n",
      "9/9 [==============================] - 0s 438us/step - loss: 0.6928\n",
      "Epoch 294/300\n",
      "9/9 [==============================] - 0s 1ms/step - loss: 0.6927\n",
      "Epoch 295/300\n",
      "9/9 [==============================] - 0s 1ms/step - loss: 0.6927\n",
      "Epoch 296/300\n",
      "9/9 [==============================] - 0s 1ms/step - loss: 0.6925\n",
      "Epoch 297/300\n",
      "9/9 [==============================] - 0s 1ms/step - loss: 0.6928\n",
      "Epoch 298/300\n",
      "9/9 [==============================] - 0s 1ms/step - loss: 0.6927\n",
      "Epoch 299/300\n",
      "9/9 [==============================] - 0s 0s/step - loss: 0.6926\n",
      "Epoch 300/300\n",
      "9/9 [==============================] - 0s 1ms/step - loss: 0.6928\n"
     ]
    },
    {
     "data": {
      "text/plain": [
       "<keras.callbacks.History at 0x21567cb37f0>"
      ]
     },
     "execution_count": 56,
     "metadata": {},
     "output_type": "execute_result"
    }
   ],
   "source": [
    "model2.fit(X_train,y_train,batch_size=10,epochs=300,verbose=1)"
   ]
  },
  {
   "cell_type": "code",
   "execution_count": 57,
   "id": "1eda64e4",
   "metadata": {},
   "outputs": [
    {
     "name": "stdout",
     "output_type": "stream",
     "text": [
      "3/3 [==============================] - 0s 0s/step\n"
     ]
    }
   ],
   "source": [
    "pred_=model2.predict(X_train)"
   ]
  },
  {
   "cell_type": "code",
   "execution_count": 59,
   "id": "d705292c",
   "metadata": {},
   "outputs": [],
   "source": [
    "import numpy as np"
   ]
  },
  {
   "cell_type": "code",
   "execution_count": 60,
   "id": "57d163e1",
   "metadata": {},
   "outputs": [
    {
     "data": {
      "text/plain": [
       "42    1\n",
       "88    1\n",
       "61    1\n",
       "52    1\n",
       "84    1\n",
       "     ..\n",
       "56    1\n",
       "63    1\n",
       "66    1\n",
       "94    1\n",
       "53    1\n",
       "Length: 90, dtype: int32"
      ]
     },
     "execution_count": 60,
     "metadata": {},
     "output_type": "execute_result"
    }
   ],
   "source": [
    "pred_=np.ravel(np.where(pred_<0.5,0,1))\n",
    "pred_=pd.Series(pred_)\n",
    "pred_.index=y_train.index\n",
    "pred_"
   ]
  },
  {
   "cell_type": "code",
   "execution_count": 61,
   "id": "6bed3f8a",
   "metadata": {},
   "outputs": [
    {
     "data": {
      "text/plain": [
       "<AxesSubplot:xlabel='0', ylabel='1'>"
      ]
     },
     "execution_count": 61,
     "metadata": {},
     "output_type": "execute_result"
    },
    {
     "data": {
      "image/png": "[encoded data removed]",
      "text/plain": [
       "<Figure size 432x288 with 1 Axes>"
      ]
     },
     "metadata": {
      "needs_background": "light"
     },
     "output_type": "display_data"
    }
   ],
   "source": [
    "sns.scatterplot(x=X_train[0],y=X_train[1],hue=y_train)"
   ]
  },
  {
   "cell_type": "code",
   "execution_count": 62,
   "id": "825482ba",
   "metadata": {},
   "outputs": [
    {
     "data": {
      "text/plain": [
       "<AxesSubplot:xlabel='0', ylabel='1'>"
      ]
     },
     "execution_count": 62,
     "metadata": {},
     "output_type": "execute_result"
    },
    {
     "data": {
      "image/png": "[encoded data removed]",
      "text/plain": [
       "<Figure size 432x288 with 1 Axes>"
      ]
     },
     "metadata": {
      "needs_background": "light"
     },
     "output_type": "display_data"
    }
   ],
   "source": [
    "sns.scatterplot(x=X_train[0],y=X_train[1],hue=pred_)"
   ]
  },
  {
   "cell_type": "code",
   "execution_count": 64,
   "id": "3caae76c",
   "metadata": {},
   "outputs": [],
   "source": [
    "from sklearn import metrics"
   ]
  },
  {
   "cell_type": "code",
   "execution_count": 65,
   "id": "b09fd1a3",
   "metadata": {},
   "outputs": [
    {
     "data": {
      "text/plain": [
       "0.5111111111111111"
      ]
     },
     "execution_count": 65,
     "metadata": {},
     "output_type": "execute_result"
    }
   ],
   "source": [
    "metrics.accuracy_score(y_train,pred_)"
   ]
  },
  {
   "cell_type": "markdown",
   "id": "8cd851a4",
   "metadata": {},
   "source": [
    "#### Using weight initialization and Batch Normalization"
   ]
  },
  {
   "cell_type": "code",
   "execution_count": 12,
   "id": "ff237367",
   "metadata": {},
   "outputs": [],
   "source": [
    "import tensorflow\n",
    "import tensorflow.keras\n",
    "from tensorflow.keras import Sequential\n",
    "from tensorflow.keras.layers import Dense,BatchNormalization,Dropout\n",
    "model2=Sequential()"
   ]
  },
  {
   "cell_type": "code",
   "execution_count": 13,
   "id": "88bbc015",
   "metadata": {},
   "outputs": [],
   "source": [
    "model2.add(Dense(7,activation=\"relu\",input_dim=2, kernel_initializer='he_uniform'))\n",
    "model2.add(Dense(5,activation=\"relu\", kernel_initializer='he_uniform'))\n",
    "model2.add(BatchNormalization())\n",
    "model2.add(Dense(1,activation=\"sigmoid\"))"
   ]
  },
  {
   "cell_type": "code",
   "execution_count": 14,
   "id": "4a309e4d",
   "metadata": {},
   "outputs": [],
   "source": [
    "model2.compile(optimizer=\"adam\",loss=\"binary_crossentropy\",metrics=['accuracy'])"
   ]
  },
  {
   "cell_type": "code",
   "execution_count": 15,
   "id": "37ee9214",
   "metadata": {},
   "outputs": [
    {
     "name": "stdout",
     "output_type": "stream",
     "text": [
      "Epoch 1/250\n",
      "15/15 [==============================] - 1s 11ms/step - loss: 0.6405 - accuracy: 0.6111 - val_loss: 0.6823 - val_accuracy: 0.4444\n",
      "Epoch 2/250\n",
      "15/15 [==============================] - 0s 3ms/step - loss: 0.6421 - accuracy: 0.6944 - val_loss: 0.6781 - val_accuracy: 0.4444\n",
      "Epoch 3/250\n",
      "15/15 [==============================] - 0s 3ms/step - loss: 0.6502 - accuracy: 0.6667 - val_loss: 0.6736 - val_accuracy: 0.4444\n",
      "Epoch 4/250\n",
      "15/15 [==============================] - 0s 3ms/step - loss: 0.6359 - accuracy: 0.6806 - val_loss: 0.6696 - val_accuracy: 0.5556\n",
      "Epoch 5/250\n",
      "15/15 [==============================] - 0s 2ms/step - loss: 0.6269 - accuracy: 0.7500 - val_loss: 0.6648 - val_accuracy: 0.6667\n",
      "Epoch 6/250\n",
      "15/15 [==============================] - 0s 3ms/step - loss: 0.6225 - accuracy: 0.7083 - val_loss: 0.6619 - val_accuracy: 0.6667\n",
      "Epoch 7/250\n",
      "15/15 [==============================] - 0s 2ms/step - loss: 0.6044 - accuracy: 0.7361 - val_loss: 0.6577 - val_accuracy: 0.6667\n",
      "Epoch 8/250\n",
      "15/15 [==============================] - 0s 3ms/step - loss: 0.6355 - accuracy: 0.6250 - val_loss: 0.6526 - val_accuracy: 0.6667\n",
      "Epoch 9/250\n",
      "15/15 [==============================] - 0s 3ms/step - loss: 0.6317 - accuracy: 0.6667 - val_loss: 0.6489 - val_accuracy: 0.7778\n",
      "Epoch 10/250\n",
      "15/15 [==============================] - 0s 3ms/step - loss: 0.6471 - accuracy: 0.6806 - val_loss: 0.6456 - val_accuracy: 0.7778\n",
      "Epoch 11/250\n",
      "15/15 [==============================] - 0s 3ms/step - loss: 0.6235 - accuracy: 0.6528 - val_loss: 0.6403 - val_accuracy: 0.7778\n",
      "Epoch 12/250\n",
      "15/15 [==============================] - 0s 3ms/step - loss: 0.5866 - accuracy: 0.7778 - val_loss: 0.6344 - val_accuracy: 0.7778\n",
      "Epoch 13/250\n",
      "15/15 [==============================] - 0s 2ms/step - loss: 0.6311 - accuracy: 0.6528 - val_loss: 0.6275 - val_accuracy: 0.8333\n",
      "Epoch 14/250\n",
      "15/15 [==============================] - 0s 3ms/step - loss: 0.5913 - accuracy: 0.7083 - val_loss: 0.6220 - val_accuracy: 0.8889\n",
      "Epoch 15/250\n",
      "15/15 [==============================] - 0s 3ms/step - loss: 0.5834 - accuracy: 0.7361 - val_loss: 0.6154 - val_accuracy: 0.8889\n",
      "Epoch 16/250\n",
      "15/15 [==============================] - 0s 2ms/step - loss: 0.5795 - accuracy: 0.7639 - val_loss: 0.6090 - val_accuracy: 0.8889\n",
      "Epoch 17/250\n",
      "15/15 [==============================] - 0s 3ms/step - loss: 0.6008 - accuracy: 0.7500 - val_loss: 0.6001 - val_accuracy: 0.8889\n",
      "Epoch 18/250\n",
      "15/15 [==============================] - 0s 3ms/step - loss: 0.5961 - accuracy: 0.7222 - val_loss: 0.5924 - val_accuracy: 0.9444\n",
      "Epoch 19/250\n",
      "15/15 [==============================] - 0s 3ms/step - loss: 0.5587 - accuracy: 0.7500 - val_loss: 0.5870 - val_accuracy: 0.9444\n",
      "Epoch 20/250\n",
      "15/15 [==============================] - 0s 2ms/step - loss: 0.5860 - accuracy: 0.7222 - val_loss: 0.5795 - val_accuracy: 0.9444\n",
      "Epoch 21/250\n",
      "15/15 [==============================] - 0s 2ms/step - loss: 0.5609 - accuracy: 0.8056 - val_loss: 0.5715 - val_accuracy: 0.8889\n",
      "Epoch 22/250\n",
      "15/15 [==============================] - 0s 3ms/step - loss: 0.6157 - accuracy: 0.6389 - val_loss: 0.5682 - val_accuracy: 0.8889\n",
      "Epoch 23/250\n",
      "15/15 [==============================] - 0s 3ms/step - loss: 0.5570 - accuracy: 0.7778 - val_loss: 0.5634 - val_accuracy: 0.8889\n",
      "Epoch 24/250\n",
      "15/15 [==============================] - 0s 3ms/step - loss: 0.5561 - accuracy: 0.7500 - val_loss: 0.5528 - val_accuracy: 0.8889\n",
      "Epoch 25/250\n",
      "15/15 [==============================] - 0s 3ms/step - loss: 0.5436 - accuracy: 0.7778 - val_loss: 0.5437 - val_accuracy: 0.8889\n",
      "Epoch 26/250\n",
      "15/15 [==============================] - 0s 2ms/step - loss: 0.5276 - accuracy: 0.7778 - val_loss: 0.5381 - val_accuracy: 0.8889\n",
      "Epoch 27/250\n",
      "15/15 [==============================] - 0s 2ms/step - loss: 0.5402 - accuracy: 0.7917 - val_loss: 0.5303 - val_accuracy: 0.8889\n",
      "Epoch 28/250\n",
      "15/15 [==============================] - 0s 3ms/step - loss: 0.5466 - accuracy: 0.7917 - val_loss: 0.5257 - val_accuracy: 0.8889\n",
      "Epoch 29/250\n",
      "15/15 [==============================] - 0s 3ms/step - loss: 0.5252 - accuracy: 0.8333 - val_loss: 0.5176 - val_accuracy: 0.8889\n",
      "Epoch 30/250\n",
      "15/15 [==============================] - 0s 2ms/step - loss: 0.5311 - accuracy: 0.8194 - val_loss: 0.5075 - val_accuracy: 0.9444\n",
      "Epoch 31/250\n",
      "15/15 [==============================] - 0s 2ms/step - loss: 0.5325 - accuracy: 0.7500 - val_loss: 0.5001 - val_accuracy: 0.9444\n",
      "Epoch 32/250\n",
      "15/15 [==============================] - 0s 3ms/step - loss: 0.5101 - accuracy: 0.8194 - val_loss: 0.4910 - val_accuracy: 0.9444\n",
      "Epoch 33/250\n",
      "15/15 [==============================] - 0s 3ms/step - loss: 0.5503 - accuracy: 0.7222 - val_loss: 0.4798 - val_accuracy: 0.9444\n",
      "Epoch 34/250\n",
      "15/15 [==============================] - 0s 3ms/step - loss: 0.5031 - accuracy: 0.8333 - val_loss: 0.4730 - val_accuracy: 0.9444\n",
      "Epoch 35/250\n",
      "15/15 [==============================] - 0s 3ms/step - loss: 0.5334 - accuracy: 0.7778 - val_loss: 0.4628 - val_accuracy: 0.9444\n",
      "Epoch 36/250\n",
      "15/15 [==============================] - 0s 2ms/step - loss: 0.4694 - accuracy: 0.8889 - val_loss: 0.4551 - val_accuracy: 0.9444\n",
      "Epoch 37/250\n",
      "15/15 [==============================] - 0s 2ms/step - loss: 0.5220 - accuracy: 0.8056 - val_loss: 0.4525 - val_accuracy: 0.9444\n",
      "Epoch 38/250\n",
      "15/15 [==============================] - 0s 3ms/step - loss: 0.5154 - accuracy: 0.7917 - val_loss: 0.4445 - val_accuracy: 0.9444\n",
      "Epoch 39/250\n",
      "15/15 [==============================] - 0s 2ms/step - loss: 0.5345 - accuracy: 0.7222 - val_loss: 0.4377 - val_accuracy: 0.9444\n",
      "Epoch 40/250\n",
      "15/15 [==============================] - 0s 3ms/step - loss: 0.4872 - accuracy: 0.8194 - val_loss: 0.4333 - val_accuracy: 0.9444\n",
      "Epoch 41/250\n",
      "15/15 [==============================] - 0s 2ms/step - loss: 0.5204 - accuracy: 0.7778 - val_loss: 0.4258 - val_accuracy: 0.9444\n",
      "Epoch 42/250\n",
      "15/15 [==============================] - 0s 2ms/step - loss: 0.4964 - accuracy: 0.7639 - val_loss: 0.4202 - val_accuracy: 0.9444\n",
      "Epoch 43/250\n",
      "15/15 [==============================] - 0s 2ms/step - loss: 0.4709 - accuracy: 0.8611 - val_loss: 0.4168 - val_accuracy: 0.9444\n",
      "Epoch 44/250\n",
      "15/15 [==============================] - 0s 2ms/step - loss: 0.5062 - accuracy: 0.7917 - val_loss: 0.4141 - val_accuracy: 0.9444\n",
      "Epoch 45/250\n",
      "15/15 [==============================] - 0s 3ms/step - loss: 0.4821 - accuracy: 0.7778 - val_loss: 0.4084 - val_accuracy: 0.9444\n",
      "Epoch 46/250\n",
      "15/15 [==============================] - 0s 2ms/step - loss: 0.4651 - accuracy: 0.8333 - val_loss: 0.4068 - val_accuracy: 0.9444\n",
      "Epoch 47/250\n",
      "15/15 [==============================] - 0s 2ms/step - loss: 0.4864 - accuracy: 0.8333 - val_loss: 0.4052 - val_accuracy: 0.9444\n",
      "Epoch 48/250\n",
      "15/15 [==============================] - 0s 3ms/step - loss: 0.4294 - accuracy: 0.8750 - val_loss: 0.3996 - val_accuracy: 0.9444\n",
      "Epoch 49/250\n",
      "15/15 [==============================] - 0s 3ms/step - loss: 0.4809 - accuracy: 0.7639 - val_loss: 0.3945 - val_accuracy: 0.9444\n",
      "Epoch 50/250\n",
      "15/15 [==============================] - 0s 3ms/step - loss: 0.4540 - accuracy: 0.8333 - val_loss: 0.3988 - val_accuracy: 0.8889\n",
      "Epoch 51/250\n",
      "15/15 [==============================] - 0s 3ms/step - loss: 0.4689 - accuracy: 0.7917 - val_loss: 0.3899 - val_accuracy: 0.9444\n",
      "Epoch 52/250\n",
      "15/15 [==============================] - 0s 3ms/step - loss: 0.4225 - accuracy: 0.8889 - val_loss: 0.3874 - val_accuracy: 0.9444\n",
      "Epoch 53/250\n",
      "15/15 [==============================] - 0s 4ms/step - loss: 0.4630 - accuracy: 0.8194 - val_loss: 0.3811 - val_accuracy: 0.9444\n",
      "Epoch 54/250\n",
      "15/15 [==============================] - 0s 3ms/step - loss: 0.4298 - accuracy: 0.8333 - val_loss: 0.3742 - val_accuracy: 0.9444\n",
      "Epoch 55/250\n",
      "15/15 [==============================] - 0s 2ms/step - loss: 0.4746 - accuracy: 0.7778 - val_loss: 0.3608 - val_accuracy: 0.9444\n",
      "Epoch 56/250\n",
      "15/15 [==============================] - 0s 3ms/step - loss: 0.4377 - accuracy: 0.8056 - val_loss: 0.3562 - val_accuracy: 0.9444\n",
      "Epoch 57/250\n",
      "15/15 [==============================] - 0s 2ms/step - loss: 0.4754 - accuracy: 0.7778 - val_loss: 0.3510 - val_accuracy: 0.9444\n",
      "Epoch 58/250\n",
      "15/15 [==============================] - 0s 2ms/step - loss: 0.4452 - accuracy: 0.8056 - val_loss: 0.3514 - val_accuracy: 0.9444\n"
     ]
    },
    {
     "name": "stdout",
     "output_type": "stream",
     "text": [
      "Epoch 59/250\n",
      "15/15 [==============================] - 0s 3ms/step - loss: 0.3814 - accuracy: 0.8889 - val_loss: 0.3553 - val_accuracy: 0.9444\n",
      "Epoch 60/250\n",
      "15/15 [==============================] - 0s 3ms/step - loss: 0.4781 - accuracy: 0.7500 - val_loss: 0.3543 - val_accuracy: 0.9444\n",
      "Epoch 61/250\n",
      "15/15 [==============================] - 0s 3ms/step - loss: 0.5048 - accuracy: 0.7222 - val_loss: 0.3526 - val_accuracy: 0.9444\n",
      "Epoch 62/250\n",
      "15/15 [==============================] - 0s 3ms/step - loss: 0.4627 - accuracy: 0.7778 - val_loss: 0.3499 - val_accuracy: 0.9444\n",
      "Epoch 63/250\n",
      "15/15 [==============================] - 0s 3ms/step - loss: 0.4659 - accuracy: 0.8194 - val_loss: 0.3662 - val_accuracy: 0.8889\n",
      "Epoch 64/250\n",
      "15/15 [==============================] - 0s 2ms/step - loss: 0.4363 - accuracy: 0.9028 - val_loss: 0.3734 - val_accuracy: 0.8889\n",
      "Epoch 65/250\n",
      "15/15 [==============================] - 0s 2ms/step - loss: 0.4808 - accuracy: 0.7778 - val_loss: 0.3584 - val_accuracy: 0.8889\n",
      "Epoch 66/250\n",
      "15/15 [==============================] - 0s 3ms/step - loss: 0.4269 - accuracy: 0.8194 - val_loss: 0.3522 - val_accuracy: 0.8889\n",
      "Epoch 67/250\n",
      "15/15 [==============================] - 0s 3ms/step - loss: 0.4273 - accuracy: 0.8611 - val_loss: 0.3450 - val_accuracy: 0.8889\n",
      "Epoch 68/250\n",
      "15/15 [==============================] - 0s 2ms/step - loss: 0.4078 - accuracy: 0.8611 - val_loss: 0.3408 - val_accuracy: 0.9444\n",
      "Epoch 69/250\n",
      "15/15 [==============================] - 0s 2ms/step - loss: 0.4494 - accuracy: 0.7778 - val_loss: 0.3357 - val_accuracy: 0.9444\n",
      "Epoch 70/250\n",
      "15/15 [==============================] - 0s 2ms/step - loss: 0.4539 - accuracy: 0.7917 - val_loss: 0.3372 - val_accuracy: 0.9444\n",
      "Epoch 71/250\n",
      "15/15 [==============================] - 0s 2ms/step - loss: 0.3888 - accuracy: 0.8472 - val_loss: 0.3360 - val_accuracy: 0.9444\n",
      "Epoch 72/250\n",
      "15/15 [==============================] - 0s 2ms/step - loss: 0.4128 - accuracy: 0.8611 - val_loss: 0.3443 - val_accuracy: 0.9444\n",
      "Epoch 73/250\n",
      "15/15 [==============================] - 0s 3ms/step - loss: 0.4148 - accuracy: 0.8333 - val_loss: 0.3539 - val_accuracy: 0.8889\n",
      "Epoch 74/250\n",
      "15/15 [==============================] - 0s 2ms/step - loss: 0.4306 - accuracy: 0.7917 - val_loss: 0.3527 - val_accuracy: 0.8889\n",
      "Epoch 75/250\n",
      "15/15 [==============================] - 0s 2ms/step - loss: 0.4331 - accuracy: 0.7917 - val_loss: 0.3418 - val_accuracy: 0.8889\n",
      "Epoch 76/250\n",
      "15/15 [==============================] - 0s 2ms/step - loss: 0.3677 - accuracy: 0.8611 - val_loss: 0.3448 - val_accuracy: 0.8889\n",
      "Epoch 77/250\n",
      "15/15 [==============================] - 0s 2ms/step - loss: 0.4111 - accuracy: 0.8194 - val_loss: 0.3581 - val_accuracy: 0.8889\n",
      "Epoch 78/250\n",
      "15/15 [==============================] - 0s 3ms/step - loss: 0.3651 - accuracy: 0.9028 - val_loss: 0.3534 - val_accuracy: 0.8889\n",
      "Epoch 79/250\n",
      "15/15 [==============================] - 0s 3ms/step - loss: 0.3924 - accuracy: 0.8333 - val_loss: 0.3306 - val_accuracy: 0.8889\n",
      "Epoch 80/250\n",
      "15/15 [==============================] - 0s 4ms/step - loss: 0.4591 - accuracy: 0.7778 - val_loss: 0.3169 - val_accuracy: 0.9444\n",
      "Epoch 81/250\n",
      "15/15 [==============================] - 0s 3ms/step - loss: 0.4614 - accuracy: 0.7361 - val_loss: 0.3158 - val_accuracy: 0.9444\n",
      "Epoch 82/250\n",
      "15/15 [==============================] - 0s 3ms/step - loss: 0.4147 - accuracy: 0.8194 - val_loss: 0.3389 - val_accuracy: 0.8889\n",
      "Epoch 83/250\n",
      "15/15 [==============================] - 0s 3ms/step - loss: 0.3824 - accuracy: 0.8472 - val_loss: 0.3454 - val_accuracy: 0.8889\n",
      "Epoch 84/250\n",
      "15/15 [==============================] - 0s 3ms/step - loss: 0.3638 - accuracy: 0.8750 - val_loss: 0.3291 - val_accuracy: 0.8889\n",
      "Epoch 85/250\n",
      "15/15 [==============================] - 0s 3ms/step - loss: 0.3873 - accuracy: 0.8333 - val_loss: 0.3186 - val_accuracy: 0.9444\n",
      "Epoch 86/250\n",
      "15/15 [==============================] - 0s 3ms/step - loss: 0.3770 - accuracy: 0.8194 - val_loss: 0.3202 - val_accuracy: 0.9444\n",
      "Epoch 87/250\n",
      "15/15 [==============================] - 0s 2ms/step - loss: 0.4063 - accuracy: 0.8194 - val_loss: 0.3121 - val_accuracy: 0.8889\n",
      "Epoch 88/250\n",
      "15/15 [==============================] - 0s 2ms/step - loss: 0.4837 - accuracy: 0.7222 - val_loss: 0.2992 - val_accuracy: 0.9444\n",
      "Epoch 89/250\n",
      "15/15 [==============================] - 0s 3ms/step - loss: 0.4296 - accuracy: 0.7639 - val_loss: 0.2914 - val_accuracy: 0.9444\n",
      "Epoch 90/250\n",
      "15/15 [==============================] - 0s 2ms/step - loss: 0.4826 - accuracy: 0.7917 - val_loss: 0.2832 - val_accuracy: 0.9444\n",
      "Epoch 91/250\n",
      "15/15 [==============================] - 0s 2ms/step - loss: 0.3278 - accuracy: 0.9028 - val_loss: 0.2899 - val_accuracy: 0.9444\n",
      "Epoch 92/250\n",
      "15/15 [==============================] - 0s 2ms/step - loss: 0.4807 - accuracy: 0.7500 - val_loss: 0.2919 - val_accuracy: 0.9444\n",
      "Epoch 93/250\n",
      "15/15 [==============================] - 0s 2ms/step - loss: 0.4345 - accuracy: 0.7917 - val_loss: 0.2981 - val_accuracy: 0.8889\n",
      "Epoch 94/250\n",
      "15/15 [==============================] - 0s 2ms/step - loss: 0.3804 - accuracy: 0.8056 - val_loss: 0.3083 - val_accuracy: 0.8889\n",
      "Epoch 95/250\n",
      "15/15 [==============================] - 0s 2ms/step - loss: 0.3871 - accuracy: 0.8472 - val_loss: 0.3010 - val_accuracy: 0.9444\n",
      "Epoch 96/250\n",
      "15/15 [==============================] - 0s 2ms/step - loss: 0.3621 - accuracy: 0.8472 - val_loss: 0.2888 - val_accuracy: 0.9444\n",
      "Epoch 97/250\n",
      "15/15 [==============================] - 0s 3ms/step - loss: 0.3725 - accuracy: 0.8472 - val_loss: 0.2905 - val_accuracy: 0.9444\n",
      "Epoch 98/250\n",
      "15/15 [==============================] - 0s 2ms/step - loss: 0.4265 - accuracy: 0.8194 - val_loss: 0.2921 - val_accuracy: 0.9444\n",
      "Epoch 99/250\n",
      "15/15 [==============================] - 0s 2ms/step - loss: 0.3709 - accuracy: 0.8472 - val_loss: 0.2982 - val_accuracy: 0.9444\n",
      "Epoch 100/250\n",
      "15/15 [==============================] - 0s 3ms/step - loss: 0.4307 - accuracy: 0.7917 - val_loss: 0.2968 - val_accuracy: 0.9444\n",
      "Epoch 101/250\n",
      "15/15 [==============================] - 0s 3ms/step - loss: 0.4458 - accuracy: 0.7222 - val_loss: 0.3003 - val_accuracy: 0.9444\n",
      "Epoch 102/250\n",
      "15/15 [==============================] - 0s 3ms/step - loss: 0.3410 - accuracy: 0.8611 - val_loss: 0.3154 - val_accuracy: 0.8333\n",
      "Epoch 103/250\n",
      "15/15 [==============================] - 0s 3ms/step - loss: 0.3568 - accuracy: 0.8611 - val_loss: 0.3173 - val_accuracy: 0.8333\n",
      "Epoch 104/250\n",
      "15/15 [==============================] - 0s 2ms/step - loss: 0.4025 - accuracy: 0.7917 - val_loss: 0.2958 - val_accuracy: 0.9444\n",
      "Epoch 105/250\n",
      "15/15 [==============================] - 0s 2ms/step - loss: 0.3669 - accuracy: 0.8472 - val_loss: 0.2900 - val_accuracy: 0.9444\n",
      "Epoch 106/250\n",
      "15/15 [==============================] - 0s 2ms/step - loss: 0.4160 - accuracy: 0.8194 - val_loss: 0.3061 - val_accuracy: 0.9444\n",
      "Epoch 107/250\n",
      "15/15 [==============================] - 0s 2ms/step - loss: 0.4004 - accuracy: 0.8194 - val_loss: 0.2946 - val_accuracy: 0.9444\n",
      "Epoch 108/250\n",
      "15/15 [==============================] - 0s 2ms/step - loss: 0.3487 - accuracy: 0.8472 - val_loss: 0.3000 - val_accuracy: 0.8889\n",
      "Epoch 109/250\n",
      "15/15 [==============================] - 0s 3ms/step - loss: 0.3646 - accuracy: 0.8750 - val_loss: 0.3086 - val_accuracy: 0.8889\n",
      "Epoch 110/250\n",
      "15/15 [==============================] - 0s 2ms/step - loss: 0.3987 - accuracy: 0.8333 - val_loss: 0.2853 - val_accuracy: 0.9444\n",
      "Epoch 111/250\n",
      "15/15 [==============================] - 0s 2ms/step - loss: 0.3439 - accuracy: 0.8333 - val_loss: 0.2833 - val_accuracy: 0.9444\n",
      "Epoch 112/250\n",
      "15/15 [==============================] - 0s 3ms/step - loss: 0.4435 - accuracy: 0.8333 - val_loss: 0.2854 - val_accuracy: 0.8889\n",
      "Epoch 113/250\n",
      "15/15 [==============================] - 0s 2ms/step - loss: 0.3822 - accuracy: 0.8611 - val_loss: 0.2829 - val_accuracy: 0.8889\n",
      "Epoch 114/250\n",
      "15/15 [==============================] - 0s 2ms/step - loss: 0.3535 - accuracy: 0.8472 - val_loss: 0.2737 - val_accuracy: 0.8889\n",
      "Epoch 115/250\n",
      "15/15 [==============================] - 0s 3ms/step - loss: 0.4268 - accuracy: 0.7639 - val_loss: 0.2787 - val_accuracy: 0.8889\n",
      "Epoch 116/250\n"
     ]
    },
    {
     "name": "stdout",
     "output_type": "stream",
     "text": [
      "15/15 [==============================] - 0s 2ms/step - loss: 0.3693 - accuracy: 0.8333 - val_loss: 0.2750 - val_accuracy: 0.8889\n",
      "Epoch 117/250\n",
      "15/15 [==============================] - 0s 2ms/step - loss: 0.3935 - accuracy: 0.8194 - val_loss: 0.2780 - val_accuracy: 0.9444\n",
      "Epoch 118/250\n",
      "15/15 [==============================] - 0s 3ms/step - loss: 0.3613 - accuracy: 0.8611 - val_loss: 0.2939 - val_accuracy: 0.9444\n",
      "Epoch 119/250\n",
      "15/15 [==============================] - 0s 3ms/step - loss: 0.3170 - accuracy: 0.8472 - val_loss: 0.3139 - val_accuracy: 0.8889\n",
      "Epoch 120/250\n",
      "15/15 [==============================] - 0s 2ms/step - loss: 0.4351 - accuracy: 0.7361 - val_loss: 0.3329 - val_accuracy: 0.8889\n",
      "Epoch 121/250\n",
      "15/15 [==============================] - 0s 2ms/step - loss: 0.3515 - accuracy: 0.8194 - val_loss: 0.3188 - val_accuracy: 0.8889\n",
      "Epoch 122/250\n",
      "15/15 [==============================] - 0s 3ms/step - loss: 0.4349 - accuracy: 0.8056 - val_loss: 0.3101 - val_accuracy: 0.8889\n",
      "Epoch 123/250\n",
      "15/15 [==============================] - 0s 2ms/step - loss: 0.4239 - accuracy: 0.8333 - val_loss: 0.3051 - val_accuracy: 0.8889\n",
      "Epoch 124/250\n",
      "15/15 [==============================] - 0s 3ms/step - loss: 0.2905 - accuracy: 0.9028 - val_loss: 0.2991 - val_accuracy: 0.8889\n",
      "Epoch 125/250\n",
      "15/15 [==============================] - 0s 2ms/step - loss: 0.3987 - accuracy: 0.8194 - val_loss: 0.3172 - val_accuracy: 0.8889\n",
      "Epoch 126/250\n",
      "15/15 [==============================] - 0s 2ms/step - loss: 0.4389 - accuracy: 0.8056 - val_loss: 0.3212 - val_accuracy: 0.8889\n",
      "Epoch 127/250\n",
      "15/15 [==============================] - 0s 2ms/step - loss: 0.3492 - accuracy: 0.7917 - val_loss: 0.3432 - val_accuracy: 0.8889\n",
      "Epoch 128/250\n",
      "15/15 [==============================] - 0s 2ms/step - loss: 0.5263 - accuracy: 0.7639 - val_loss: 0.3586 - val_accuracy: 0.8889\n",
      "Epoch 129/250\n",
      "15/15 [==============================] - 0s 2ms/step - loss: 0.4187 - accuracy: 0.7778 - val_loss: 0.3394 - val_accuracy: 0.8889\n",
      "Epoch 130/250\n",
      "15/15 [==============================] - 0s 2ms/step - loss: 0.3737 - accuracy: 0.8611 - val_loss: 0.3123 - val_accuracy: 0.8889\n",
      "Epoch 131/250\n",
      "15/15 [==============================] - 0s 3ms/step - loss: 0.3796 - accuracy: 0.8194 - val_loss: 0.3271 - val_accuracy: 0.8889\n",
      "Epoch 132/250\n",
      "15/15 [==============================] - 0s 3ms/step - loss: 0.3611 - accuracy: 0.8194 - val_loss: 0.3405 - val_accuracy: 0.8889\n",
      "Epoch 133/250\n",
      "15/15 [==============================] - 0s 2ms/step - loss: 0.4048 - accuracy: 0.8333 - val_loss: 0.3633 - val_accuracy: 0.8333\n",
      "Epoch 134/250\n",
      "15/15 [==============================] - 0s 2ms/step - loss: 0.3684 - accuracy: 0.8611 - val_loss: 0.3420 - val_accuracy: 0.8889\n",
      "Epoch 135/250\n",
      "15/15 [==============================] - 0s 3ms/step - loss: 0.4183 - accuracy: 0.7500 - val_loss: 0.3405 - val_accuracy: 0.8889\n",
      "Epoch 136/250\n",
      "15/15 [==============================] - 0s 2ms/step - loss: 0.3567 - accuracy: 0.8611 - val_loss: 0.3389 - val_accuracy: 0.8889\n",
      "Epoch 137/250\n",
      "15/15 [==============================] - 0s 2ms/step - loss: 0.3405 - accuracy: 0.8333 - val_loss: 0.3322 - val_accuracy: 0.8889\n",
      "Epoch 138/250\n",
      "15/15 [==============================] - 0s 3ms/step - loss: 0.3877 - accuracy: 0.8611 - val_loss: 0.3405 - val_accuracy: 0.8889\n",
      "Epoch 139/250\n",
      "15/15 [==============================] - 0s 3ms/step - loss: 0.4323 - accuracy: 0.7917 - val_loss: 0.3748 - val_accuracy: 0.8333\n",
      "Epoch 140/250\n",
      "15/15 [==============================] - 0s 3ms/step - loss: 0.3637 - accuracy: 0.8750 - val_loss: 0.3444 - val_accuracy: 0.8333\n",
      "Epoch 141/250\n",
      "15/15 [==============================] - 0s 3ms/step - loss: 0.3354 - accuracy: 0.8750 - val_loss: 0.3427 - val_accuracy: 0.8889\n",
      "Epoch 142/250\n",
      "15/15 [==============================] - 0s 3ms/step - loss: 0.3436 - accuracy: 0.8472 - val_loss: 0.3384 - val_accuracy: 0.8889\n",
      "Epoch 143/250\n",
      "15/15 [==============================] - 0s 3ms/step - loss: 0.3318 - accuracy: 0.8611 - val_loss: 0.2901 - val_accuracy: 0.8889\n",
      "Epoch 144/250\n",
      "15/15 [==============================] - 0s 3ms/step - loss: 0.3726 - accuracy: 0.8611 - val_loss: 0.2958 - val_accuracy: 0.8889\n",
      "Epoch 145/250\n",
      "15/15 [==============================] - 0s 3ms/step - loss: 0.3236 - accuracy: 0.8889 - val_loss: 0.3101 - val_accuracy: 0.8889\n",
      "Epoch 146/250\n",
      "15/15 [==============================] - 0s 2ms/step - loss: 0.3632 - accuracy: 0.8472 - val_loss: 0.3271 - val_accuracy: 0.8889\n",
      "Epoch 147/250\n",
      "15/15 [==============================] - 0s 2ms/step - loss: 0.3792 - accuracy: 0.8611 - val_loss: 0.3285 - val_accuracy: 0.8889\n",
      "Epoch 148/250\n",
      "15/15 [==============================] - 0s 2ms/step - loss: 0.3979 - accuracy: 0.8472 - val_loss: 0.3361 - val_accuracy: 0.8889\n",
      "Epoch 149/250\n",
      "15/15 [==============================] - 0s 2ms/step - loss: 0.3737 - accuracy: 0.8194 - val_loss: 0.3479 - val_accuracy: 0.8889\n",
      "Epoch 150/250\n",
      "15/15 [==============================] - 0s 3ms/step - loss: 0.3963 - accuracy: 0.8056 - val_loss: 0.3474 - val_accuracy: 0.8889\n",
      "Epoch 151/250\n",
      "15/15 [==============================] - 0s 2ms/step - loss: 0.3869 - accuracy: 0.8194 - val_loss: 0.3645 - val_accuracy: 0.8333\n",
      "Epoch 152/250\n",
      "15/15 [==============================] - 0s 2ms/step - loss: 0.3812 - accuracy: 0.8194 - val_loss: 0.3884 - val_accuracy: 0.8333\n",
      "Epoch 153/250\n",
      "15/15 [==============================] - 0s 3ms/step - loss: 0.3924 - accuracy: 0.7778 - val_loss: 0.3650 - val_accuracy: 0.8889\n",
      "Epoch 154/250\n",
      "15/15 [==============================] - 0s 2ms/step - loss: 0.4295 - accuracy: 0.8194 - val_loss: 0.3645 - val_accuracy: 0.8889\n",
      "Epoch 155/250\n",
      "15/15 [==============================] - 0s 2ms/step - loss: 0.3807 - accuracy: 0.8472 - val_loss: 0.3893 - val_accuracy: 0.8333\n",
      "Epoch 156/250\n",
      "15/15 [==============================] - 0s 2ms/step - loss: 0.4413 - accuracy: 0.7778 - val_loss: 0.3816 - val_accuracy: 0.8333\n",
      "Epoch 157/250\n",
      "15/15 [==============================] - 0s 2ms/step - loss: 0.4285 - accuracy: 0.7917 - val_loss: 0.3716 - val_accuracy: 0.8333\n",
      "Epoch 158/250\n",
      "15/15 [==============================] - 0s 2ms/step - loss: 0.3866 - accuracy: 0.8611 - val_loss: 0.3691 - val_accuracy: 0.8333\n",
      "Epoch 159/250\n",
      "15/15 [==============================] - 0s 2ms/step - loss: 0.2906 - accuracy: 0.8750 - val_loss: 0.3618 - val_accuracy: 0.8889\n",
      "Epoch 160/250\n",
      "15/15 [==============================] - 0s 2ms/step - loss: 0.3381 - accuracy: 0.8472 - val_loss: 0.3542 - val_accuracy: 0.8889\n",
      "Epoch 161/250\n",
      "15/15 [==============================] - 0s 3ms/step - loss: 0.4707 - accuracy: 0.7778 - val_loss: 0.3312 - val_accuracy: 0.8889\n",
      "Epoch 162/250\n",
      "15/15 [==============================] - 0s 2ms/step - loss: 0.4798 - accuracy: 0.8056 - val_loss: 0.3489 - val_accuracy: 0.8889\n",
      "Epoch 163/250\n",
      "15/15 [==============================] - 0s 2ms/step - loss: 0.3628 - accuracy: 0.8056 - val_loss: 0.3683 - val_accuracy: 0.8333\n",
      "Epoch 164/250\n",
      "15/15 [==============================] - 0s 2ms/step - loss: 0.3893 - accuracy: 0.8194 - val_loss: 0.3509 - val_accuracy: 0.8889\n",
      "Epoch 165/250\n",
      "15/15 [==============================] - 0s 2ms/step - loss: 0.3436 - accuracy: 0.8472 - val_loss: 0.3743 - val_accuracy: 0.8889\n",
      "Epoch 166/250\n",
      "15/15 [==============================] - 0s 2ms/step - loss: 0.2916 - accuracy: 0.8611 - val_loss: 0.3636 - val_accuracy: 0.8889\n",
      "Epoch 167/250\n",
      "15/15 [==============================] - 0s 3ms/step - loss: 0.4154 - accuracy: 0.8056 - val_loss: 0.3607 - val_accuracy: 0.8889\n",
      "Epoch 168/250\n",
      "15/15 [==============================] - 0s 2ms/step - loss: 0.3715 - accuracy: 0.8611 - val_loss: 0.3523 - val_accuracy: 0.8889\n",
      "Epoch 169/250\n",
      "15/15 [==============================] - 0s 3ms/step - loss: 0.3906 - accuracy: 0.8472 - val_loss: 0.3406 - val_accuracy: 0.8889\n",
      "Epoch 170/250\n",
      "15/15 [==============================] - 0s 3ms/step - loss: 0.3164 - accuracy: 0.8333 - val_loss: 0.3379 - val_accuracy: 0.8889\n",
      "Epoch 171/250\n",
      "15/15 [==============================] - 0s 2ms/step - loss: 0.3520 - accuracy: 0.8194 - val_loss: 0.3832 - val_accuracy: 0.8333\n",
      "Epoch 172/250\n",
      "15/15 [==============================] - 0s 2ms/step - loss: 0.3733 - accuracy: 0.8194 - val_loss: 0.3866 - val_accuracy: 0.8333\n",
      "Epoch 173/250\n"
     ]
    },
    {
     "name": "stdout",
     "output_type": "stream",
     "text": [
      "15/15 [==============================] - 0s 2ms/step - loss: 0.3466 - accuracy: 0.8750 - val_loss: 0.3310 - val_accuracy: 0.8889\n",
      "Epoch 174/250\n",
      "15/15 [==============================] - 0s 3ms/step - loss: 0.3082 - accuracy: 0.8750 - val_loss: 0.3440 - val_accuracy: 0.8889\n",
      "Epoch 175/250\n",
      "15/15 [==============================] - 0s 2ms/step - loss: 0.3467 - accuracy: 0.8333 - val_loss: 0.3808 - val_accuracy: 0.8333\n",
      "Epoch 176/250\n",
      "15/15 [==============================] - 0s 2ms/step - loss: 0.3519 - accuracy: 0.8333 - val_loss: 0.3764 - val_accuracy: 0.8333\n",
      "Epoch 177/250\n",
      "15/15 [==============================] - 0s 3ms/step - loss: 0.2937 - accuracy: 0.8750 - val_loss: 0.3710 - val_accuracy: 0.8889\n",
      "Epoch 178/250\n",
      "15/15 [==============================] - 0s 3ms/step - loss: 0.3725 - accuracy: 0.8333 - val_loss: 0.3662 - val_accuracy: 0.8889\n",
      "Epoch 179/250\n",
      "15/15 [==============================] - 0s 3ms/step - loss: 0.4559 - accuracy: 0.7639 - val_loss: 0.3357 - val_accuracy: 0.8889\n",
      "Epoch 180/250\n",
      "15/15 [==============================] - 0s 2ms/step - loss: 0.3051 - accuracy: 0.8750 - val_loss: 0.3208 - val_accuracy: 0.8889\n",
      "Epoch 181/250\n",
      "15/15 [==============================] - 0s 2ms/step - loss: 0.4018 - accuracy: 0.8056 - val_loss: 0.3413 - val_accuracy: 0.8889\n",
      "Epoch 182/250\n",
      "15/15 [==============================] - 0s 3ms/step - loss: 0.4013 - accuracy: 0.7778 - val_loss: 0.3473 - val_accuracy: 0.8889\n",
      "Epoch 183/250\n",
      "15/15 [==============================] - 0s 2ms/step - loss: 0.3514 - accuracy: 0.8333 - val_loss: 0.3619 - val_accuracy: 0.8889\n",
      "Epoch 184/250\n",
      "15/15 [==============================] - 0s 2ms/step - loss: 0.3818 - accuracy: 0.8472 - val_loss: 0.2919 - val_accuracy: 0.8889\n",
      "Epoch 185/250\n",
      "15/15 [==============================] - 0s 3ms/step - loss: 0.4198 - accuracy: 0.7917 - val_loss: 0.2959 - val_accuracy: 0.8889\n",
      "Epoch 186/250\n",
      "15/15 [==============================] - 0s 2ms/step - loss: 0.3811 - accuracy: 0.8333 - val_loss: 0.2953 - val_accuracy: 0.8889\n",
      "Epoch 187/250\n",
      "15/15 [==============================] - 0s 2ms/step - loss: 0.4114 - accuracy: 0.8333 - val_loss: 0.3194 - val_accuracy: 0.8889\n",
      "Epoch 188/250\n",
      "15/15 [==============================] - 0s 2ms/step - loss: 0.4724 - accuracy: 0.7778 - val_loss: 0.3463 - val_accuracy: 0.8889\n",
      "Epoch 189/250\n",
      "15/15 [==============================] - 0s 3ms/step - loss: 0.4130 - accuracy: 0.7778 - val_loss: 0.3363 - val_accuracy: 0.8889\n",
      "Epoch 190/250\n",
      "15/15 [==============================] - 0s 2ms/step - loss: 0.3101 - accuracy: 0.9028 - val_loss: 0.3778 - val_accuracy: 0.8333\n",
      "Epoch 191/250\n",
      "15/15 [==============================] - 0s 2ms/step - loss: 0.2977 - accuracy: 0.8611 - val_loss: 0.3896 - val_accuracy: 0.8333\n",
      "Epoch 192/250\n",
      "15/15 [==============================] - 0s 2ms/step - loss: 0.3272 - accuracy: 0.9028 - val_loss: 0.3797 - val_accuracy: 0.8333\n",
      "Epoch 193/250\n",
      "15/15 [==============================] - 0s 2ms/step - loss: 0.3908 - accuracy: 0.7917 - val_loss: 0.3526 - val_accuracy: 0.8889\n",
      "Epoch 194/250\n",
      "15/15 [==============================] - 0s 3ms/step - loss: 0.3882 - accuracy: 0.8472 - val_loss: 0.3562 - val_accuracy: 0.8889\n",
      "Epoch 195/250\n",
      "15/15 [==============================] - 0s 2ms/step - loss: 0.2166 - accuracy: 0.9583 - val_loss: 0.3685 - val_accuracy: 0.8889\n",
      "Epoch 196/250\n",
      "15/15 [==============================] - 0s 2ms/step - loss: 0.3410 - accuracy: 0.8611 - val_loss: 0.3738 - val_accuracy: 0.8889\n",
      "Epoch 197/250\n",
      "15/15 [==============================] - 0s 3ms/step - loss: 0.2886 - accuracy: 0.8889 - val_loss: 0.3675 - val_accuracy: 0.8889\n",
      "Epoch 198/250\n",
      "15/15 [==============================] - 0s 3ms/step - loss: 0.3133 - accuracy: 0.8611 - val_loss: 0.3626 - val_accuracy: 0.8889\n",
      "Epoch 199/250\n",
      "15/15 [==============================] - 0s 3ms/step - loss: 0.3867 - accuracy: 0.7778 - val_loss: 0.3649 - val_accuracy: 0.8889\n",
      "Epoch 200/250\n",
      "15/15 [==============================] - 0s 2ms/step - loss: 0.3386 - accuracy: 0.8333 - val_loss: 0.3910 - val_accuracy: 0.8333\n",
      "Epoch 201/250\n",
      "15/15 [==============================] - 0s 2ms/step - loss: 0.4047 - accuracy: 0.7778 - val_loss: 0.3603 - val_accuracy: 0.8889\n",
      "Epoch 202/250\n",
      "15/15 [==============================] - 0s 2ms/step - loss: 0.2914 - accuracy: 0.8889 - val_loss: 0.3575 - val_accuracy: 0.8889\n",
      "Epoch 203/250\n",
      "15/15 [==============================] - 0s 3ms/step - loss: 0.3389 - accuracy: 0.8611 - val_loss: 0.3482 - val_accuracy: 0.8889\n",
      "Epoch 204/250\n",
      "15/15 [==============================] - 0s 2ms/step - loss: 0.3221 - accuracy: 0.8333 - val_loss: 0.3657 - val_accuracy: 0.8333\n",
      "Epoch 205/250\n",
      "15/15 [==============================] - 0s 3ms/step - loss: 0.3779 - accuracy: 0.8056 - val_loss: 0.3628 - val_accuracy: 0.8333\n",
      "Epoch 206/250\n",
      "15/15 [==============================] - 0s 3ms/step - loss: 0.2989 - accuracy: 0.8611 - val_loss: 0.3613 - val_accuracy: 0.8889\n",
      "Epoch 207/250\n",
      "15/15 [==============================] - 0s 2ms/step - loss: 0.2915 - accuracy: 0.8472 - val_loss: 0.3480 - val_accuracy: 0.8889\n",
      "Epoch 208/250\n",
      "15/15 [==============================] - 0s 2ms/step - loss: 0.3925 - accuracy: 0.8056 - val_loss: 0.3629 - val_accuracy: 0.8889\n",
      "Epoch 209/250\n",
      "15/15 [==============================] - 0s 2ms/step - loss: 0.3441 - accuracy: 0.8750 - val_loss: 0.3459 - val_accuracy: 0.8889\n",
      "Epoch 210/250\n",
      "15/15 [==============================] - 0s 2ms/step - loss: 0.2451 - accuracy: 0.9167 - val_loss: 0.3733 - val_accuracy: 0.8333\n",
      "Epoch 211/250\n",
      "15/15 [==============================] - 0s 2ms/step - loss: 0.3220 - accuracy: 0.8472 - val_loss: 0.3773 - val_accuracy: 0.8889\n",
      "Epoch 212/250\n",
      "15/15 [==============================] - 0s 3ms/step - loss: 0.3799 - accuracy: 0.8194 - val_loss: 0.3703 - val_accuracy: 0.8889\n",
      "Epoch 213/250\n",
      "15/15 [==============================] - 0s 3ms/step - loss: 0.3184 - accuracy: 0.8611 - val_loss: 0.3593 - val_accuracy: 0.8889\n",
      "Epoch 214/250\n",
      "15/15 [==============================] - 0s 3ms/step - loss: 0.4294 - accuracy: 0.8333 - val_loss: 0.3593 - val_accuracy: 0.8889\n",
      "Epoch 215/250\n",
      "15/15 [==============================] - 0s 2ms/step - loss: 0.3286 - accuracy: 0.8611 - val_loss: 0.3473 - val_accuracy: 0.8889\n",
      "Epoch 216/250\n",
      "15/15 [==============================] - 0s 2ms/step - loss: 0.3726 - accuracy: 0.8194 - val_loss: 0.3550 - val_accuracy: 0.8889\n",
      "Epoch 217/250\n",
      "15/15 [==============================] - 0s 3ms/step - loss: 0.2944 - accuracy: 0.8611 - val_loss: 0.3637 - val_accuracy: 0.8889\n",
      "Epoch 218/250\n",
      "15/15 [==============================] - 0s 2ms/step - loss: 0.4480 - accuracy: 0.7639 - val_loss: 0.3735 - val_accuracy: 0.8333\n",
      "Epoch 219/250\n",
      "15/15 [==============================] - 0s 2ms/step - loss: 0.3345 - accuracy: 0.8472 - val_loss: 0.3872 - val_accuracy: 0.8333\n",
      "Epoch 220/250\n",
      "15/15 [==============================] - 0s 3ms/step - loss: 0.3172 - accuracy: 0.8194 - val_loss: 0.3620 - val_accuracy: 0.8889\n",
      "Epoch 221/250\n",
      "15/15 [==============================] - 0s 3ms/step - loss: 0.3024 - accuracy: 0.9028 - val_loss: 0.3653 - val_accuracy: 0.8889\n",
      "Epoch 222/250\n",
      "15/15 [==============================] - 0s 2ms/step - loss: 0.4035 - accuracy: 0.7917 - val_loss: 0.3668 - val_accuracy: 0.8889\n",
      "Epoch 223/250\n",
      "15/15 [==============================] - 0s 2ms/step - loss: 0.2404 - accuracy: 0.9167 - val_loss: 0.3526 - val_accuracy: 0.8889\n",
      "Epoch 224/250\n",
      "15/15 [==============================] - 0s 2ms/step - loss: 0.3298 - accuracy: 0.8611 - val_loss: 0.3429 - val_accuracy: 0.8889\n",
      "Epoch 225/250\n",
      "15/15 [==============================] - 0s 2ms/step - loss: 0.3379 - accuracy: 0.8472 - val_loss: 0.3659 - val_accuracy: 0.8889\n",
      "Epoch 226/250\n",
      "15/15 [==============================] - 0s 3ms/step - loss: 0.3174 - accuracy: 0.8472 - val_loss: 0.3738 - val_accuracy: 0.8889\n",
      "Epoch 227/250\n",
      "15/15 [==============================] - 0s 3ms/step - loss: 0.3484 - accuracy: 0.8611 - val_loss: 0.3913 - val_accuracy: 0.8889\n",
      "Epoch 228/250\n",
      "15/15 [==============================] - 0s 3ms/step - loss: 0.2482 - accuracy: 0.8889 - val_loss: 0.4018 - val_accuracy: 0.8889\n",
      "Epoch 229/250\n",
      "15/15 [==============================] - 0s 2ms/step - loss: 0.4321 - accuracy: 0.8056 - val_loss: 0.3662 - val_accuracy: 0.8889\n",
      "Epoch 230/250\n"
     ]
    },
    {
     "name": "stdout",
     "output_type": "stream",
     "text": [
      "15/15 [==============================] - 0s 3ms/step - loss: 0.3393 - accuracy: 0.8333 - val_loss: 0.3453 - val_accuracy: 0.8889\n",
      "Epoch 231/250\n",
      "15/15 [==============================] - 0s 2ms/step - loss: 0.2785 - accuracy: 0.9028 - val_loss: 0.3617 - val_accuracy: 0.8889\n",
      "Epoch 232/250\n",
      "15/15 [==============================] - 0s 2ms/step - loss: 0.3139 - accuracy: 0.8611 - val_loss: 0.3681 - val_accuracy: 0.8889\n",
      "Epoch 233/250\n",
      "15/15 [==============================] - 0s 3ms/step - loss: 0.2663 - accuracy: 0.8889 - val_loss: 0.3767 - val_accuracy: 0.8889\n",
      "Epoch 234/250\n",
      "15/15 [==============================] - 0s 2ms/step - loss: 0.3321 - accuracy: 0.8472 - val_loss: 0.3797 - val_accuracy: 0.8889\n",
      "Epoch 235/250\n",
      "15/15 [==============================] - 0s 2ms/step - loss: 0.2807 - accuracy: 0.8750 - val_loss: 0.3929 - val_accuracy: 0.8889\n",
      "Epoch 236/250\n",
      "15/15 [==============================] - 0s 2ms/step - loss: 0.2759 - accuracy: 0.8333 - val_loss: 0.4203 - val_accuracy: 0.8333\n",
      "Epoch 237/250\n",
      "15/15 [==============================] - 0s 2ms/step - loss: 0.2260 - accuracy: 0.9306 - val_loss: 0.4087 - val_accuracy: 0.8889\n",
      "Epoch 238/250\n",
      "15/15 [==============================] - 0s 3ms/step - loss: 0.2742 - accuracy: 0.8611 - val_loss: 0.3921 - val_accuracy: 0.8889\n",
      "Epoch 239/250\n",
      "15/15 [==============================] - 0s 2ms/step - loss: 0.3453 - accuracy: 0.8333 - val_loss: 0.3526 - val_accuracy: 0.8889\n",
      "Epoch 240/250\n",
      "15/15 [==============================] - 0s 3ms/step - loss: 0.2924 - accuracy: 0.8472 - val_loss: 0.3247 - val_accuracy: 0.8889\n",
      "Epoch 241/250\n",
      "15/15 [==============================] - 0s 3ms/step - loss: 0.3029 - accuracy: 0.9028 - val_loss: 0.3889 - val_accuracy: 0.8333\n",
      "Epoch 242/250\n",
      "15/15 [==============================] - 0s 2ms/step - loss: 0.4081 - accuracy: 0.8333 - val_loss: 0.4084 - val_accuracy: 0.8333\n",
      "Epoch 243/250\n",
      "15/15 [==============================] - 0s 3ms/step - loss: 0.3354 - accuracy: 0.8194 - val_loss: 0.4394 - val_accuracy: 0.8333\n",
      "Epoch 244/250\n",
      "15/15 [==============================] - 0s 2ms/step - loss: 0.3560 - accuracy: 0.8333 - val_loss: 0.3950 - val_accuracy: 0.8333\n",
      "Epoch 245/250\n",
      "15/15 [==============================] - 0s 2ms/step - loss: 0.3425 - accuracy: 0.8194 - val_loss: 0.3962 - val_accuracy: 0.8333\n",
      "Epoch 246/250\n",
      "15/15 [==============================] - 0s 2ms/step - loss: 0.2869 - accuracy: 0.8889 - val_loss: 0.4081 - val_accuracy: 0.8889\n",
      "Epoch 247/250\n",
      "15/15 [==============================] - 0s 2ms/step - loss: 0.3941 - accuracy: 0.7778 - val_loss: 0.3531 - val_accuracy: 0.8889\n",
      "Epoch 248/250\n",
      "15/15 [==============================] - 0s 3ms/step - loss: 0.3478 - accuracy: 0.8889 - val_loss: 0.3475 - val_accuracy: 0.8889\n",
      "Epoch 249/250\n",
      "15/15 [==============================] - 0s 2ms/step - loss: 0.2835 - accuracy: 0.8611 - val_loss: 0.3525 - val_accuracy: 0.8889\n",
      "Epoch 250/250\n",
      "15/15 [==============================] - 0s 2ms/step - loss: 0.3672 - accuracy: 0.8472 - val_loss: 0.3791 - val_accuracy: 0.8889\n"
     ]
    }
   ],
   "source": [
    "save2=model2.fit(X_train,y_train,batch_size=5,epochs=250,verbose=1,validation_split=0.2)"
   ]
  },
  {
   "cell_type": "code",
   "execution_count": 16,
   "id": "7c8c49b2",
   "metadata": {},
   "outputs": [
    {
     "name": "stdout",
     "output_type": "stream",
     "text": [
      "3/3 [==============================] - 0s 0s/step\n"
     ]
    }
   ],
   "source": [
    "pred=model2.predict(X_train)"
   ]
  },
  {
   "cell_type": "code",
   "execution_count": 17,
   "id": "a86f3e93",
   "metadata": {},
   "outputs": [
    {
     "name": "stdout",
     "output_type": "stream",
     "text": [
      "3/3 [==============================] - 0s 4ms/step\n"
     ]
    },
    {
     "data": {
      "text/plain": [
       "90"
      ]
     },
     "execution_count": 17,
     "metadata": {},
     "output_type": "execute_result"
    }
   ],
   "source": [
    "len(model2.predict(X_train))"
   ]
  },
  {
   "cell_type": "code",
   "execution_count": 18,
   "id": "79f8c327",
   "metadata": {},
   "outputs": [
    {
     "data": {
      "text/plain": [
       "22    1\n",
       "75    1\n",
       "52    0\n",
       "96    0\n",
       "34    1\n",
       "     ..\n",
       "83    0\n",
       "30    0\n",
       "37    1\n",
       "74    0\n",
       "35    0\n",
       "Length: 90, dtype: int32"
      ]
     },
     "execution_count": 18,
     "metadata": {},
     "output_type": "execute_result"
    }
   ],
   "source": [
    "pred=np.ravel(np.where(pred<0.5,0,1))\n",
    "pred=pd.Series(pred)\n",
    "pred.index=y_train.index\n",
    "pred"
   ]
  },
  {
   "cell_type": "code",
   "execution_count": 20,
   "id": "039ba2e6",
   "metadata": {},
   "outputs": [
    {
     "data": {
      "text/plain": [
       "<AxesSubplot:xlabel='0', ylabel='1'>"
      ]
     },
     "execution_count": 20,
     "metadata": {},
     "output_type": "execute_result"
    },
    {
     "data": {
      "image/png": "[encoded data removed]",
      "text/plain": [
       "<Figure size 432x288 with 1 Axes>"
      ]
     },
     "metadata": {
      "needs_background": "light"
     },
     "output_type": "display_data"
    }
   ],
   "source": [
    "sns.scatterplot(x=X_train[0],y=X_train[1],hue=y_train)"
   ]
  },
  {
   "cell_type": "code",
   "execution_count": 19,
   "id": "7dba05c1",
   "metadata": {},
   "outputs": [
    {
     "data": {
      "text/plain": [
       "<AxesSubplot:xlabel='0', ylabel='1'>"
      ]
     },
     "execution_count": 19,
     "metadata": {},
     "output_type": "execute_result"
    },
    {
     "data": {
      "image/png": "[encoded data removed]",
      "text/plain": [
       "<Figure size 432x288 with 1 Axes>"
      ]
     },
     "metadata": {
      "needs_background": "light"
     },
     "output_type": "display_data"
    }
   ],
   "source": [
    "sns.scatterplot(x=X_train[0],y=X_train[1],hue=pred)"
   ]
  },
  {
   "cell_type": "code",
   "execution_count": 22,
   "id": "63552385",
   "metadata": {},
   "outputs": [
    {
     "data": {
      "text/plain": [
       "0.9111111111111111"
      ]
     },
     "execution_count": 22,
     "metadata": {},
     "output_type": "execute_result"
    }
   ],
   "source": [
    "from sklearn import metrics\n",
    "metrics.accuracy_score(y_train,pred)"
   ]
  },
  {
   "cell_type": "code",
   "execution_count": 23,
   "id": "8f9c75df",
   "metadata": {},
   "outputs": [
    {
     "data": {
      "text/plain": [
       "[array([[-1.0689329 ,  0.68790275,  1.3124628 ,  0.53032905, -0.24707842,\n",
       "          1.561732  , -0.08686564],\n",
       "        [-1.0022008 ,  0.90086293,  0.19546612,  1.5342944 , -1.0134361 ,\n",
       "          0.24995357, -0.16294612]], dtype=float32),\n",
       " array([ 0.07559516,  0.12063966,  0.24680541,  0.03157701, -0.00295519,\n",
       "        -0.17490953,  0.04331129], dtype=float32),\n",
       " array([[ 0.02758831,  0.31155536, -0.13181351, -0.26688078, -0.01771989],\n",
       "        [-0.67252135, -0.5601832 , -0.15346079,  0.2736697 ,  0.73170406],\n",
       "        [-0.8871162 ,  0.13055336, -0.34699705,  0.7890284 , -0.8194671 ],\n",
       "        [ 0.4908198 ,  0.6072765 , -1.145417  , -0.06649373,  0.38525006],\n",
       "        [-0.7968278 , -0.27639237,  0.7696612 , -0.13857922,  0.38490784],\n",
       "        [-0.7320022 , -0.08211172,  0.84198076,  1.238956  , -0.8024582 ],\n",
       "        [ 1.0080492 ,  0.24480176, -0.86879605, -0.02498926, -0.1299679 ]],\n",
       "       dtype=float32),\n",
       " array([-0.07478169, -0.17765269, -0.21863762, -0.25866044, -0.11325371],\n",
       "       dtype=float32),\n",
       " array([1.4068158, 1.9274454, 1.9314054, 1.6046848, 1.5187082],\n",
       "       dtype=float32),\n",
       " array([0.11308277, 0.12331337, 0.12078266, 0.13044891, 0.13414763],\n",
       "       dtype=float32),\n",
       " array([0.01088078, 0.05313907, 0.04381913, 0.6657359 , 0.08900093],\n",
       "       dtype=float32),\n",
       " array([0.00107505, 0.00512033, 0.00912024, 0.6921768 , 0.02207754],\n",
       "       dtype=float32),\n",
       " array([[-0.6827591 ],\n",
       "        [-1.108784  ],\n",
       "        [-1.1106901 ],\n",
       "        [-0.57008547],\n",
       "        [-0.46415418]], dtype=float32),\n",
       " array([-0.10588963], dtype=float32)]"
      ]
     },
     "execution_count": 23,
     "metadata": {},
     "output_type": "execute_result"
    }
   ],
   "source": [
    "model2.get_weights()"
   ]
  },
  {
   "cell_type": "code",
   "execution_count": 24,
   "id": "6fcf4bec",
   "metadata": {},
   "outputs": [],
   "source": [
    "from mlxtend.plotting import plot_decision_regions"
   ]
  },
  {
   "cell_type": "code",
   "execution_count": 25,
   "id": "4bb9a694",
   "metadata": {},
   "outputs": [
    {
     "name": "stdout",
     "output_type": "stream",
     "text": [
      "3888/3888 [==============================] - 2s 617us/step\n"
     ]
    },
    {
     "data": {
      "text/plain": [
       "<AxesSubplot:>"
      ]
     },
     "execution_count": 25,
     "metadata": {},
     "output_type": "execute_result"
    },
    {
     "data": {
      "image/png": "[encoded data removed]",
      "text/plain": [
       "<Figure size 432x288 with 1 Axes>"
      ]
     },
     "metadata": {
      "needs_background": "light"
     },
     "output_type": "display_data"
    }
   ],
   "source": [
    "plot_decision_regions(X_train[[0,1]].values,y_train.values.astype(int),clf=model2)"
   ]
  },
  {
   "cell_type": "code",
   "execution_count": 26,
   "id": "8975b823",
   "metadata": {},
   "outputs": [
    {
     "name": "stdout",
     "output_type": "stream",
     "text": [
      "3888/3888 [==============================] - 2s 554us/step\n"
     ]
    },
    {
     "data": {
      "text/plain": [
       "<AxesSubplot:>"
      ]
     },
     "execution_count": 26,
     "metadata": {},
     "output_type": "execute_result"
    },
    {
     "data": {
      "image/png": "[encoded data removed]",
      "text/plain": [
       "<Figure size 432x288 with 1 Axes>"
      ]
     },
     "metadata": {
      "needs_background": "light"
     },
     "output_type": "display_data"
    }
   ],
   "source": [
    "plot_decision_regions(X_train[[0,1]].values,pred.values.astype(int),clf=model2)"
   ]
  },
  {
   "cell_type": "code",
   "execution_count": null,
   "id": "6309dc7f",
   "metadata": {},
   "outputs": [],
   "source": []
  }
 ],
 "metadata": {
  "kernelspec": {
   "display_name": "Python 3 (ipykernel)",
   "language": "python",
   "name": "python3"
  },
  "language_info": {
   "codemirror_mode": {
    "name": "ipython",
    "version": 3
   },
   "file_extension": ".py",
   "mimetype": "text/x-python",
   "name": "python",
   "nbconvert_exporter": "python",
   "pygments_lexer": "ipython3",
   "version": "3.9.12"
  }
 },
 "nbformat": 4,
 "nbformat_minor": 5
}
