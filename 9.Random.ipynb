{
 "cells": [
  {
   "cell_type": "markdown",
   "id": "507ef80f",
   "metadata": {},
   "source": [
    "## Problem 9(Random)"
   ]
  },
  {
   "cell_type": "code",
   "execution_count": 467,
   "id": "e79b6a6b",
   "metadata": {},
   "outputs": [],
   "source": [
    "data9=pd.read_csv(r\"C:\\Users\\harsh\\Downloads\\data (1)\\demo_data\\9.random.csv\",header=None)"
   ]
  },
  {
   "cell_type": "code",
   "execution_count": 468,
   "id": "1535aabe",
   "metadata": {},
   "outputs": [
    {
     "data": {
      "text/html": [
       "<div>\n",
       "<style scoped>\n",
       "    .dataframe tbody tr th:only-of-type {\n",
       "        vertical-align: middle;\n",
       "    }\n",
       "\n",
       "    .dataframe tbody tr th {\n",
       "        vertical-align: top;\n",
       "    }\n",
       "\n",
       "    .dataframe thead th {\n",
       "        text-align: right;\n",
       "    }\n",
       "</style>\n",
       "<table border=\"1\" class=\"dataframe\">\n",
       "  <thead>\n",
       "    <tr style=\"text-align: right;\">\n",
       "      <th></th>\n",
       "      <th>0</th>\n",
       "      <th>1</th>\n",
       "      <th>2</th>\n",
       "    </tr>\n",
       "  </thead>\n",
       "  <tbody>\n",
       "    <tr>\n",
       "      <th>0</th>\n",
       "      <td>0.374</td>\n",
       "      <td>1.080</td>\n",
       "      <td>0.0</td>\n",
       "    </tr>\n",
       "    <tr>\n",
       "      <th>1</th>\n",
       "      <td>0.445</td>\n",
       "      <td>1.140</td>\n",
       "      <td>1.0</td>\n",
       "    </tr>\n",
       "    <tr>\n",
       "      <th>2</th>\n",
       "      <td>0.514</td>\n",
       "      <td>1.130</td>\n",
       "      <td>0.0</td>\n",
       "    </tr>\n",
       "    <tr>\n",
       "      <th>3</th>\n",
       "      <td>0.466</td>\n",
       "      <td>1.240</td>\n",
       "      <td>1.0</td>\n",
       "    </tr>\n",
       "    <tr>\n",
       "      <th>4</th>\n",
       "      <td>0.371</td>\n",
       "      <td>0.968</td>\n",
       "      <td>1.0</td>\n",
       "    </tr>\n",
       "  </tbody>\n",
       "</table>\n",
       "</div>"
      ],
      "text/plain": [
       "       0      1    2\n",
       "0  0.374  1.080  0.0\n",
       "1  0.445  1.140  1.0\n",
       "2  0.514  1.130  0.0\n",
       "3  0.466  1.240  1.0\n",
       "4  0.371  0.968  1.0"
      ]
     },
     "execution_count": 468,
     "metadata": {},
     "output_type": "execute_result"
    }
   ],
   "source": [
    "data9.head()"
   ]
  },
  {
   "cell_type": "code",
   "execution_count": 469,
   "id": "d4a31e61",
   "metadata": {},
   "outputs": [
    {
     "data": {
      "text/html": [
       "<div>\n",
       "<style scoped>\n",
       "    .dataframe tbody tr th:only-of-type {\n",
       "        vertical-align: middle;\n",
       "    }\n",
       "\n",
       "    .dataframe tbody tr th {\n",
       "        vertical-align: top;\n",
       "    }\n",
       "\n",
       "    .dataframe thead th {\n",
       "        text-align: right;\n",
       "    }\n",
       "</style>\n",
       "<table border=\"1\" class=\"dataframe\">\n",
       "  <thead>\n",
       "    <tr style=\"text-align: right;\">\n",
       "      <th></th>\n",
       "      <th>0</th>\n",
       "      <th>1</th>\n",
       "      <th>2</th>\n",
       "    </tr>\n",
       "  </thead>\n",
       "  <tbody>\n",
       "    <tr>\n",
       "      <th>0</th>\n",
       "      <td>1.000000</td>\n",
       "      <td>0.469878</td>\n",
       "      <td>-0.018720</td>\n",
       "    </tr>\n",
       "    <tr>\n",
       "      <th>1</th>\n",
       "      <td>0.469878</td>\n",
       "      <td>1.000000</td>\n",
       "      <td>-0.021668</td>\n",
       "    </tr>\n",
       "    <tr>\n",
       "      <th>2</th>\n",
       "      <td>-0.018720</td>\n",
       "      <td>-0.021668</td>\n",
       "      <td>1.000000</td>\n",
       "    </tr>\n",
       "  </tbody>\n",
       "</table>\n",
       "</div>"
      ],
      "text/plain": [
       "          0         1         2\n",
       "0  1.000000  0.469878 -0.018720\n",
       "1  0.469878  1.000000 -0.021668\n",
       "2 -0.018720 -0.021668  1.000000"
      ]
     },
     "execution_count": 469,
     "metadata": {},
     "output_type": "execute_result"
    }
   ],
   "source": [
    "data9.corr()"
   ]
  },
  {
   "cell_type": "code",
   "execution_count": 470,
   "id": "7dc4b8ca",
   "metadata": {},
   "outputs": [
    {
     "data": {
      "text/plain": [
       "1.0    202\n",
       "0.0    198\n",
       "Name: 2, dtype: int64"
      ]
     },
     "execution_count": 470,
     "metadata": {},
     "output_type": "execute_result"
    }
   ],
   "source": [
    "data9[2].value_counts()"
   ]
  },
  {
   "cell_type": "code",
   "execution_count": 471,
   "id": "db30ca9c",
   "metadata": {},
   "outputs": [],
   "source": [
    "from sklearn.model_selection import train_test_split\n",
    "X_train,X_test,y_train,y_test=train_test_split(data9[[0,1]],data9[2],test_size=0.15)"
   ]
  },
  {
   "cell_type": "code",
   "execution_count": 472,
   "id": "2a0acaef",
   "metadata": {},
   "outputs": [],
   "source": [
    "from sklearn.preprocessing import StandardScaler\n",
    "scaler9=StandardScaler()\n",
    "data_rescaled=scaler9.fit_transform(X_train)"
   ]
  },
  {
   "cell_type": "code",
   "execution_count": 642,
   "id": "4a821096",
   "metadata": {},
   "outputs": [],
   "source": [
    "import tensorflow\n",
    "import tensorflow.keras\n",
    "from tensorflow.keras import Sequential\n",
    "from tensorflow.keras.layers import Dense\n",
    "model9=Sequential()"
   ]
  },
  {
   "cell_type": "code",
   "execution_count": 643,
   "id": "2502ce5d",
   "metadata": {},
   "outputs": [],
   "source": [
    "model9.add(Dense(3,activation=\"sigmoid\",input_dim=2))\n",
    "model9.add(Dense(2,activation=\"sigmoid\"))\n",
    "model9.add(Dense(1,activation=\"sigmoid\"))"
   ]
  },
  {
   "cell_type": "code",
   "execution_count": 644,
   "id": "36b64a76",
   "metadata": {},
   "outputs": [
    {
     "name": "stdout",
     "output_type": "stream",
     "text": [
      "Model: \"sequential_66\"\n",
      "_________________________________________________________________\n",
      " Layer (type)                Output Shape              Param #   \n",
      "=================================================================\n",
      " dense_257 (Dense)           (None, 3)                 9         \n",
      "                                                                 \n",
      " dense_258 (Dense)           (None, 2)                 8         \n",
      "                                                                 \n",
      " dense_259 (Dense)           (None, 1)                 3         \n",
      "                                                                 \n",
      "=================================================================\n",
      "Total params: 20\n",
      "Trainable params: 20\n",
      "Non-trainable params: 0\n",
      "_________________________________________________________________\n"
     ]
    }
   ],
   "source": [
    "model9.summary()"
   ]
  },
  {
   "cell_type": "code",
   "execution_count": 645,
   "id": "6b0d1a65",
   "metadata": {},
   "outputs": [],
   "source": [
    "model9.compile(optimizer=\"adam\",loss=\"binary_crossentropy\",metrics=['accuracy'])"
   ]
  },
  {
   "cell_type": "code",
   "execution_count": 647,
   "id": "628e2d45",
   "metadata": {},
   "outputs": [
    {
     "name": "stdout",
     "output_type": "stream",
     "text": [
      "Epoch 1/50\n",
      "28/28 [==============================] - 0s 2ms/step - loss: 0.6928 - accuracy: 0.5147 - val_loss: 0.6969 - val_accuracy: 0.4412\n",
      "Epoch 2/50\n",
      "28/28 [==============================] - 0s 2ms/step - loss: 0.6927 - accuracy: 0.5147 - val_loss: 0.6965 - val_accuracy: 0.4412\n",
      "Epoch 3/50\n",
      "28/28 [==============================] - 0s 2ms/step - loss: 0.6928 - accuracy: 0.5110 - val_loss: 0.6959 - val_accuracy: 0.3971\n",
      "Epoch 4/50\n",
      "28/28 [==============================] - 0s 2ms/step - loss: 0.6927 - accuracy: 0.5147 - val_loss: 0.6966 - val_accuracy: 0.4412\n",
      "Epoch 5/50\n",
      "28/28 [==============================] - 0s 2ms/step - loss: 0.6927 - accuracy: 0.5147 - val_loss: 0.6969 - val_accuracy: 0.4412\n",
      "Epoch 6/50\n",
      "28/28 [==============================] - 0s 2ms/step - loss: 0.6927 - accuracy: 0.5147 - val_loss: 0.6963 - val_accuracy: 0.4265\n",
      "Epoch 7/50\n",
      "28/28 [==============================] - 0s 2ms/step - loss: 0.6931 - accuracy: 0.5147 - val_loss: 0.6973 - val_accuracy: 0.4412\n",
      "Epoch 8/50\n",
      "28/28 [==============================] - 0s 2ms/step - loss: 0.6927 - accuracy: 0.5147 - val_loss: 0.6970 - val_accuracy: 0.4412\n",
      "Epoch 9/50\n",
      "28/28 [==============================] - 0s 2ms/step - loss: 0.6927 - accuracy: 0.5147 - val_loss: 0.6964 - val_accuracy: 0.4412\n",
      "Epoch 10/50\n",
      "28/28 [==============================] - 0s 2ms/step - loss: 0.6927 - accuracy: 0.5147 - val_loss: 0.6968 - val_accuracy: 0.4412\n",
      "Epoch 11/50\n",
      "28/28 [==============================] - 0s 2ms/step - loss: 0.6927 - accuracy: 0.5147 - val_loss: 0.6968 - val_accuracy: 0.4412\n",
      "Epoch 12/50\n",
      "28/28 [==============================] - 0s 2ms/step - loss: 0.6929 - accuracy: 0.5147 - val_loss: 0.6961 - val_accuracy: 0.4118\n",
      "Epoch 13/50\n",
      "28/28 [==============================] - 0s 2ms/step - loss: 0.6928 - accuracy: 0.5147 - val_loss: 0.6963 - val_accuracy: 0.4265\n",
      "Epoch 14/50\n",
      "28/28 [==============================] - 0s 2ms/step - loss: 0.6927 - accuracy: 0.5147 - val_loss: 0.6968 - val_accuracy: 0.4412\n",
      "Epoch 15/50\n",
      "28/28 [==============================] - 0s 2ms/step - loss: 0.6928 - accuracy: 0.5147 - val_loss: 0.6972 - val_accuracy: 0.4412\n",
      "Epoch 16/50\n",
      "28/28 [==============================] - 0s 2ms/step - loss: 0.6931 - accuracy: 0.5110 - val_loss: 0.6964 - val_accuracy: 0.4412\n",
      "Epoch 17/50\n",
      "28/28 [==============================] - 0s 2ms/step - loss: 0.6927 - accuracy: 0.5110 - val_loss: 0.6964 - val_accuracy: 0.4265\n",
      "Epoch 18/50\n",
      "28/28 [==============================] - 0s 2ms/step - loss: 0.6928 - accuracy: 0.5147 - val_loss: 0.6965 - val_accuracy: 0.4412\n",
      "Epoch 19/50\n",
      "28/28 [==============================] - 0s 3ms/step - loss: 0.6928 - accuracy: 0.5147 - val_loss: 0.6971 - val_accuracy: 0.4412\n",
      "Epoch 20/50\n",
      "28/28 [==============================] - 0s 2ms/step - loss: 0.6928 - accuracy: 0.5110 - val_loss: 0.6964 - val_accuracy: 0.4265\n",
      "Epoch 21/50\n",
      "28/28 [==============================] - 0s 2ms/step - loss: 0.6927 - accuracy: 0.5147 - val_loss: 0.6972 - val_accuracy: 0.4412\n",
      "Epoch 22/50\n",
      "28/28 [==============================] - 0s 2ms/step - loss: 0.6928 - accuracy: 0.5147 - val_loss: 0.6971 - val_accuracy: 0.4412\n",
      "Epoch 23/50\n",
      "28/28 [==============================] - 0s 2ms/step - loss: 0.6927 - accuracy: 0.5147 - val_loss: 0.6973 - val_accuracy: 0.4412\n",
      "Epoch 24/50\n",
      "28/28 [==============================] - 0s 2ms/step - loss: 0.6927 - accuracy: 0.5147 - val_loss: 0.6973 - val_accuracy: 0.4412\n",
      "Epoch 25/50\n",
      "28/28 [==============================] - 0s 2ms/step - loss: 0.6927 - accuracy: 0.5147 - val_loss: 0.6967 - val_accuracy: 0.4412\n",
      "Epoch 26/50\n",
      "28/28 [==============================] - 0s 2ms/step - loss: 0.6926 - accuracy: 0.5147 - val_loss: 0.6972 - val_accuracy: 0.4412\n",
      "Epoch 27/50\n",
      "28/28 [==============================] - 0s 2ms/step - loss: 0.6927 - accuracy: 0.5147 - val_loss: 0.6973 - val_accuracy: 0.4412\n",
      "Epoch 28/50\n",
      "28/28 [==============================] - 0s 2ms/step - loss: 0.6927 - accuracy: 0.5147 - val_loss: 0.6973 - val_accuracy: 0.4412\n",
      "Epoch 29/50\n",
      "28/28 [==============================] - 0s 2ms/step - loss: 0.6927 - accuracy: 0.5147 - val_loss: 0.6971 - val_accuracy: 0.4412\n",
      "Epoch 30/50\n",
      "28/28 [==============================] - 0s 2ms/step - loss: 0.6927 - accuracy: 0.5147 - val_loss: 0.6974 - val_accuracy: 0.4412\n",
      "Epoch 31/50\n",
      "28/28 [==============================] - 0s 2ms/step - loss: 0.6927 - accuracy: 0.5147 - val_loss: 0.6975 - val_accuracy: 0.4412\n",
      "Epoch 32/50\n",
      "28/28 [==============================] - 0s 2ms/step - loss: 0.6927 - accuracy: 0.5147 - val_loss: 0.6978 - val_accuracy: 0.4412\n",
      "Epoch 33/50\n",
      "28/28 [==============================] - 0s 2ms/step - loss: 0.6928 - accuracy: 0.5147 - val_loss: 0.6974 - val_accuracy: 0.4412\n",
      "Epoch 34/50\n",
      "28/28 [==============================] - 0s 2ms/step - loss: 0.6927 - accuracy: 0.5147 - val_loss: 0.6980 - val_accuracy: 0.4412\n",
      "Epoch 35/50\n",
      "28/28 [==============================] - 0s 2ms/step - loss: 0.6927 - accuracy: 0.5147 - val_loss: 0.6984 - val_accuracy: 0.4412\n",
      "Epoch 36/50\n",
      "28/28 [==============================] - 0s 2ms/step - loss: 0.6928 - accuracy: 0.5147 - val_loss: 0.6987 - val_accuracy: 0.4412\n",
      "Epoch 37/50\n",
      "28/28 [==============================] - 0s 2ms/step - loss: 0.6926 - accuracy: 0.5147 - val_loss: 0.6985 - val_accuracy: 0.4412\n",
      "Epoch 38/50\n",
      "28/28 [==============================] - 0s 2ms/step - loss: 0.6927 - accuracy: 0.5147 - val_loss: 0.6978 - val_accuracy: 0.4412\n",
      "Epoch 39/50\n",
      "28/28 [==============================] - 0s 2ms/step - loss: 0.6927 - accuracy: 0.5147 - val_loss: 0.6975 - val_accuracy: 0.4412\n",
      "Epoch 40/50\n",
      "28/28 [==============================] - 0s 2ms/step - loss: 0.6928 - accuracy: 0.5147 - val_loss: 0.6983 - val_accuracy: 0.4412\n",
      "Epoch 41/50\n",
      "28/28 [==============================] - 0s 2ms/step - loss: 0.6927 - accuracy: 0.5147 - val_loss: 0.6983 - val_accuracy: 0.4412\n",
      "Epoch 42/50\n",
      "28/28 [==============================] - 0s 2ms/step - loss: 0.6928 - accuracy: 0.5147 - val_loss: 0.6987 - val_accuracy: 0.4412\n",
      "Epoch 43/50\n",
      "28/28 [==============================] - 0s 2ms/step - loss: 0.6927 - accuracy: 0.5147 - val_loss: 0.6987 - val_accuracy: 0.4412\n",
      "Epoch 44/50\n",
      "28/28 [==============================] - 0s 2ms/step - loss: 0.6927 - accuracy: 0.5147 - val_loss: 0.6984 - val_accuracy: 0.4412\n",
      "Epoch 45/50\n",
      "28/28 [==============================] - 0s 2ms/step - loss: 0.6927 - accuracy: 0.5147 - val_loss: 0.6981 - val_accuracy: 0.4412\n",
      "Epoch 46/50\n",
      "28/28 [==============================] - 0s 2ms/step - loss: 0.6927 - accuracy: 0.5147 - val_loss: 0.6977 - val_accuracy: 0.4412\n",
      "Epoch 47/50\n",
      "28/28 [==============================] - 0s 2ms/step - loss: 0.6928 - accuracy: 0.5147 - val_loss: 0.6974 - val_accuracy: 0.4412\n",
      "Epoch 48/50\n",
      "28/28 [==============================] - 0s 2ms/step - loss: 0.6926 - accuracy: 0.5147 - val_loss: 0.6978 - val_accuracy: 0.4412\n",
      "Epoch 49/50\n",
      "28/28 [==============================] - 0s 2ms/step - loss: 0.6927 - accuracy: 0.5147 - val_loss: 0.6977 - val_accuracy: 0.4412\n",
      "Epoch 50/50\n",
      "28/28 [==============================] - 0s 2ms/step - loss: 0.6927 - accuracy: 0.5147 - val_loss: 0.6974 - val_accuracy: 0.4412\n"
     ]
    }
   ],
   "source": [
    "save_=model9.fit(X_train,y_train,batch_size=10,epochs=50,verbose=1,validation_split=0.2)"
   ]
  },
  {
   "cell_type": "code",
   "execution_count": 648,
   "id": "a41ec726",
   "metadata": {},
   "outputs": [],
   "source": [
    "train_loss=save_.history['loss']\n",
    "cv_loss=save_.history['val_loss']"
   ]
  },
  {
   "cell_type": "code",
   "execution_count": 649,
   "id": "75e14d14",
   "metadata": {},
   "outputs": [
    {
     "data": {
      "text/plain": [
       "50"
      ]
     },
     "execution_count": 649,
     "metadata": {},
     "output_type": "execute_result"
    }
   ],
   "source": [
    "len(train_loss)"
   ]
  },
  {
   "cell_type": "code",
   "execution_count": 651,
   "id": "dc89aad2",
   "metadata": {},
   "outputs": [
    {
     "data": {
      "text/plain": [
       "[<matplotlib.lines.Line2D at 0x2158413f640>]"
      ]
     },
     "execution_count": 651,
     "metadata": {},
     "output_type": "execute_result"
    },
    {
     "data": {
      "image/png": "[encoded data removed]",
      "text/plain": [
       "<Figure size 432x288 with 1 Axes>"
      ]
     },
     "metadata": {
      "needs_background": "light"
     },
     "output_type": "display_data"
    }
   ],
   "source": [
    "plt.plot(range(1,51),train_loss,label=\"training_loss\")\n",
    "plt.plot(range(1,51),cv_loss,label=\"crossval_loss\")\n",
    "plt.legend()"
   ]
  },
  {
   "cell_type": "code",
   "execution_count": 652,
   "id": "cc9d936f",
   "metadata": {},
   "outputs": [
    {
     "name": "stdout",
     "output_type": "stream",
     "text": [
      "11/11 [==============================] - 0s 1ms/step\n"
     ]
    }
   ],
   "source": [
    "pred_=model9.predict(X_train)"
   ]
  },
  {
   "cell_type": "code",
   "execution_count": 653,
   "id": "ebcf7a22",
   "metadata": {},
   "outputs": [
    {
     "data": {
      "text/plain": [
       "334    1\n",
       "305    1\n",
       "239    1\n",
       "344    1\n",
       "111    1\n",
       "      ..\n",
       "269    1\n",
       "207    1\n",
       "397    1\n",
       "122    1\n",
       "372    1\n",
       "Length: 340, dtype: int32"
      ]
     },
     "execution_count": 653,
     "metadata": {},
     "output_type": "execute_result"
    }
   ],
   "source": [
    "pred_=np.ravel(np.where(pred_<0.5,0,1))\n",
    "pred_=pd.Series(pred_)\n",
    "pred_.index=y_train.index\n",
    "pred_"
   ]
  },
  {
   "cell_type": "code",
   "execution_count": 654,
   "id": "ee0480e4",
   "metadata": {},
   "outputs": [
    {
     "data": {
      "text/plain": [
       "<AxesSubplot:xlabel='0', ylabel='1'>"
      ]
     },
     "execution_count": 654,
     "metadata": {},
     "output_type": "execute_result"
    },
    {
     "data": {
      "image/png": "[encoded data removed]",
      "text/plain": [
       "<Figure size 432x288 with 1 Axes>"
      ]
     },
     "metadata": {
      "needs_background": "light"
     },
     "output_type": "display_data"
    }
   ],
   "source": [
    "sns.scatterplot(x=X_train[0],y=X_train[1],hue=y_train)"
   ]
  },
  {
   "cell_type": "code",
   "execution_count": 655,
   "id": "81a5bb42",
   "metadata": {},
   "outputs": [
    {
     "data": {
      "text/plain": [
       "<AxesSubplot:xlabel='0', ylabel='1'>"
      ]
     },
     "execution_count": 655,
     "metadata": {},
     "output_type": "execute_result"
    },
    {
     "data": {
      "image/png": "[encoded data removed]",
      "text/plain": [
       "<Figure size 432x288 with 1 Axes>"
      ]
     },
     "metadata": {
      "needs_background": "light"
     },
     "output_type": "display_data"
    }
   ],
   "source": [
    "sns.scatterplot(x=X_train[0],y=X_train[1],hue=pred_)"
   ]
  },
  {
   "cell_type": "code",
   "execution_count": 656,
   "id": "8c5f034d",
   "metadata": {},
   "outputs": [
    {
     "data": {
      "text/plain": [
       "0.5"
      ]
     },
     "execution_count": 656,
     "metadata": {},
     "output_type": "execute_result"
    }
   ],
   "source": [
    "metrics.accuracy_score(y_train,pred_)"
   ]
  },
  {
   "cell_type": "code",
   "execution_count": 657,
   "id": "567086f5",
   "metadata": {},
   "outputs": [
    {
     "data": {
      "text/plain": [
       "[array([[-1.0243554 , -0.7512881 , -0.04602498],\n",
       "        [-0.53476256,  0.28137287, -0.7038643 ]], dtype=float32),\n",
       " array([-0.06093809,  0.04269677,  0.06288614], dtype=float32),\n",
       " array([[ 0.6749968 , -0.7589919 ],\n",
       "        [-0.90519214, -0.40523228],\n",
       "        [-0.5196131 , -0.12369993]], dtype=float32),\n",
       " array([-0.04486558,  0.03996726], dtype=float32),\n",
       " array([[-0.8705422],\n",
       "        [ 0.8815626]], dtype=float32),\n",
       " array([0.03768503], dtype=float32)]"
      ]
     },
     "execution_count": 657,
     "metadata": {},
     "output_type": "execute_result"
    }
   ],
   "source": [
    "model9.get_weights()"
   ]
  },
  {
   "cell_type": "code",
   "execution_count": 658,
   "id": "50e53a22",
   "metadata": {},
   "outputs": [
    {
     "data": {
      "text/plain": [
       "array([[-1.0243554 , -0.7512881 , -0.04602498],\n",
       "       [-0.53476256,  0.28137287, -0.7038643 ]], dtype=float32)"
      ]
     },
     "execution_count": 658,
     "metadata": {},
     "output_type": "execute_result"
    }
   ],
   "source": [
    "model9.get_weights()[0]"
   ]
  },
  {
   "cell_type": "code",
   "execution_count": 659,
   "id": "cd6edfba",
   "metadata": {},
   "outputs": [
    {
     "data": {
      "text/plain": [
       "(2, 3)"
      ]
     },
     "execution_count": 659,
     "metadata": {},
     "output_type": "execute_result"
    }
   ],
   "source": [
    "model9.get_weights()[0].shape"
   ]
  },
  {
   "cell_type": "code",
   "execution_count": 660,
   "id": "fae6219a",
   "metadata": {},
   "outputs": [
    {
     "data": {
      "text/plain": [
       "(1,)"
      ]
     },
     "execution_count": 660,
     "metadata": {},
     "output_type": "execute_result"
    }
   ],
   "source": [
    "model9.get_weights()[5].shape"
   ]
  },
  {
   "cell_type": "code",
   "execution_count": 661,
   "id": "118a7c15",
   "metadata": {},
   "outputs": [
    {
     "data": {
      "text/plain": [
       "array([[0., 0., 0.],\n",
       "       [0., 0., 0.]])"
      ]
     },
     "execution_count": 661,
     "metadata": {},
     "output_type": "execute_result"
    }
   ],
   "source": [
    "np.zeros(model9.get_weights()[0].shape)"
   ]
  },
  {
   "cell_type": "code",
   "execution_count": 662,
   "id": "c782966a",
   "metadata": {},
   "outputs": [],
   "source": [
    "initial_weights = model9.get_weights()"
   ]
  },
  {
   "cell_type": "code",
   "execution_count": 663,
   "id": "c2143429",
   "metadata": {},
   "outputs": [
    {
     "data": {
      "text/plain": [
       "[array([[-1.0243554 , -0.7512881 , -0.04602498],\n",
       "        [-0.53476256,  0.28137287, -0.7038643 ]], dtype=float32),\n",
       " array([-0.06093809,  0.04269677,  0.06288614], dtype=float32),\n",
       " array([[ 0.6749968 , -0.7589919 ],\n",
       "        [-0.90519214, -0.40523228],\n",
       "        [-0.5196131 , -0.12369993]], dtype=float32),\n",
       " array([-0.04486558,  0.03996726], dtype=float32),\n",
       " array([[-0.8705422],\n",
       "        [ 0.8815626]], dtype=float32),\n",
       " array([0.03768503], dtype=float32)]"
      ]
     },
     "execution_count": 663,
     "metadata": {},
     "output_type": "execute_result"
    }
   ],
   "source": [
    "initial_weights "
   ]
  },
  {
   "cell_type": "code",
   "execution_count": 664,
   "id": "cae42c4c",
   "metadata": {},
   "outputs": [],
   "source": [
    "initial_weights[0] = np.zeros(model9.get_weights()[0].shape)\n",
    "initial_weights[1] = np.zeros(model9.get_weights()[1].shape)\n",
    "initial_weights[2] = np.zeros(model9.get_weights()[2].shape)\n",
    "initial_weights[3] = np.zeros(model9.get_weights()[3].shape)\n",
    "initial_weights[4] = np.zeros(model9.get_weights()[4].shape)\n",
    "initial_weights[5] = np.zeros(model9.get_weights()[5].shape)"
   ]
  },
  {
   "cell_type": "code",
   "execution_count": 665,
   "id": "5ecae331",
   "metadata": {},
   "outputs": [],
   "source": [
    "model9.set_weights(initial_weights)"
   ]
  },
  {
   "cell_type": "code",
   "execution_count": 666,
   "id": "1d493dcb",
   "metadata": {},
   "outputs": [
    {
     "data": {
      "text/plain": [
       "[array([[0., 0., 0.],\n",
       "        [0., 0., 0.]], dtype=float32),\n",
       " array([0., 0., 0.], dtype=float32),\n",
       " array([[0., 0.],\n",
       "        [0., 0.],\n",
       "        [0., 0.]], dtype=float32),\n",
       " array([0., 0.], dtype=float32),\n",
       " array([[0.],\n",
       "        [0.]], dtype=float32),\n",
       " array([0.], dtype=float32)]"
      ]
     },
     "execution_count": 666,
     "metadata": {},
     "output_type": "execute_result"
    }
   ],
   "source": [
    "model9.get_weights()"
   ]
  },
  {
   "cell_type": "code",
   "execution_count": 667,
   "id": "3808b736",
   "metadata": {},
   "outputs": [],
   "source": [
    "model9.compile(optimizer=\"adam\",loss=\"binary_crossentropy\",metrics=['accuracy'])"
   ]
  },
  {
   "cell_type": "code",
   "execution_count": 668,
   "id": "0062bccd",
   "metadata": {},
   "outputs": [
    {
     "name": "stdout",
     "output_type": "stream",
     "text": [
      "Epoch 1/50\n",
      "28/28 [==============================] - 1s 5ms/step - loss: 0.6933 - accuracy: 0.4412 - val_loss: 0.6931 - val_accuracy: 0.5588\n",
      "Epoch 2/50\n",
      "28/28 [==============================] - 0s 2ms/step - loss: 0.6932 - accuracy: 0.4632 - val_loss: 0.6934 - val_accuracy: 0.4412\n",
      "Epoch 3/50\n",
      "28/28 [==============================] - 0s 2ms/step - loss: 0.6930 - accuracy: 0.5147 - val_loss: 0.6941 - val_accuracy: 0.4412\n",
      "Epoch 4/50\n",
      "28/28 [==============================] - 0s 2ms/step - loss: 0.6930 - accuracy: 0.5147 - val_loss: 0.6942 - val_accuracy: 0.4412\n",
      "Epoch 5/50\n",
      "28/28 [==============================] - 0s 3ms/step - loss: 0.6929 - accuracy: 0.5147 - val_loss: 0.6945 - val_accuracy: 0.4412\n",
      "Epoch 6/50\n",
      "28/28 [==============================] - 0s 2ms/step - loss: 0.6928 - accuracy: 0.5147 - val_loss: 0.6950 - val_accuracy: 0.4412\n",
      "Epoch 7/50\n",
      "28/28 [==============================] - 0s 2ms/step - loss: 0.6930 - accuracy: 0.5147 - val_loss: 0.6946 - val_accuracy: 0.4412\n",
      "Epoch 8/50\n",
      "28/28 [==============================] - 0s 2ms/step - loss: 0.6928 - accuracy: 0.5147 - val_loss: 0.6952 - val_accuracy: 0.4412\n",
      "Epoch 9/50\n",
      "28/28 [==============================] - 0s 2ms/step - loss: 0.6927 - accuracy: 0.5147 - val_loss: 0.6956 - val_accuracy: 0.4412\n",
      "Epoch 10/50\n",
      "28/28 [==============================] - 0s 2ms/step - loss: 0.6928 - accuracy: 0.5147 - val_loss: 0.6959 - val_accuracy: 0.4412\n",
      "Epoch 11/50\n",
      "28/28 [==============================] - 0s 2ms/step - loss: 0.6928 - accuracy: 0.5147 - val_loss: 0.6960 - val_accuracy: 0.4412\n",
      "Epoch 12/50\n",
      "28/28 [==============================] - 0s 2ms/step - loss: 0.6928 - accuracy: 0.5147 - val_loss: 0.6965 - val_accuracy: 0.4412\n",
      "Epoch 13/50\n",
      "28/28 [==============================] - 0s 2ms/step - loss: 0.6927 - accuracy: 0.5147 - val_loss: 0.6961 - val_accuracy: 0.4412\n",
      "Epoch 14/50\n",
      "28/28 [==============================] - 0s 2ms/step - loss: 0.6928 - accuracy: 0.5147 - val_loss: 0.6962 - val_accuracy: 0.4412\n",
      "Epoch 15/50\n",
      "28/28 [==============================] - 0s 2ms/step - loss: 0.6928 - accuracy: 0.5147 - val_loss: 0.6962 - val_accuracy: 0.4412\n",
      "Epoch 16/50\n",
      "28/28 [==============================] - 0s 2ms/step - loss: 0.6928 - accuracy: 0.5147 - val_loss: 0.6964 - val_accuracy: 0.4412\n",
      "Epoch 17/50\n",
      "28/28 [==============================] - 0s 2ms/step - loss: 0.6928 - accuracy: 0.5147 - val_loss: 0.6963 - val_accuracy: 0.4412\n",
      "Epoch 18/50\n",
      "28/28 [==============================] - 0s 2ms/step - loss: 0.6927 - accuracy: 0.5147 - val_loss: 0.6966 - val_accuracy: 0.4412\n",
      "Epoch 19/50\n",
      "28/28 [==============================] - 0s 2ms/step - loss: 0.6929 - accuracy: 0.5147 - val_loss: 0.6968 - val_accuracy: 0.4412\n",
      "Epoch 20/50\n",
      "28/28 [==============================] - 0s 2ms/step - loss: 0.6928 - accuracy: 0.5147 - val_loss: 0.6971 - val_accuracy: 0.4412\n",
      "Epoch 21/50\n",
      "28/28 [==============================] - 0s 2ms/step - loss: 0.6929 - accuracy: 0.5147 - val_loss: 0.6967 - val_accuracy: 0.4412\n",
      "Epoch 22/50\n",
      "28/28 [==============================] - 0s 2ms/step - loss: 0.6928 - accuracy: 0.5147 - val_loss: 0.6968 - val_accuracy: 0.4412\n",
      "Epoch 23/50\n",
      "28/28 [==============================] - 0s 2ms/step - loss: 0.6928 - accuracy: 0.5147 - val_loss: 0.6967 - val_accuracy: 0.4412\n",
      "Epoch 24/50\n",
      "28/28 [==============================] - 0s 2ms/step - loss: 0.6928 - accuracy: 0.5147 - val_loss: 0.6966 - val_accuracy: 0.4412\n",
      "Epoch 25/50\n",
      "28/28 [==============================] - 0s 2ms/step - loss: 0.6927 - accuracy: 0.5147 - val_loss: 0.6968 - val_accuracy: 0.4412\n",
      "Epoch 26/50\n",
      "28/28 [==============================] - 0s 2ms/step - loss: 0.6928 - accuracy: 0.5147 - val_loss: 0.6968 - val_accuracy: 0.4412\n",
      "Epoch 27/50\n",
      "28/28 [==============================] - 0s 2ms/step - loss: 0.6927 - accuracy: 0.5147 - val_loss: 0.6968 - val_accuracy: 0.4412\n",
      "Epoch 28/50\n",
      "28/28 [==============================] - 0s 2ms/step - loss: 0.6928 - accuracy: 0.5147 - val_loss: 0.6967 - val_accuracy: 0.4412\n",
      "Epoch 29/50\n",
      "28/28 [==============================] - 0s 2ms/step - loss: 0.6928 - accuracy: 0.5147 - val_loss: 0.6965 - val_accuracy: 0.4412\n",
      "Epoch 30/50\n",
      "28/28 [==============================] - 0s 2ms/step - loss: 0.6929 - accuracy: 0.5147 - val_loss: 0.6966 - val_accuracy: 0.4412\n",
      "Epoch 31/50\n",
      "28/28 [==============================] - 0s 2ms/step - loss: 0.6928 - accuracy: 0.5147 - val_loss: 0.6971 - val_accuracy: 0.4412\n",
      "Epoch 32/50\n",
      "28/28 [==============================] - 0s 2ms/step - loss: 0.6927 - accuracy: 0.5147 - val_loss: 0.6969 - val_accuracy: 0.4412\n",
      "Epoch 33/50\n",
      "28/28 [==============================] - 0s 2ms/step - loss: 0.6928 - accuracy: 0.5147 - val_loss: 0.6974 - val_accuracy: 0.4412\n",
      "Epoch 34/50\n",
      "28/28 [==============================] - 0s 2ms/step - loss: 0.6927 - accuracy: 0.5147 - val_loss: 0.6973 - val_accuracy: 0.4412\n",
      "Epoch 35/50\n",
      "28/28 [==============================] - 0s 2ms/step - loss: 0.6928 - accuracy: 0.5147 - val_loss: 0.6971 - val_accuracy: 0.4412\n",
      "Epoch 36/50\n",
      "28/28 [==============================] - 0s 2ms/step - loss: 0.6927 - accuracy: 0.5147 - val_loss: 0.6971 - val_accuracy: 0.4412\n",
      "Epoch 37/50\n",
      "28/28 [==============================] - 0s 2ms/step - loss: 0.6929 - accuracy: 0.5147 - val_loss: 0.6976 - val_accuracy: 0.4412\n",
      "Epoch 38/50\n",
      "28/28 [==============================] - 0s 2ms/step - loss: 0.6928 - accuracy: 0.5147 - val_loss: 0.6973 - val_accuracy: 0.4412\n",
      "Epoch 39/50\n",
      "28/28 [==============================] - 0s 2ms/step - loss: 0.6928 - accuracy: 0.5147 - val_loss: 0.6975 - val_accuracy: 0.4412\n",
      "Epoch 40/50\n",
      "28/28 [==============================] - 0s 2ms/step - loss: 0.6929 - accuracy: 0.5147 - val_loss: 0.6972 - val_accuracy: 0.4412\n",
      "Epoch 41/50\n",
      "28/28 [==============================] - 0s 2ms/step - loss: 0.6928 - accuracy: 0.5147 - val_loss: 0.6973 - val_accuracy: 0.4412\n",
      "Epoch 42/50\n",
      "28/28 [==============================] - 0s 2ms/step - loss: 0.6928 - accuracy: 0.5147 - val_loss: 0.6975 - val_accuracy: 0.4412\n",
      "Epoch 43/50\n",
      "28/28 [==============================] - 0s 1ms/step - loss: 0.6930 - accuracy: 0.5147 - val_loss: 0.6966 - val_accuracy: 0.4412\n",
      "Epoch 44/50\n",
      "28/28 [==============================] - 0s 2ms/step - loss: 0.6927 - accuracy: 0.5147 - val_loss: 0.6972 - val_accuracy: 0.4412\n",
      "Epoch 45/50\n",
      "28/28 [==============================] - 0s 2ms/step - loss: 0.6928 - accuracy: 0.5147 - val_loss: 0.6973 - val_accuracy: 0.4412\n",
      "Epoch 46/50\n",
      "28/28 [==============================] - 0s 2ms/step - loss: 0.6928 - accuracy: 0.5147 - val_loss: 0.6976 - val_accuracy: 0.4412\n",
      "Epoch 47/50\n",
      "28/28 [==============================] - 0s 1ms/step - loss: 0.6928 - accuracy: 0.5147 - val_loss: 0.6972 - val_accuracy: 0.4412\n",
      "Epoch 48/50\n",
      "28/28 [==============================] - 0s 2ms/step - loss: 0.6928 - accuracy: 0.5147 - val_loss: 0.6972 - val_accuracy: 0.4412\n",
      "Epoch 49/50\n",
      "28/28 [==============================] - 0s 2ms/step - loss: 0.6928 - accuracy: 0.5147 - val_loss: 0.6976 - val_accuracy: 0.4412\n",
      "Epoch 50/50\n",
      "28/28 [==============================] - 0s 2ms/step - loss: 0.6929 - accuracy: 0.5147 - val_loss: 0.6974 - val_accuracy: 0.4412\n"
     ]
    }
   ],
   "source": [
    "save_=model9.fit(X_train,y_train,batch_size=10,epochs=50,verbose=1,validation_split=0.2)"
   ]
  },
  {
   "cell_type": "code",
   "execution_count": 669,
   "id": "b8c8f4d1",
   "metadata": {},
   "outputs": [
    {
     "data": {
      "text/plain": [
       "[array([[-0.0471206 , -0.04712057, -0.04712057],\n",
       "        [-0.09126054, -0.09126052, -0.09126052]], dtype=float32),\n",
       " array([-0.09281357, -0.09281361, -0.09281361], dtype=float32),\n",
       " array([[0.00245235, 0.00245235],\n",
       "        [0.00245234, 0.00245234],\n",
       "        [0.00245234, 0.00245234]], dtype=float32),\n",
       " array([0.00239022, 0.00239022], dtype=float32),\n",
       " array([[0.03178186],\n",
       "        [0.03178186]], dtype=float32),\n",
       " array([0.03226541], dtype=float32)]"
      ]
     },
     "execution_count": 669,
     "metadata": {},
     "output_type": "execute_result"
    }
   ],
   "source": [
    "model9.get_weights()"
   ]
  },
  {
   "cell_type": "code",
   "execution_count": 670,
   "id": "15393187",
   "metadata": {},
   "outputs": [],
   "source": [
    "from mlxtend.plotting import plot_decision_regions"
   ]
  },
  {
   "cell_type": "code",
   "execution_count": 671,
   "id": "c08891e5",
   "metadata": {},
   "outputs": [
    {
     "name": "stdout",
     "output_type": "stream",
     "text": [
      "3888/3888 [==============================] - 2s 496us/step\n"
     ]
    },
    {
     "name": "stderr",
     "output_type": "stream",
     "text": [
      "C:\\Users\\harsh\\anaconda3\\lib\\site-packages\\mlxtend\\plotting\\decision_regions.py:269: UserWarning: No contour levels were found within the data range.\n",
      "  ax.contour(xx, yy, Z, cset.levels, **contour_kwargs)\n"
     ]
    },
    {
     "data": {
      "text/plain": [
       "<AxesSubplot:>"
      ]
     },
     "execution_count": 671,
     "metadata": {},
     "output_type": "execute_result"
    },
    {
     "data": {
      "image/png": "[encoded data removed]",
      "text/plain": [
       "<Figure size 432x288 with 1 Axes>"
      ]
     },
     "metadata": {
      "needs_background": "light"
     },
     "output_type": "display_data"
    }
   ],
   "source": [
    "plot_decision_regions(X_train[[0,1]].values,y_train.values.astype(int),clf=model9)"
   ]
  },
  {
   "cell_type": "markdown",
   "id": "f7eade5a",
   "metadata": {},
   "source": [
    "#### Using batch normalization and weights initialization"
   ]
  },
  {
   "cell_type": "code",
   "execution_count": 586,
   "id": "cffcbf71",
   "metadata": {},
   "outputs": [],
   "source": [
    "import tensorflow\n",
    "import tensorflow.keras\n",
    "from tensorflow.keras import Sequential\n",
    "from tensorflow.keras.layers import Dense\n",
    "model9_=Sequential()"
   ]
  },
  {
   "cell_type": "code",
   "execution_count": 590,
   "id": "eab8763d",
   "metadata": {},
   "outputs": [],
   "source": [
    "model9_.add(Dense(5,activation=\"relu\",input_dim=2, kernel_initializer='glorot_normal'))\n",
    "model9_.add(Dense(4,activation=\"relu\", kernel_initializer='glorot_normal'))\n",
    "model9_.add(Dense(3,activation=\"relu\", kernel_initializer='glorot_normal'))\n",
    "model9_.add(Dense(2,activation=\"relu\", kernel_initializer='glorot_normal'))\n",
    "model9_.add(BatchNormalization())\n",
    "model9_.add(Dense(1,activation=\"sigmoid\"))"
   ]
  },
  {
   "cell_type": "code",
   "execution_count": 591,
   "id": "1d96ea0c",
   "metadata": {},
   "outputs": [],
   "source": [
    "model9_.compile(optimizer=\"adam\",loss=\"binary_crossentropy\",metrics=['accuracy'])"
   ]
  },
  {
   "cell_type": "code",
   "execution_count": 592,
   "id": "c76caa1e",
   "metadata": {},
   "outputs": [
    {
     "name": "stdout",
     "output_type": "stream",
     "text": [
      "Epoch 1/300\n",
      "28/28 [==============================] - 1s 6ms/step - loss: 0.7396 - accuracy: 0.5037 - val_loss: 0.6911 - val_accuracy: 0.5882\n",
      "Epoch 2/300\n",
      "28/28 [==============================] - 0s 2ms/step - loss: 0.7230 - accuracy: 0.5000 - val_loss: 0.6923 - val_accuracy: 0.5441\n",
      "Epoch 3/300\n",
      "28/28 [==============================] - 0s 3ms/step - loss: 0.7085 - accuracy: 0.4963 - val_loss: 0.6942 - val_accuracy: 0.4853\n",
      "Epoch 4/300\n",
      "28/28 [==============================] - 0s 2ms/step - loss: 0.7056 - accuracy: 0.5257 - val_loss: 0.6964 - val_accuracy: 0.4265\n",
      "Epoch 5/300\n",
      "28/28 [==============================] - 0s 2ms/step - loss: 0.6991 - accuracy: 0.4853 - val_loss: 0.6980 - val_accuracy: 0.4412\n",
      "Epoch 6/300\n",
      "28/28 [==============================] - 0s 2ms/step - loss: 0.6968 - accuracy: 0.5110 - val_loss: 0.6990 - val_accuracy: 0.4118\n",
      "Epoch 7/300\n",
      "28/28 [==============================] - 0s 2ms/step - loss: 0.6908 - accuracy: 0.5147 - val_loss: 0.6992 - val_accuracy: 0.4265\n",
      "Epoch 8/300\n",
      "28/28 [==============================] - 0s 2ms/step - loss: 0.6968 - accuracy: 0.4743 - val_loss: 0.6992 - val_accuracy: 0.4118\n",
      "Epoch 9/300\n",
      "28/28 [==============================] - 0s 2ms/step - loss: 0.6964 - accuracy: 0.4926 - val_loss: 0.7004 - val_accuracy: 0.4118\n",
      "Epoch 10/300\n",
      "28/28 [==============================] - 0s 2ms/step - loss: 0.6974 - accuracy: 0.4926 - val_loss: 0.7002 - val_accuracy: 0.4118\n",
      "Epoch 11/300\n",
      "28/28 [==============================] - 0s 2ms/step - loss: 0.6912 - accuracy: 0.5294 - val_loss: 0.7003 - val_accuracy: 0.4118\n",
      "Epoch 12/300\n",
      "28/28 [==============================] - 0s 2ms/step - loss: 0.6915 - accuracy: 0.5515 - val_loss: 0.7027 - val_accuracy: 0.4118\n",
      "Epoch 13/300\n",
      "28/28 [==============================] - 0s 2ms/step - loss: 0.6965 - accuracy: 0.4926 - val_loss: 0.7033 - val_accuracy: 0.4118\n",
      "Epoch 14/300\n",
      "28/28 [==============================] - 0s 2ms/step - loss: 0.6924 - accuracy: 0.5037 - val_loss: 0.7037 - val_accuracy: 0.4118\n",
      "Epoch 15/300\n",
      "28/28 [==============================] - 0s 2ms/step - loss: 0.6952 - accuracy: 0.5184 - val_loss: 0.7013 - val_accuracy: 0.4412\n",
      "Epoch 16/300\n",
      "28/28 [==============================] - 0s 2ms/step - loss: 0.6934 - accuracy: 0.4963 - val_loss: 0.7007 - val_accuracy: 0.4412\n",
      "Epoch 17/300\n",
      "28/28 [==============================] - 0s 2ms/step - loss: 0.6909 - accuracy: 0.5294 - val_loss: 0.7019 - val_accuracy: 0.4412\n",
      "Epoch 18/300\n",
      "28/28 [==============================] - 0s 2ms/step - loss: 0.6922 - accuracy: 0.5110 - val_loss: 0.7023 - val_accuracy: 0.4265\n",
      "Epoch 19/300\n",
      "28/28 [==============================] - 0s 2ms/step - loss: 0.6915 - accuracy: 0.5074 - val_loss: 0.6998 - val_accuracy: 0.4559\n",
      "Epoch 20/300\n",
      "28/28 [==============================] - 0s 2ms/step - loss: 0.6906 - accuracy: 0.5478 - val_loss: 0.7007 - val_accuracy: 0.4412\n",
      "Epoch 21/300\n",
      "28/28 [==============================] - 0s 2ms/step - loss: 0.6887 - accuracy: 0.5368 - val_loss: 0.7003 - val_accuracy: 0.4706\n",
      "Epoch 22/300\n",
      "28/28 [==============================] - 0s 2ms/step - loss: 0.6912 - accuracy: 0.5110 - val_loss: 0.6983 - val_accuracy: 0.5147\n",
      "Epoch 23/300\n",
      "28/28 [==============================] - 0s 2ms/step - loss: 0.6908 - accuracy: 0.4853 - val_loss: 0.6952 - val_accuracy: 0.5735\n",
      "Epoch 24/300\n",
      "28/28 [==============================] - 0s 2ms/step - loss: 0.6897 - accuracy: 0.5368 - val_loss: 0.6865 - val_accuracy: 0.5147\n",
      "Epoch 25/300\n",
      "28/28 [==============================] - 0s 2ms/step - loss: 0.6890 - accuracy: 0.5441 - val_loss: 0.6890 - val_accuracy: 0.5441\n",
      "Epoch 26/300\n",
      "28/28 [==============================] - 0s 2ms/step - loss: 0.6913 - accuracy: 0.5074 - val_loss: 0.6916 - val_accuracy: 0.5882\n",
      "Epoch 27/300\n",
      "28/28 [==============================] - 0s 2ms/step - loss: 0.6915 - accuracy: 0.5257 - val_loss: 0.6898 - val_accuracy: 0.5882\n",
      "Epoch 28/300\n",
      "28/28 [==============================] - 0s 2ms/step - loss: 0.6917 - accuracy: 0.5037 - val_loss: 0.6971 - val_accuracy: 0.5588\n",
      "Epoch 29/300\n",
      "28/28 [==============================] - 0s 2ms/step - loss: 0.6888 - accuracy: 0.5184 - val_loss: 0.7009 - val_accuracy: 0.5441\n",
      "Epoch 30/300\n",
      "28/28 [==============================] - 0s 3ms/step - loss: 0.6905 - accuracy: 0.5404 - val_loss: 0.6941 - val_accuracy: 0.5882\n",
      "Epoch 31/300\n",
      "28/28 [==============================] - 0s 2ms/step - loss: 0.6890 - accuracy: 0.5404 - val_loss: 0.7007 - val_accuracy: 0.5294\n",
      "Epoch 32/300\n",
      "28/28 [==============================] - 0s 2ms/step - loss: 0.6902 - accuracy: 0.4963 - val_loss: 0.6958 - val_accuracy: 0.5441\n",
      "Epoch 33/300\n",
      "28/28 [==============================] - 0s 2ms/step - loss: 0.6907 - accuracy: 0.5294 - val_loss: 0.6971 - val_accuracy: 0.5735\n",
      "Epoch 34/300\n",
      "28/28 [==============================] - 0s 2ms/step - loss: 0.6914 - accuracy: 0.5000 - val_loss: 0.7013 - val_accuracy: 0.5441\n",
      "Epoch 35/300\n",
      "28/28 [==============================] - 0s 2ms/step - loss: 0.6911 - accuracy: 0.5221 - val_loss: 0.7029 - val_accuracy: 0.5147\n",
      "Epoch 36/300\n",
      "28/28 [==============================] - 0s 2ms/step - loss: 0.6857 - accuracy: 0.5368 - val_loss: 0.6976 - val_accuracy: 0.5735\n",
      "Epoch 37/300\n",
      "28/28 [==============================] - 0s 2ms/step - loss: 0.6877 - accuracy: 0.5515 - val_loss: 0.6944 - val_accuracy: 0.5882\n",
      "Epoch 38/300\n",
      "28/28 [==============================] - 0s 2ms/step - loss: 0.6904 - accuracy: 0.4890 - val_loss: 0.6952 - val_accuracy: 0.5735\n",
      "Epoch 39/300\n",
      "28/28 [==============================] - 0s 2ms/step - loss: 0.6907 - accuracy: 0.5331 - val_loss: 0.7052 - val_accuracy: 0.5147\n",
      "Epoch 40/300\n",
      "28/28 [==============================] - 0s 1ms/step - loss: 0.6914 - accuracy: 0.5147 - val_loss: 0.7044 - val_accuracy: 0.5000\n",
      "Epoch 41/300\n",
      "28/28 [==============================] - 0s 2ms/step - loss: 0.6909 - accuracy: 0.5184 - val_loss: 0.7061 - val_accuracy: 0.4853\n",
      "Epoch 42/300\n",
      "28/28 [==============================] - 0s 2ms/step - loss: 0.6920 - accuracy: 0.5331 - val_loss: 0.7011 - val_accuracy: 0.5441\n",
      "Epoch 43/300\n",
      "28/28 [==============================] - 0s 2ms/step - loss: 0.6908 - accuracy: 0.5074 - val_loss: 0.6974 - val_accuracy: 0.5588\n",
      "Epoch 44/300\n",
      "28/28 [==============================] - 0s 2ms/step - loss: 0.6895 - accuracy: 0.5331 - val_loss: 0.7066 - val_accuracy: 0.5294\n",
      "Epoch 45/300\n",
      "28/28 [==============================] - 0s 2ms/step - loss: 0.6911 - accuracy: 0.5147 - val_loss: 0.7135 - val_accuracy: 0.4412\n",
      "Epoch 46/300\n",
      "28/28 [==============================] - 0s 2ms/step - loss: 0.6920 - accuracy: 0.5074 - val_loss: 0.7156 - val_accuracy: 0.4559\n",
      "Epoch 47/300\n",
      "28/28 [==============================] - 0s 2ms/step - loss: 0.6903 - accuracy: 0.5257 - val_loss: 0.7057 - val_accuracy: 0.5294\n",
      "Epoch 48/300\n",
      "28/28 [==============================] - 0s 1ms/step - loss: 0.6929 - accuracy: 0.5257 - val_loss: 0.7036 - val_accuracy: 0.5441\n",
      "Epoch 49/300\n",
      "28/28 [==============================] - 0s 2ms/step - loss: 0.6893 - accuracy: 0.5184 - val_loss: 0.6915 - val_accuracy: 0.6029\n",
      "Epoch 50/300\n",
      "28/28 [==============================] - 0s 2ms/step - loss: 0.6891 - accuracy: 0.4963 - val_loss: 0.6928 - val_accuracy: 0.5441\n",
      "Epoch 51/300\n",
      "28/28 [==============================] - 0s 2ms/step - loss: 0.6911 - accuracy: 0.4669 - val_loss: 0.7089 - val_accuracy: 0.4706\n",
      "Epoch 52/300\n",
      "28/28 [==============================] - 0s 2ms/step - loss: 0.6883 - accuracy: 0.5331 - val_loss: 0.7072 - val_accuracy: 0.4853\n",
      "Epoch 53/300\n",
      "28/28 [==============================] - 0s 2ms/step - loss: 0.6919 - accuracy: 0.5184 - val_loss: 0.6841 - val_accuracy: 0.5294\n",
      "Epoch 54/300\n",
      "28/28 [==============================] - 0s 2ms/step - loss: 0.6898 - accuracy: 0.5184 - val_loss: 0.6844 - val_accuracy: 0.5147\n",
      "Epoch 55/300\n",
      "28/28 [==============================] - 0s 1ms/step - loss: 0.6888 - accuracy: 0.5331 - val_loss: 0.6910 - val_accuracy: 0.4706\n",
      "Epoch 56/300\n",
      "28/28 [==============================] - 0s 2ms/step - loss: 0.6883 - accuracy: 0.5441 - val_loss: 0.6929 - val_accuracy: 0.5735\n",
      "Epoch 57/300\n",
      "28/28 [==============================] - 0s 2ms/step - loss: 0.6889 - accuracy: 0.5184 - val_loss: 0.6975 - val_accuracy: 0.5735\n",
      "Epoch 58/300\n",
      "28/28 [==============================] - 0s 2ms/step - loss: 0.6903 - accuracy: 0.5074 - val_loss: 0.6977 - val_accuracy: 0.5441\n"
     ]
    },
    {
     "name": "stdout",
     "output_type": "stream",
     "text": [
      "Epoch 59/300\n",
      "28/28 [==============================] - 0s 2ms/step - loss: 0.6900 - accuracy: 0.5368 - val_loss: 0.6971 - val_accuracy: 0.5882\n",
      "Epoch 60/300\n",
      "28/28 [==============================] - 0s 2ms/step - loss: 0.6887 - accuracy: 0.5184 - val_loss: 0.6964 - val_accuracy: 0.5735\n",
      "Epoch 61/300\n",
      "28/28 [==============================] - 0s 2ms/step - loss: 0.6928 - accuracy: 0.5074 - val_loss: 0.6957 - val_accuracy: 0.5588\n",
      "Epoch 62/300\n",
      "28/28 [==============================] - 0s 2ms/step - loss: 0.6891 - accuracy: 0.5184 - val_loss: 0.6968 - val_accuracy: 0.5588\n",
      "Epoch 63/300\n",
      "28/28 [==============================] - 0s 2ms/step - loss: 0.6899 - accuracy: 0.5551 - val_loss: 0.7077 - val_accuracy: 0.4412\n",
      "Epoch 64/300\n",
      "28/28 [==============================] - 0s 2ms/step - loss: 0.6939 - accuracy: 0.5294 - val_loss: 0.7095 - val_accuracy: 0.5000\n",
      "Epoch 65/300\n",
      "28/28 [==============================] - 0s 2ms/step - loss: 0.6900 - accuracy: 0.5441 - val_loss: 0.7096 - val_accuracy: 0.5000\n",
      "Epoch 66/300\n",
      "28/28 [==============================] - 0s 2ms/step - loss: 0.6914 - accuracy: 0.5441 - val_loss: 0.7099 - val_accuracy: 0.5000\n",
      "Epoch 67/300\n",
      "28/28 [==============================] - 0s 2ms/step - loss: 0.6916 - accuracy: 0.5404 - val_loss: 0.7070 - val_accuracy: 0.4706\n",
      "Epoch 68/300\n",
      "28/28 [==============================] - 0s 1ms/step - loss: 0.6930 - accuracy: 0.4853 - val_loss: 0.7031 - val_accuracy: 0.5147\n",
      "Epoch 69/300\n",
      "28/28 [==============================] - 0s 2ms/step - loss: 0.6900 - accuracy: 0.5184 - val_loss: 0.7024 - val_accuracy: 0.5147\n",
      "Epoch 70/300\n",
      "28/28 [==============================] - 0s 2ms/step - loss: 0.6914 - accuracy: 0.5184 - val_loss: 0.7017 - val_accuracy: 0.5294\n",
      "Epoch 71/300\n",
      "28/28 [==============================] - 0s 2ms/step - loss: 0.6892 - accuracy: 0.5147 - val_loss: 0.6993 - val_accuracy: 0.5441\n",
      "Epoch 72/300\n",
      "28/28 [==============================] - 0s 2ms/step - loss: 0.6900 - accuracy: 0.5257 - val_loss: 0.6974 - val_accuracy: 0.5735\n",
      "Epoch 73/300\n",
      "28/28 [==============================] - 0s 1ms/step - loss: 0.6883 - accuracy: 0.5515 - val_loss: 0.6989 - val_accuracy: 0.5588\n",
      "Epoch 74/300\n",
      "28/28 [==============================] - 0s 2ms/step - loss: 0.6905 - accuracy: 0.5147 - val_loss: 0.6942 - val_accuracy: 0.5441\n",
      "Epoch 75/300\n",
      "28/28 [==============================] - 0s 2ms/step - loss: 0.6897 - accuracy: 0.5331 - val_loss: 0.6969 - val_accuracy: 0.5588\n",
      "Epoch 76/300\n",
      "28/28 [==============================] - 0s 2ms/step - loss: 0.6885 - accuracy: 0.5147 - val_loss: 0.6951 - val_accuracy: 0.5441\n",
      "Epoch 77/300\n",
      "28/28 [==============================] - 0s 1ms/step - loss: 0.6882 - accuracy: 0.5257 - val_loss: 0.6961 - val_accuracy: 0.5735\n",
      "Epoch 78/300\n",
      "28/28 [==============================] - 0s 2ms/step - loss: 0.6910 - accuracy: 0.5110 - val_loss: 0.6945 - val_accuracy: 0.5735\n",
      "Epoch 79/300\n",
      "28/28 [==============================] - 0s 2ms/step - loss: 0.6898 - accuracy: 0.5147 - val_loss: 0.7023 - val_accuracy: 0.4853\n",
      "Epoch 80/300\n",
      "28/28 [==============================] - 0s 2ms/step - loss: 0.6897 - accuracy: 0.5294 - val_loss: 0.7020 - val_accuracy: 0.5294\n",
      "Epoch 81/300\n",
      "28/28 [==============================] - 0s 2ms/step - loss: 0.6919 - accuracy: 0.5184 - val_loss: 0.7020 - val_accuracy: 0.5294\n",
      "Epoch 82/300\n",
      "28/28 [==============================] - 0s 2ms/step - loss: 0.6888 - accuracy: 0.5368 - val_loss: 0.6954 - val_accuracy: 0.5441\n",
      "Epoch 83/300\n",
      "28/28 [==============================] - 0s 2ms/step - loss: 0.6900 - accuracy: 0.5478 - val_loss: 0.6954 - val_accuracy: 0.5735\n",
      "Epoch 84/300\n",
      "28/28 [==============================] - 0s 2ms/step - loss: 0.6910 - accuracy: 0.5000 - val_loss: 0.6996 - val_accuracy: 0.5588\n",
      "Epoch 85/300\n",
      "28/28 [==============================] - 0s 2ms/step - loss: 0.6924 - accuracy: 0.5147 - val_loss: 0.7017 - val_accuracy: 0.5000\n",
      "Epoch 86/300\n",
      "28/28 [==============================] - 0s 2ms/step - loss: 0.6900 - accuracy: 0.5331 - val_loss: 0.7001 - val_accuracy: 0.5441\n",
      "Epoch 87/300\n",
      "28/28 [==============================] - 0s 1ms/step - loss: 0.6907 - accuracy: 0.5184 - val_loss: 0.7012 - val_accuracy: 0.5294\n",
      "Epoch 88/300\n",
      "28/28 [==============================] - 0s 2ms/step - loss: 0.6900 - accuracy: 0.5478 - val_loss: 0.6983 - val_accuracy: 0.5441\n",
      "Epoch 89/300\n",
      "28/28 [==============================] - 0s 2ms/step - loss: 0.6900 - accuracy: 0.5184 - val_loss: 0.7010 - val_accuracy: 0.5441\n",
      "Epoch 90/300\n",
      "28/28 [==============================] - 0s 2ms/step - loss: 0.6901 - accuracy: 0.5368 - val_loss: 0.6995 - val_accuracy: 0.5735\n",
      "Epoch 91/300\n",
      "28/28 [==============================] - 0s 2ms/step - loss: 0.6901 - accuracy: 0.5368 - val_loss: 0.7022 - val_accuracy: 0.5000\n",
      "Epoch 92/300\n",
      "28/28 [==============================] - 0s 2ms/step - loss: 0.6902 - accuracy: 0.5294 - val_loss: 0.6977 - val_accuracy: 0.5294\n",
      "Epoch 93/300\n",
      "28/28 [==============================] - 0s 2ms/step - loss: 0.6907 - accuracy: 0.4963 - val_loss: 0.7022 - val_accuracy: 0.5294\n",
      "Epoch 94/300\n",
      "28/28 [==============================] - 0s 2ms/step - loss: 0.6900 - accuracy: 0.5147 - val_loss: 0.6983 - val_accuracy: 0.5441\n",
      "Epoch 95/300\n",
      "28/28 [==============================] - 0s 2ms/step - loss: 0.6909 - accuracy: 0.5184 - val_loss: 0.7024 - val_accuracy: 0.5147\n",
      "Epoch 96/300\n",
      "28/28 [==============================] - 0s 2ms/step - loss: 0.6902 - accuracy: 0.5551 - val_loss: 0.6967 - val_accuracy: 0.5147\n",
      "Epoch 97/300\n",
      "28/28 [==============================] - 0s 2ms/step - loss: 0.6897 - accuracy: 0.5037 - val_loss: 0.7012 - val_accuracy: 0.5441\n",
      "Epoch 98/300\n",
      "28/28 [==============================] - 0s 2ms/step - loss: 0.6915 - accuracy: 0.4890 - val_loss: 0.6995 - val_accuracy: 0.5441\n",
      "Epoch 99/300\n",
      "28/28 [==============================] - 0s 2ms/step - loss: 0.6895 - accuracy: 0.5368 - val_loss: 0.6994 - val_accuracy: 0.5441\n",
      "Epoch 100/300\n",
      "28/28 [==============================] - 0s 2ms/step - loss: 0.6903 - accuracy: 0.5184 - val_loss: 0.7019 - val_accuracy: 0.5294\n",
      "Epoch 101/300\n",
      "28/28 [==============================] - 0s 2ms/step - loss: 0.6905 - accuracy: 0.5147 - val_loss: 0.7039 - val_accuracy: 0.5294\n",
      "Epoch 102/300\n",
      "28/28 [==============================] - 0s 2ms/step - loss: 0.6874 - accuracy: 0.5515 - val_loss: 0.7033 - val_accuracy: 0.5441\n",
      "Epoch 103/300\n",
      "28/28 [==============================] - 0s 2ms/step - loss: 0.6879 - accuracy: 0.5588 - val_loss: 0.6979 - val_accuracy: 0.5441\n",
      "Epoch 104/300\n",
      "28/28 [==============================] - 0s 2ms/step - loss: 0.6881 - accuracy: 0.5221 - val_loss: 0.7013 - val_accuracy: 0.5294\n",
      "Epoch 105/300\n",
      "28/28 [==============================] - 0s 2ms/step - loss: 0.6906 - accuracy: 0.5404 - val_loss: 0.7057 - val_accuracy: 0.5147\n",
      "Epoch 106/300\n",
      "28/28 [==============================] - 0s 2ms/step - loss: 0.6926 - accuracy: 0.5110 - val_loss: 0.7069 - val_accuracy: 0.5147\n",
      "Epoch 107/300\n",
      "28/28 [==============================] - 0s 2ms/step - loss: 0.6889 - accuracy: 0.5331 - val_loss: 0.7065 - val_accuracy: 0.5000\n",
      "Epoch 108/300\n",
      "28/28 [==============================] - 0s 2ms/step - loss: 0.6899 - accuracy: 0.5257 - val_loss: 0.7039 - val_accuracy: 0.5000\n",
      "Epoch 109/300\n",
      "28/28 [==============================] - 0s 2ms/step - loss: 0.6915 - accuracy: 0.5147 - val_loss: 0.7032 - val_accuracy: 0.4853\n",
      "Epoch 110/300\n",
      "28/28 [==============================] - 0s 2ms/step - loss: 0.6900 - accuracy: 0.5515 - val_loss: 0.6994 - val_accuracy: 0.5000\n",
      "Epoch 111/300\n",
      "28/28 [==============================] - 0s 2ms/step - loss: 0.6912 - accuracy: 0.5257 - val_loss: 0.7045 - val_accuracy: 0.5000\n",
      "Epoch 112/300\n",
      "28/28 [==============================] - 0s 2ms/step - loss: 0.6885 - accuracy: 0.5478 - val_loss: 0.7023 - val_accuracy: 0.5000\n",
      "Epoch 113/300\n",
      "28/28 [==============================] - 0s 2ms/step - loss: 0.6897 - accuracy: 0.5184 - val_loss: 0.6958 - val_accuracy: 0.5294\n",
      "Epoch 114/300\n",
      "28/28 [==============================] - 0s 2ms/step - loss: 0.6914 - accuracy: 0.5184 - val_loss: 0.6996 - val_accuracy: 0.5588\n",
      "Epoch 115/300\n",
      "28/28 [==============================] - 0s 2ms/step - loss: 0.6884 - accuracy: 0.5331 - val_loss: 0.6975 - val_accuracy: 0.5441\n",
      "Epoch 116/300\n",
      "28/28 [==============================] - 0s 2ms/step - loss: 0.6882 - accuracy: 0.5588 - val_loss: 0.6967 - val_accuracy: 0.5294\n",
      "Epoch 117/300\n",
      "28/28 [==============================] - 0s 2ms/step - loss: 0.6911 - accuracy: 0.5147 - val_loss: 0.6918 - val_accuracy: 0.5147\n",
      "Epoch 118/300\n",
      "28/28 [==============================] - 0s 2ms/step - loss: 0.6915 - accuracy: 0.5294 - val_loss: 0.7041 - val_accuracy: 0.5000\n",
      "Epoch 119/300\n",
      "28/28 [==============================] - 0s 2ms/step - loss: 0.6881 - accuracy: 0.5662 - val_loss: 0.7019 - val_accuracy: 0.5000\n",
      "Epoch 120/300\n",
      "28/28 [==============================] - 0s 2ms/step - loss: 0.6901 - accuracy: 0.5294 - val_loss: 0.7023 - val_accuracy: 0.5441\n",
      "Epoch 121/300\n",
      "28/28 [==============================] - 0s 2ms/step - loss: 0.6895 - accuracy: 0.5257 - val_loss: 0.6981 - val_accuracy: 0.5000\n",
      "Epoch 122/300\n",
      "28/28 [==============================] - 0s 2ms/step - loss: 0.6922 - accuracy: 0.5074 - val_loss: 0.6966 - val_accuracy: 0.5000\n",
      "Epoch 123/300\n",
      "28/28 [==============================] - 0s 2ms/step - loss: 0.6896 - accuracy: 0.5294 - val_loss: 0.6937 - val_accuracy: 0.5147\n",
      "Epoch 124/300\n",
      "28/28 [==============================] - 0s 2ms/step - loss: 0.6885 - accuracy: 0.5368 - val_loss: 0.6993 - val_accuracy: 0.5147\n",
      "Epoch 125/300\n",
      "28/28 [==============================] - 0s 2ms/step - loss: 0.6890 - accuracy: 0.5221 - val_loss: 0.6936 - val_accuracy: 0.5000\n",
      "Epoch 126/300\n",
      "28/28 [==============================] - 0s 2ms/step - loss: 0.6904 - accuracy: 0.5368 - val_loss: 0.6959 - val_accuracy: 0.5294\n",
      "Epoch 127/300\n",
      "28/28 [==============================] - 0s 2ms/step - loss: 0.6917 - accuracy: 0.5331 - val_loss: 0.6967 - val_accuracy: 0.5588\n",
      "Epoch 128/300\n",
      "28/28 [==============================] - 0s 2ms/step - loss: 0.6867 - accuracy: 0.5588 - val_loss: 0.6939 - val_accuracy: 0.5147\n",
      "Epoch 129/300\n",
      "28/28 [==============================] - 0s 2ms/step - loss: 0.6865 - accuracy: 0.5331 - val_loss: 0.6940 - val_accuracy: 0.5294\n",
      "Epoch 130/300\n",
      "28/28 [==============================] - 0s 2ms/step - loss: 0.6890 - accuracy: 0.5110 - val_loss: 0.6973 - val_accuracy: 0.5147\n",
      "Epoch 131/300\n",
      "28/28 [==============================] - 0s 2ms/step - loss: 0.6896 - accuracy: 0.5441 - val_loss: 0.6928 - val_accuracy: 0.5147\n",
      "Epoch 132/300\n",
      "28/28 [==============================] - 0s 2ms/step - loss: 0.6895 - accuracy: 0.5221 - val_loss: 0.6940 - val_accuracy: 0.5588\n",
      "Epoch 133/300\n",
      "28/28 [==============================] - 0s 2ms/step - loss: 0.6876 - accuracy: 0.5368 - val_loss: 0.6949 - val_accuracy: 0.5735\n",
      "Epoch 134/300\n",
      "28/28 [==============================] - 0s 2ms/step - loss: 0.6897 - accuracy: 0.5147 - val_loss: 0.6926 - val_accuracy: 0.5147\n",
      "Epoch 135/300\n",
      "28/28 [==============================] - 0s 2ms/step - loss: 0.6901 - accuracy: 0.5000 - val_loss: 0.6963 - val_accuracy: 0.5588\n",
      "Epoch 136/300\n",
      "28/28 [==============================] - 0s 2ms/step - loss: 0.6889 - accuracy: 0.5551 - val_loss: 0.6987 - val_accuracy: 0.5588\n",
      "Epoch 137/300\n",
      "28/28 [==============================] - 0s 2ms/step - loss: 0.6891 - accuracy: 0.5368 - val_loss: 0.6970 - val_accuracy: 0.5588\n",
      "Epoch 138/300\n",
      "28/28 [==============================] - 0s 2ms/step - loss: 0.6901 - accuracy: 0.5368 - val_loss: 0.7057 - val_accuracy: 0.5147\n",
      "Epoch 139/300\n",
      "28/28 [==============================] - 0s 2ms/step - loss: 0.6861 - accuracy: 0.5331 - val_loss: 0.6985 - val_accuracy: 0.5441\n",
      "Epoch 140/300\n",
      "28/28 [==============================] - 0s 3ms/step - loss: 0.6895 - accuracy: 0.5000 - val_loss: 0.6971 - val_accuracy: 0.5441\n",
      "Epoch 141/300\n",
      "28/28 [==============================] - 0s 2ms/step - loss: 0.6885 - accuracy: 0.5257 - val_loss: 0.7048 - val_accuracy: 0.4853\n",
      "Epoch 142/300\n",
      "28/28 [==============================] - 0s 2ms/step - loss: 0.6893 - accuracy: 0.5257 - val_loss: 0.7065 - val_accuracy: 0.5147\n",
      "Epoch 143/300\n",
      "28/28 [==============================] - 0s 2ms/step - loss: 0.6887 - accuracy: 0.5368 - val_loss: 0.7044 - val_accuracy: 0.5147\n",
      "Epoch 144/300\n",
      "28/28 [==============================] - 0s 2ms/step - loss: 0.6882 - accuracy: 0.5294 - val_loss: 0.6992 - val_accuracy: 0.5147\n",
      "Epoch 145/300\n",
      "28/28 [==============================] - 0s 2ms/step - loss: 0.6898 - accuracy: 0.5441 - val_loss: 0.7009 - val_accuracy: 0.5441\n",
      "Epoch 146/300\n",
      "28/28 [==============================] - 0s 2ms/step - loss: 0.6913 - accuracy: 0.5294 - val_loss: 0.7054 - val_accuracy: 0.5294\n",
      "Epoch 147/300\n",
      "28/28 [==============================] - 0s 2ms/step - loss: 0.6914 - accuracy: 0.5257 - val_loss: 0.7031 - val_accuracy: 0.5000\n",
      "Epoch 148/300\n",
      "28/28 [==============================] - 0s 3ms/step - loss: 0.6900 - accuracy: 0.5294 - val_loss: 0.7024 - val_accuracy: 0.5441\n",
      "Epoch 149/300\n",
      "28/28 [==============================] - 0s 2ms/step - loss: 0.6874 - accuracy: 0.5404 - val_loss: 0.6894 - val_accuracy: 0.5294\n",
      "Epoch 150/300\n",
      "28/28 [==============================] - 0s 2ms/step - loss: 0.6872 - accuracy: 0.5294 - val_loss: 0.6882 - val_accuracy: 0.5294\n",
      "Epoch 151/300\n",
      "28/28 [==============================] - 0s 2ms/step - loss: 0.6878 - accuracy: 0.5331 - val_loss: 0.6906 - val_accuracy: 0.5588\n",
      "Epoch 152/300\n",
      "28/28 [==============================] - 0s 2ms/step - loss: 0.6955 - accuracy: 0.5110 - val_loss: 0.6786 - val_accuracy: 0.5588\n",
      "Epoch 153/300\n",
      "28/28 [==============================] - 0s 2ms/step - loss: 0.6892 - accuracy: 0.5478 - val_loss: 0.7030 - val_accuracy: 0.4118\n",
      "Epoch 154/300\n",
      "28/28 [==============================] - 0s 2ms/step - loss: 0.6915 - accuracy: 0.5184 - val_loss: 0.7065 - val_accuracy: 0.4559\n",
      "Epoch 155/300\n",
      "28/28 [==============================] - 0s 2ms/step - loss: 0.6880 - accuracy: 0.5515 - val_loss: 0.7014 - val_accuracy: 0.5588\n",
      "Epoch 156/300\n",
      "28/28 [==============================] - 0s 2ms/step - loss: 0.6907 - accuracy: 0.5221 - val_loss: 0.6976 - val_accuracy: 0.4853\n",
      "Epoch 157/300\n",
      "28/28 [==============================] - 0s 2ms/step - loss: 0.6871 - accuracy: 0.5662 - val_loss: 0.6949 - val_accuracy: 0.5441\n",
      "Epoch 158/300\n",
      "28/28 [==============================] - 0s 2ms/step - loss: 0.6887 - accuracy: 0.5110 - val_loss: 0.6958 - val_accuracy: 0.5441\n",
      "Epoch 159/300\n",
      "28/28 [==============================] - 0s 2ms/step - loss: 0.6886 - accuracy: 0.5184 - val_loss: 0.6999 - val_accuracy: 0.5294\n",
      "Epoch 160/300\n",
      "28/28 [==============================] - 0s 2ms/step - loss: 0.6897 - accuracy: 0.5368 - val_loss: 0.7034 - val_accuracy: 0.5441\n",
      "Epoch 161/300\n",
      "28/28 [==============================] - 0s 2ms/step - loss: 0.6899 - accuracy: 0.5368 - val_loss: 0.7010 - val_accuracy: 0.5000\n",
      "Epoch 162/300\n",
      "28/28 [==============================] - 0s 2ms/step - loss: 0.6886 - accuracy: 0.5221 - val_loss: 0.6997 - val_accuracy: 0.5294\n",
      "Epoch 163/300\n",
      "28/28 [==============================] - 0s 2ms/step - loss: 0.6893 - accuracy: 0.5221 - val_loss: 0.6997 - val_accuracy: 0.5441\n",
      "Epoch 164/300\n",
      "28/28 [==============================] - 0s 2ms/step - loss: 0.6891 - accuracy: 0.5404 - val_loss: 0.6963 - val_accuracy: 0.5441\n",
      "Epoch 165/300\n",
      "28/28 [==============================] - 0s 1ms/step - loss: 0.6907 - accuracy: 0.5257 - val_loss: 0.6928 - val_accuracy: 0.5294\n",
      "Epoch 166/300\n",
      "28/28 [==============================] - 0s 2ms/step - loss: 0.6874 - accuracy: 0.5478 - val_loss: 0.6889 - val_accuracy: 0.5294\n",
      "Epoch 167/300\n",
      "28/28 [==============================] - 0s 2ms/step - loss: 0.6858 - accuracy: 0.5662 - val_loss: 0.6901 - val_accuracy: 0.5735\n",
      "Epoch 168/300\n",
      "28/28 [==============================] - 0s 2ms/step - loss: 0.6869 - accuracy: 0.5478 - val_loss: 0.6934 - val_accuracy: 0.5588\n",
      "Epoch 169/300\n",
      "28/28 [==============================] - 0s 2ms/step - loss: 0.6882 - accuracy: 0.5478 - val_loss: 0.6832 - val_accuracy: 0.5588\n",
      "Epoch 170/300\n",
      "28/28 [==============================] - 0s 2ms/step - loss: 0.6892 - accuracy: 0.5368 - val_loss: 0.6944 - val_accuracy: 0.5588\n",
      "Epoch 171/300\n",
      "28/28 [==============================] - 0s 2ms/step - loss: 0.6864 - accuracy: 0.5441 - val_loss: 0.6948 - val_accuracy: 0.5441\n",
      "Epoch 172/300\n",
      "28/28 [==============================] - 0s 2ms/step - loss: 0.6907 - accuracy: 0.5221 - val_loss: 0.6951 - val_accuracy: 0.5147\n",
      "Epoch 173/300\n"
     ]
    },
    {
     "name": "stdout",
     "output_type": "stream",
     "text": [
      "28/28 [==============================] - 0s 2ms/step - loss: 0.6886 - accuracy: 0.5478 - val_loss: 0.6918 - val_accuracy: 0.5147\n",
      "Epoch 174/300\n",
      "28/28 [==============================] - 0s 3ms/step - loss: 0.6880 - accuracy: 0.5221 - val_loss: 0.6902 - val_accuracy: 0.5588\n",
      "Epoch 175/300\n",
      "28/28 [==============================] - 0s 3ms/step - loss: 0.6860 - accuracy: 0.5515 - val_loss: 0.6975 - val_accuracy: 0.5294\n",
      "Epoch 176/300\n",
      "28/28 [==============================] - 0s 3ms/step - loss: 0.6890 - accuracy: 0.5404 - val_loss: 0.7031 - val_accuracy: 0.5147\n",
      "Epoch 177/300\n",
      "28/28 [==============================] - 0s 2ms/step - loss: 0.6899 - accuracy: 0.5515 - val_loss: 0.6991 - val_accuracy: 0.5294\n",
      "Epoch 178/300\n",
      "28/28 [==============================] - 0s 2ms/step - loss: 0.6882 - accuracy: 0.5257 - val_loss: 0.6884 - val_accuracy: 0.5294\n",
      "Epoch 179/300\n",
      "28/28 [==============================] - 0s 2ms/step - loss: 0.6884 - accuracy: 0.5478 - val_loss: 0.6877 - val_accuracy: 0.5735\n",
      "Epoch 180/300\n",
      "28/28 [==============================] - 0s 2ms/step - loss: 0.6891 - accuracy: 0.5000 - val_loss: 0.6905 - val_accuracy: 0.5735\n",
      "Epoch 181/300\n",
      "28/28 [==============================] - 0s 2ms/step - loss: 0.6902 - accuracy: 0.4963 - val_loss: 0.6887 - val_accuracy: 0.5588\n",
      "Epoch 182/300\n",
      "28/28 [==============================] - 0s 2ms/step - loss: 0.6895 - accuracy: 0.5368 - val_loss: 0.6928 - val_accuracy: 0.5588\n",
      "Epoch 183/300\n",
      "28/28 [==============================] - 0s 2ms/step - loss: 0.6942 - accuracy: 0.5147 - val_loss: 0.7005 - val_accuracy: 0.5294\n",
      "Epoch 184/300\n",
      "28/28 [==============================] - 0s 2ms/step - loss: 0.6888 - accuracy: 0.5257 - val_loss: 0.6884 - val_accuracy: 0.5441\n",
      "Epoch 185/300\n",
      "28/28 [==============================] - 0s 2ms/step - loss: 0.6880 - accuracy: 0.5478 - val_loss: 0.6902 - val_accuracy: 0.5147\n",
      "Epoch 186/300\n",
      "28/28 [==============================] - 0s 2ms/step - loss: 0.6859 - accuracy: 0.5221 - val_loss: 0.6933 - val_accuracy: 0.5441\n",
      "Epoch 187/300\n",
      "28/28 [==============================] - 0s 2ms/step - loss: 0.6914 - accuracy: 0.5184 - val_loss: 0.7054 - val_accuracy: 0.4559\n",
      "Epoch 188/300\n",
      "28/28 [==============================] - 0s 2ms/step - loss: 0.6899 - accuracy: 0.5184 - val_loss: 0.7019 - val_accuracy: 0.5441\n",
      "Epoch 189/300\n",
      "28/28 [==============================] - 0s 2ms/step - loss: 0.6887 - accuracy: 0.5184 - val_loss: 0.6959 - val_accuracy: 0.5441\n",
      "Epoch 190/300\n",
      "28/28 [==============================] - 0s 2ms/step - loss: 0.6868 - accuracy: 0.5368 - val_loss: 0.6921 - val_accuracy: 0.5588\n",
      "Epoch 191/300\n",
      "28/28 [==============================] - 0s 2ms/step - loss: 0.6840 - accuracy: 0.5037 - val_loss: 0.6951 - val_accuracy: 0.5588\n",
      "Epoch 192/300\n",
      "28/28 [==============================] - 0s 2ms/step - loss: 0.6895 - accuracy: 0.5221 - val_loss: 0.6944 - val_accuracy: 0.5588\n",
      "Epoch 193/300\n",
      "28/28 [==============================] - 0s 2ms/step - loss: 0.6918 - accuracy: 0.5110 - val_loss: 0.6930 - val_accuracy: 0.5294\n",
      "Epoch 194/300\n",
      "28/28 [==============================] - 0s 2ms/step - loss: 0.6885 - accuracy: 0.5147 - val_loss: 0.6855 - val_accuracy: 0.5441\n",
      "Epoch 195/300\n",
      "28/28 [==============================] - 0s 2ms/step - loss: 0.6906 - accuracy: 0.5257 - val_loss: 0.6935 - val_accuracy: 0.5294\n",
      "Epoch 196/300\n",
      "28/28 [==============================] - 0s 2ms/step - loss: 0.6894 - accuracy: 0.5551 - val_loss: 0.6983 - val_accuracy: 0.5294\n",
      "Epoch 197/300\n",
      "28/28 [==============================] - 0s 2ms/step - loss: 0.6868 - accuracy: 0.5404 - val_loss: 0.6950 - val_accuracy: 0.5294\n",
      "Epoch 198/300\n",
      "28/28 [==============================] - 0s 2ms/step - loss: 0.6913 - accuracy: 0.5074 - val_loss: 0.6950 - val_accuracy: 0.5147\n",
      "Epoch 199/300\n",
      "28/28 [==============================] - 0s 2ms/step - loss: 0.6885 - accuracy: 0.5110 - val_loss: 0.6924 - val_accuracy: 0.5441\n",
      "Epoch 200/300\n",
      "28/28 [==============================] - 0s 2ms/step - loss: 0.6926 - accuracy: 0.5037 - val_loss: 0.6901 - val_accuracy: 0.5441\n",
      "Epoch 201/300\n",
      "28/28 [==============================] - 0s 2ms/step - loss: 0.6878 - accuracy: 0.5441 - val_loss: 0.6892 - val_accuracy: 0.5441\n",
      "Epoch 202/300\n",
      "28/28 [==============================] - 0s 2ms/step - loss: 0.6877 - accuracy: 0.5331 - val_loss: 0.6956 - val_accuracy: 0.5441\n",
      "Epoch 203/300\n",
      "28/28 [==============================] - 0s 2ms/step - loss: 0.6867 - accuracy: 0.5147 - val_loss: 0.7035 - val_accuracy: 0.5441\n",
      "Epoch 204/300\n",
      "28/28 [==============================] - 0s 1ms/step - loss: 0.6882 - accuracy: 0.5037 - val_loss: 0.7048 - val_accuracy: 0.5147\n",
      "Epoch 205/300\n",
      "28/28 [==============================] - 0s 1ms/step - loss: 0.6914 - accuracy: 0.5110 - val_loss: 0.7052 - val_accuracy: 0.5000\n",
      "Epoch 206/300\n",
      "28/28 [==============================] - 0s 2ms/step - loss: 0.6856 - accuracy: 0.5257 - val_loss: 0.7056 - val_accuracy: 0.5000\n",
      "Epoch 207/300\n",
      "28/28 [==============================] - 0s 2ms/step - loss: 0.6898 - accuracy: 0.5221 - val_loss: 0.6958 - val_accuracy: 0.5441\n",
      "Epoch 208/300\n",
      "28/28 [==============================] - 0s 2ms/step - loss: 0.6887 - accuracy: 0.5441 - val_loss: 0.6992 - val_accuracy: 0.5294\n",
      "Epoch 209/300\n",
      "28/28 [==============================] - 0s 2ms/step - loss: 0.6884 - accuracy: 0.5294 - val_loss: 0.6889 - val_accuracy: 0.5588\n",
      "Epoch 210/300\n",
      "28/28 [==============================] - 0s 2ms/step - loss: 0.6871 - accuracy: 0.5257 - val_loss: 0.6943 - val_accuracy: 0.5441\n",
      "Epoch 211/300\n",
      "28/28 [==============================] - 0s 2ms/step - loss: 0.6885 - accuracy: 0.5221 - val_loss: 0.6968 - val_accuracy: 0.5147\n",
      "Epoch 212/300\n",
      "28/28 [==============================] - 0s 2ms/step - loss: 0.6867 - accuracy: 0.5331 - val_loss: 0.6999 - val_accuracy: 0.5147\n",
      "Epoch 213/300\n",
      "28/28 [==============================] - 0s 2ms/step - loss: 0.6887 - accuracy: 0.5147 - val_loss: 0.6981 - val_accuracy: 0.5294\n",
      "Epoch 214/300\n",
      "28/28 [==============================] - 0s 2ms/step - loss: 0.6892 - accuracy: 0.5368 - val_loss: 0.6958 - val_accuracy: 0.5441\n",
      "Epoch 215/300\n",
      "28/28 [==============================] - 0s 2ms/step - loss: 0.6879 - accuracy: 0.5404 - val_loss: 0.6968 - val_accuracy: 0.5294\n",
      "Epoch 216/300\n",
      "28/28 [==============================] - 0s 2ms/step - loss: 0.6904 - accuracy: 0.5147 - val_loss: 0.6900 - val_accuracy: 0.5441\n",
      "Epoch 217/300\n",
      "28/28 [==============================] - 0s 2ms/step - loss: 0.6875 - accuracy: 0.5331 - val_loss: 0.6946 - val_accuracy: 0.5441\n",
      "Epoch 218/300\n",
      "28/28 [==============================] - 0s 2ms/step - loss: 0.6890 - accuracy: 0.4926 - val_loss: 0.6987 - val_accuracy: 0.5000\n",
      "Epoch 219/300\n",
      "28/28 [==============================] - 0s 2ms/step - loss: 0.6871 - accuracy: 0.5294 - val_loss: 0.6964 - val_accuracy: 0.5441\n",
      "Epoch 220/300\n",
      "28/28 [==============================] - 0s 2ms/step - loss: 0.6874 - accuracy: 0.5404 - val_loss: 0.6905 - val_accuracy: 0.5294\n",
      "Epoch 221/300\n",
      "28/28 [==============================] - 0s 2ms/step - loss: 0.6920 - accuracy: 0.5110 - val_loss: 0.6903 - val_accuracy: 0.5588\n",
      "Epoch 222/300\n",
      "28/28 [==============================] - 0s 2ms/step - loss: 0.6889 - accuracy: 0.5478 - val_loss: 0.6948 - val_accuracy: 0.5441\n",
      "Epoch 223/300\n",
      "28/28 [==============================] - 0s 2ms/step - loss: 0.6862 - accuracy: 0.5221 - val_loss: 0.6982 - val_accuracy: 0.4853\n",
      "Epoch 224/300\n",
      "28/28 [==============================] - 0s 2ms/step - loss: 0.6920 - accuracy: 0.5074 - val_loss: 0.6951 - val_accuracy: 0.5441\n",
      "Epoch 225/300\n",
      "28/28 [==============================] - 0s 2ms/step - loss: 0.6890 - accuracy: 0.5147 - val_loss: 0.6998 - val_accuracy: 0.5294\n",
      "Epoch 226/300\n",
      "28/28 [==============================] - 0s 2ms/step - loss: 0.6893 - accuracy: 0.5441 - val_loss: 0.6991 - val_accuracy: 0.5294\n",
      "Epoch 227/300\n",
      "28/28 [==============================] - 0s 2ms/step - loss: 0.6891 - accuracy: 0.5037 - val_loss: 0.6977 - val_accuracy: 0.5441\n",
      "Epoch 228/300\n",
      "28/28 [==============================] - 0s 2ms/step - loss: 0.6878 - accuracy: 0.5515 - val_loss: 0.7002 - val_accuracy: 0.5294\n",
      "Epoch 229/300\n",
      "28/28 [==============================] - 0s 2ms/step - loss: 0.6905 - accuracy: 0.5221 - val_loss: 0.6967 - val_accuracy: 0.5441\n",
      "Epoch 230/300\n",
      "28/28 [==============================] - 0s 2ms/step - loss: 0.6878 - accuracy: 0.5331 - val_loss: 0.6943 - val_accuracy: 0.5441\n",
      "Epoch 231/300\n",
      "28/28 [==============================] - 0s 2ms/step - loss: 0.6872 - accuracy: 0.5625 - val_loss: 0.6956 - val_accuracy: 0.5294\n",
      "Epoch 232/300\n",
      "28/28 [==============================] - 0s 2ms/step - loss: 0.6922 - accuracy: 0.5404 - val_loss: 0.7025 - val_accuracy: 0.5147\n",
      "Epoch 233/300\n",
      "28/28 [==============================] - 0s 2ms/step - loss: 0.6898 - accuracy: 0.5037 - val_loss: 0.7045 - val_accuracy: 0.5294\n",
      "Epoch 234/300\n",
      "28/28 [==============================] - 0s 2ms/step - loss: 0.6898 - accuracy: 0.5184 - val_loss: 0.7043 - val_accuracy: 0.5294\n",
      "Epoch 235/300\n",
      "28/28 [==============================] - 0s 2ms/step - loss: 0.6861 - accuracy: 0.5551 - val_loss: 0.7086 - val_accuracy: 0.5000\n",
      "Epoch 236/300\n",
      "28/28 [==============================] - 0s 2ms/step - loss: 0.6900 - accuracy: 0.5478 - val_loss: 0.7052 - val_accuracy: 0.5000\n",
      "Epoch 237/300\n",
      "28/28 [==============================] - 0s 2ms/step - loss: 0.6891 - accuracy: 0.5478 - val_loss: 0.7042 - val_accuracy: 0.5294\n",
      "Epoch 238/300\n",
      "28/28 [==============================] - 0s 2ms/step - loss: 0.6865 - accuracy: 0.5625 - val_loss: 0.6988 - val_accuracy: 0.5294\n",
      "Epoch 239/300\n",
      "28/28 [==============================] - 0s 2ms/step - loss: 0.6895 - accuracy: 0.5404 - val_loss: 0.6948 - val_accuracy: 0.5294\n",
      "Epoch 240/300\n",
      "28/28 [==============================] - 0s 2ms/step - loss: 0.6908 - accuracy: 0.5147 - val_loss: 0.6978 - val_accuracy: 0.5294\n",
      "Epoch 241/300\n",
      "28/28 [==============================] - 0s 2ms/step - loss: 0.6907 - accuracy: 0.5294 - val_loss: 0.6907 - val_accuracy: 0.5441\n",
      "Epoch 242/300\n",
      "28/28 [==============================] - 0s 2ms/step - loss: 0.6890 - accuracy: 0.5478 - val_loss: 0.6927 - val_accuracy: 0.5294\n",
      "Epoch 243/300\n",
      "28/28 [==============================] - 0s 2ms/step - loss: 0.6886 - accuracy: 0.5331 - val_loss: 0.6855 - val_accuracy: 0.5294\n",
      "Epoch 244/300\n",
      "28/28 [==============================] - 0s 2ms/step - loss: 0.6906 - accuracy: 0.5000 - val_loss: 0.6910 - val_accuracy: 0.5147\n",
      "Epoch 245/300\n",
      "28/28 [==============================] - 0s 2ms/step - loss: 0.6915 - accuracy: 0.5368 - val_loss: 0.6957 - val_accuracy: 0.5147\n",
      "Epoch 246/300\n",
      "28/28 [==============================] - 0s 2ms/step - loss: 0.6877 - accuracy: 0.5331 - val_loss: 0.6866 - val_accuracy: 0.5441\n",
      "Epoch 247/300\n",
      "28/28 [==============================] - 0s 2ms/step - loss: 0.6888 - accuracy: 0.5515 - val_loss: 0.6967 - val_accuracy: 0.5147\n",
      "Epoch 248/300\n",
      "28/28 [==============================] - 0s 2ms/step - loss: 0.6887 - accuracy: 0.5368 - val_loss: 0.6944 - val_accuracy: 0.5294\n",
      "Epoch 249/300\n",
      "28/28 [==============================] - 0s 2ms/step - loss: 0.6883 - accuracy: 0.5441 - val_loss: 0.6950 - val_accuracy: 0.5147\n",
      "Epoch 250/300\n",
      "28/28 [==============================] - 0s 2ms/step - loss: 0.6906 - accuracy: 0.5331 - val_loss: 0.7087 - val_accuracy: 0.4706\n",
      "Epoch 251/300\n",
      "28/28 [==============================] - 0s 2ms/step - loss: 0.6906 - accuracy: 0.5515 - val_loss: 0.7061 - val_accuracy: 0.5147\n",
      "Epoch 252/300\n",
      "28/28 [==============================] - 0s 2ms/step - loss: 0.6871 - accuracy: 0.5257 - val_loss: 0.7074 - val_accuracy: 0.5000\n",
      "Epoch 253/300\n",
      "28/28 [==============================] - 0s 2ms/step - loss: 0.6891 - accuracy: 0.5478 - val_loss: 0.7061 - val_accuracy: 0.5000\n",
      "Epoch 254/300\n",
      "28/28 [==============================] - 0s 2ms/step - loss: 0.6896 - accuracy: 0.5331 - val_loss: 0.7063 - val_accuracy: 0.4853\n",
      "Epoch 255/300\n",
      "28/28 [==============================] - 0s 2ms/step - loss: 0.6931 - accuracy: 0.5184 - val_loss: 0.7077 - val_accuracy: 0.5000\n",
      "Epoch 256/300\n",
      "28/28 [==============================] - 0s 3ms/step - loss: 0.6881 - accuracy: 0.5441 - val_loss: 0.7067 - val_accuracy: 0.4853\n",
      "Epoch 257/300\n",
      "28/28 [==============================] - 0s 2ms/step - loss: 0.6877 - accuracy: 0.5257 - val_loss: 0.7041 - val_accuracy: 0.5000\n",
      "Epoch 258/300\n",
      "28/28 [==============================] - 0s 2ms/step - loss: 0.6876 - accuracy: 0.5368 - val_loss: 0.7046 - val_accuracy: 0.5000\n",
      "Epoch 259/300\n",
      "28/28 [==============================] - 0s 2ms/step - loss: 0.6882 - accuracy: 0.5037 - val_loss: 0.6986 - val_accuracy: 0.5000\n",
      "Epoch 260/300\n",
      "28/28 [==============================] - 0s 2ms/step - loss: 0.6891 - accuracy: 0.5147 - val_loss: 0.6956 - val_accuracy: 0.5147\n",
      "Epoch 261/300\n",
      "28/28 [==============================] - 0s 2ms/step - loss: 0.6889 - accuracy: 0.5294 - val_loss: 0.7031 - val_accuracy: 0.5147\n",
      "Epoch 262/300\n",
      "28/28 [==============================] - 0s 2ms/step - loss: 0.6903 - accuracy: 0.5221 - val_loss: 0.7052 - val_accuracy: 0.5000\n",
      "Epoch 263/300\n",
      "28/28 [==============================] - 0s 2ms/step - loss: 0.6897 - accuracy: 0.5331 - val_loss: 0.7072 - val_accuracy: 0.5147\n",
      "Epoch 264/300\n",
      "28/28 [==============================] - 0s 2ms/step - loss: 0.6885 - accuracy: 0.5257 - val_loss: 0.7067 - val_accuracy: 0.5147\n",
      "Epoch 265/300\n",
      "28/28 [==============================] - 0s 2ms/step - loss: 0.6877 - accuracy: 0.5368 - val_loss: 0.7071 - val_accuracy: 0.5147\n",
      "Epoch 266/300\n",
      "28/28 [==============================] - 0s 2ms/step - loss: 0.6896 - accuracy: 0.5294 - val_loss: 0.7061 - val_accuracy: 0.5147\n",
      "Epoch 267/300\n",
      "28/28 [==============================] - 0s 2ms/step - loss: 0.6843 - accuracy: 0.5515 - val_loss: 0.7072 - val_accuracy: 0.5147\n",
      "Epoch 268/300\n",
      "28/28 [==============================] - 0s 2ms/step - loss: 0.6893 - accuracy: 0.5478 - val_loss: 0.7078 - val_accuracy: 0.5147\n",
      "Epoch 269/300\n",
      "28/28 [==============================] - 0s 2ms/step - loss: 0.6878 - accuracy: 0.5331 - val_loss: 0.7067 - val_accuracy: 0.5000\n",
      "Epoch 270/300\n",
      "28/28 [==============================] - 0s 2ms/step - loss: 0.6880 - accuracy: 0.5478 - val_loss: 0.7022 - val_accuracy: 0.5294\n",
      "Epoch 271/300\n",
      "28/28 [==============================] - 0s 2ms/step - loss: 0.6899 - accuracy: 0.5110 - val_loss: 0.7056 - val_accuracy: 0.5000\n",
      "Epoch 272/300\n",
      "28/28 [==============================] - 0s 2ms/step - loss: 0.6886 - accuracy: 0.5515 - val_loss: 0.7002 - val_accuracy: 0.5294\n",
      "Epoch 273/300\n",
      "28/28 [==============================] - 0s 2ms/step - loss: 0.6896 - accuracy: 0.5368 - val_loss: 0.7003 - val_accuracy: 0.5147\n",
      "Epoch 274/300\n",
      "28/28 [==============================] - 0s 2ms/step - loss: 0.6896 - accuracy: 0.5368 - val_loss: 0.7065 - val_accuracy: 0.5000\n",
      "Epoch 275/300\n",
      "28/28 [==============================] - 0s 2ms/step - loss: 0.6890 - accuracy: 0.5221 - val_loss: 0.7041 - val_accuracy: 0.4853\n",
      "Epoch 276/300\n",
      "28/28 [==============================] - 0s 2ms/step - loss: 0.6902 - accuracy: 0.5257 - val_loss: 0.7002 - val_accuracy: 0.5000\n",
      "Epoch 277/300\n",
      "28/28 [==============================] - 0s 2ms/step - loss: 0.6868 - accuracy: 0.5368 - val_loss: 0.7006 - val_accuracy: 0.5000\n",
      "Epoch 278/300\n",
      "28/28 [==============================] - 0s 2ms/step - loss: 0.6880 - accuracy: 0.5257 - val_loss: 0.6909 - val_accuracy: 0.5294\n",
      "Epoch 279/300\n",
      "28/28 [==============================] - 0s 2ms/step - loss: 0.6900 - accuracy: 0.5074 - val_loss: 0.7024 - val_accuracy: 0.5000\n",
      "Epoch 280/300\n",
      "28/28 [==============================] - 0s 2ms/step - loss: 0.6913 - accuracy: 0.5257 - val_loss: 0.7052 - val_accuracy: 0.5147\n",
      "Epoch 281/300\n",
      "28/28 [==============================] - 0s 2ms/step - loss: 0.6886 - accuracy: 0.5441 - val_loss: 0.7065 - val_accuracy: 0.5000\n",
      "Epoch 282/300\n",
      "28/28 [==============================] - 0s 2ms/step - loss: 0.6884 - accuracy: 0.5478 - val_loss: 0.7096 - val_accuracy: 0.4706\n",
      "Epoch 283/300\n",
      "28/28 [==============================] - 0s 2ms/step - loss: 0.6894 - accuracy: 0.5331 - val_loss: 0.7078 - val_accuracy: 0.4412\n",
      "Epoch 284/300\n",
      "28/28 [==============================] - 0s 2ms/step - loss: 0.6883 - accuracy: 0.5331 - val_loss: 0.7117 - val_accuracy: 0.4853\n",
      "Epoch 285/300\n",
      "28/28 [==============================] - 0s 2ms/step - loss: 0.6883 - accuracy: 0.5368 - val_loss: 0.7111 - val_accuracy: 0.5000\n",
      "Epoch 286/300\n",
      "28/28 [==============================] - 0s 2ms/step - loss: 0.6880 - accuracy: 0.5257 - val_loss: 0.7101 - val_accuracy: 0.4706\n",
      "Epoch 287/300\n"
     ]
    },
    {
     "name": "stdout",
     "output_type": "stream",
     "text": [
      "28/28 [==============================] - 0s 2ms/step - loss: 0.6883 - accuracy: 0.5257 - val_loss: 0.7051 - val_accuracy: 0.4706\n",
      "Epoch 288/300\n",
      "28/28 [==============================] - 0s 2ms/step - loss: 0.6894 - accuracy: 0.5404 - val_loss: 0.7037 - val_accuracy: 0.5000\n",
      "Epoch 289/300\n",
      "28/28 [==============================] - 0s 2ms/step - loss: 0.6906 - accuracy: 0.5257 - val_loss: 0.7080 - val_accuracy: 0.5000\n",
      "Epoch 290/300\n",
      "28/28 [==============================] - 0s 2ms/step - loss: 0.6861 - accuracy: 0.5625 - val_loss: 0.7107 - val_accuracy: 0.5000\n",
      "Epoch 291/300\n",
      "28/28 [==============================] - 0s 2ms/step - loss: 0.6882 - accuracy: 0.5294 - val_loss: 0.7084 - val_accuracy: 0.4853\n",
      "Epoch 292/300\n",
      "28/28 [==============================] - 0s 2ms/step - loss: 0.6863 - accuracy: 0.5404 - val_loss: 0.7000 - val_accuracy: 0.4706\n",
      "Epoch 293/300\n",
      "28/28 [==============================] - 0s 2ms/step - loss: 0.6875 - accuracy: 0.5331 - val_loss: 0.7067 - val_accuracy: 0.5000\n",
      "Epoch 294/300\n",
      "28/28 [==============================] - 0s 2ms/step - loss: 0.6852 - accuracy: 0.5478 - val_loss: 0.7083 - val_accuracy: 0.5147\n",
      "Epoch 295/300\n",
      "28/28 [==============================] - 0s 2ms/step - loss: 0.6886 - accuracy: 0.5147 - val_loss: 0.7089 - val_accuracy: 0.5000\n",
      "Epoch 296/300\n",
      "28/28 [==============================] - 0s 2ms/step - loss: 0.6897 - accuracy: 0.5000 - val_loss: 0.7131 - val_accuracy: 0.4853\n",
      "Epoch 297/300\n",
      "28/28 [==============================] - 0s 2ms/step - loss: 0.6871 - accuracy: 0.5184 - val_loss: 0.7098 - val_accuracy: 0.5147\n",
      "Epoch 298/300\n",
      "28/28 [==============================] - 0s 2ms/step - loss: 0.6902 - accuracy: 0.5331 - val_loss: 0.7123 - val_accuracy: 0.4853\n",
      "Epoch 299/300\n",
      "28/28 [==============================] - 0s 2ms/step - loss: 0.6890 - accuracy: 0.5441 - val_loss: 0.7113 - val_accuracy: 0.4853\n",
      "Epoch 300/300\n",
      "28/28 [==============================] - 0s 2ms/step - loss: 0.6883 - accuracy: 0.5551 - val_loss: 0.7112 - val_accuracy: 0.4853\n"
     ]
    },
    {
     "data": {
      "text/plain": [
       "<keras.callbacks.History at 0x190b12b0d30>"
      ]
     },
     "execution_count": 592,
     "metadata": {},
     "output_type": "execute_result"
    }
   ],
   "source": [
    "model9_.fit(X_train,y_train,batch_size=10,epochs=300,verbose=1,validation_split=0.2)"
   ]
  },
  {
   "cell_type": "code",
   "execution_count": 593,
   "id": "b4a18102",
   "metadata": {},
   "outputs": [
    {
     "name": "stdout",
     "output_type": "stream",
     "text": [
      "11/11 [==============================] - 0s 805us/step\n"
     ]
    }
   ],
   "source": [
    "pred9=model9_.predict(X_train)"
   ]
  },
  {
   "cell_type": "code",
   "execution_count": 594,
   "id": "903ce461",
   "metadata": {},
   "outputs": [
    {
     "data": {
      "text/plain": [
       "187    0\n",
       "378    1\n",
       "391    0\n",
       "296    0\n",
       "209    0\n",
       "      ..\n",
       "73     0\n",
       "220    0\n",
       "193    1\n",
       "335    0\n",
       "24     0\n",
       "Length: 340, dtype: int32"
      ]
     },
     "execution_count": 594,
     "metadata": {},
     "output_type": "execute_result"
    }
   ],
   "source": [
    "pred9=np.ravel(np.where(pred9<0.5,0,1))\n",
    "pred9=pd.Series(pred9)\n",
    "pred9.index=y_train.index\n",
    "pred9"
   ]
  },
  {
   "cell_type": "code",
   "execution_count": 595,
   "id": "34a66424",
   "metadata": {},
   "outputs": [],
   "source": [
    "from mlxtend.plotting import plot_decision_regions"
   ]
  },
  {
   "cell_type": "code",
   "execution_count": 596,
   "id": "96e11adb",
   "metadata": {},
   "outputs": [
    {
     "name": "stdout",
     "output_type": "stream",
     "text": [
      "3888/3888 [==============================] - 2s 613us/step\n"
     ]
    },
    {
     "data": {
      "text/plain": [
       "<AxesSubplot:>"
      ]
     },
     "execution_count": 596,
     "metadata": {},
     "output_type": "execute_result"
    },
    {
     "data": {
      "image/png": "[encoded data removed]",
      "text/plain": [
       "<Figure size 432x288 with 1 Axes>"
      ]
     },
     "metadata": {
      "needs_background": "light"
     },
     "output_type": "display_data"
    }
   ],
   "source": [
    "plot_decision_regions(X_train[[0,1]].values,y_train.values.astype(int),clf=model9_)"
   ]
  },
  {
   "cell_type": "code",
   "execution_count": 597,
   "id": "ac496a70",
   "metadata": {},
   "outputs": [
    {
     "data": {
      "text/plain": [
       "0.5323529411764706"
      ]
     },
     "execution_count": 597,
     "metadata": {},
     "output_type": "execute_result"
    }
   ],
   "source": [
    "metrics.accuracy_score(y_train,pred9)"
   ]
  },
  {
   "cell_type": "code",
   "execution_count": 598,
   "id": "471296e8",
   "metadata": {},
   "outputs": [
    {
     "data": {
      "text/plain": [
       "<AxesSubplot:xlabel='0', ylabel='1'>"
      ]
     },
     "execution_count": 598,
     "metadata": {},
     "output_type": "execute_result"
    },
    {
     "data": {
      "image/png": "[encoded data removed]",
      "text/plain": [
       "<Figure size 432x288 with 1 Axes>"
      ]
     },
     "metadata": {
      "needs_background": "light"
     },
     "output_type": "display_data"
    }
   ],
   "source": [
    "sns.scatterplot(x=X_train[0],y=X_train[1],hue=y_train)"
   ]
  },
  {
   "cell_type": "code",
   "execution_count": 599,
   "id": "80abe975",
   "metadata": {},
   "outputs": [
    {
     "data": {
      "text/plain": [
       "<AxesSubplot:xlabel='0', ylabel='1'>"
      ]
     },
     "execution_count": 599,
     "metadata": {},
     "output_type": "execute_result"
    },
    {
     "data": {
      "image/png": "[encoded data removed]",
      "text/plain": [
       "<Figure size 432x288 with 1 Axes>"
      ]
     },
     "metadata": {
      "needs_background": "light"
     },
     "output_type": "display_data"
    }
   ],
   "source": [
    "sns.scatterplot(x=X_train[0],y=X_train[1],hue=pred9)"
   ]
  },
  {
   "cell_type": "code",
   "execution_count": null,
   "id": "f0ecfff5",
   "metadata": {},
   "outputs": [],
   "source": [
    "---------------------"
   ]
  },
  {
   "cell_type": "code",
   "execution_count": null,
   "id": "d3047638",
   "metadata": {},
   "outputs": [],
   "source": []
  }
 ],
 "metadata": {
  "kernelspec": {
   "display_name": "Python 3 (ipykernel)",
   "language": "python",
   "name": "python3"
  },
  "language_info": {
   "codemirror_mode": {
    "name": "ipython",
    "version": 3
   },
   "file_extension": ".py",
   "mimetype": "text/x-python",
   "name": "python",
   "nbconvert_exporter": "python",
   "pygments_lexer": "ipython3",
   "version": "3.9.12"
  }
 },
 "nbformat": 4,
 "nbformat_minor": 5
}
